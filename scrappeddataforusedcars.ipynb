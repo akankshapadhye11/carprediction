{
 "cells": [
  {
   "cell_type": "markdown",
   "metadata": {},
   "source": [
    "# collecting data using web scrapping selenium"
   ]
  },
  {
   "cell_type": "code",
   "execution_count": 1,
   "metadata": {},
   "outputs": [
    {
     "name": "stdout",
     "output_type": "stream",
     "text": [
      "Requirement already satisfied: selenium in c:\\users\\abc\\anaconda3\\lib\\site-packages (4.4.3)\n",
      "Requirement already satisfied: urllib3[socks]~=1.26 in c:\\users\\abc\\anaconda3\\lib\\site-packages (from selenium) (1.26.13)\n",
      "Requirement already satisfied: trio-websocket~=0.9 in c:\\users\\abc\\anaconda3\\lib\\site-packages (from selenium) (0.9.2)\n",
      "Requirement already satisfied: certifi>=2021.10.8 in c:\\users\\abc\\anaconda3\\lib\\site-packages (from selenium) (2022.9.24)\n",
      "Requirement already satisfied: trio~=0.17 in c:\\users\\abc\\anaconda3\\lib\\site-packages (from selenium) (0.22.0)\n",
      "Requirement already satisfied: PySocks!=1.5.7,<2.0,>=1.5.6; extra == \"socks\" in c:\\users\\abc\\anaconda3\\lib\\site-packages (from urllib3[socks]~=1.26->selenium) (1.7.1)\n",
      "Requirement already satisfied: wsproto>=0.14 in c:\\users\\abc\\anaconda3\\lib\\site-packages (from trio-websocket~=0.9->selenium) (1.2.0)\n",
      "Requirement already satisfied: async-generator>=1.10 in c:\\users\\abc\\anaconda3\\lib\\site-packages (from trio-websocket~=0.9->selenium) (1.10)\n",
      "Requirement already satisfied: sniffio in c:\\users\\abc\\anaconda3\\lib\\site-packages (from trio~=0.17->selenium) (1.3.0)\n",
      "Requirement already satisfied: attrs>=19.2.0 in c:\\users\\abc\\anaconda3\\lib\\site-packages (from trio~=0.17->selenium) (19.3.0)\n",
      "Requirement already satisfied: sortedcontainers in c:\\users\\abc\\anaconda3\\lib\\site-packages (from trio~=0.17->selenium) (2.1.0)\n",
      "Requirement already satisfied: idna in c:\\users\\abc\\anaconda3\\lib\\site-packages (from trio~=0.17->selenium) (2.8)\n",
      "Requirement already satisfied: outcome in c:\\users\\abc\\anaconda3\\lib\\site-packages (from trio~=0.17->selenium) (1.2.0)\n",
      "Requirement already satisfied: exceptiongroup>=1.0.0rc9; python_version < \"3.11\" in c:\\users\\abc\\anaconda3\\lib\\site-packages (from trio~=0.17->selenium) (1.0.0rc9)\n",
      "Requirement already satisfied: cffi>=1.14; os_name == \"nt\" and implementation_name != \"pypy\" in c:\\users\\abc\\anaconda3\\lib\\site-packages (from trio~=0.17->selenium) (1.14.0)\n",
      "Requirement already satisfied: h11<1,>=0.9.0 in c:\\users\\abc\\anaconda3\\lib\\site-packages (from wsproto>=0.14->trio-websocket~=0.9->selenium) (0.14.0)\n",
      "Requirement already satisfied: pycparser in c:\\users\\abc\\anaconda3\\lib\\site-packages (from cffi>=1.14; os_name == \"nt\" and implementation_name != \"pypy\"->trio~=0.17->selenium) (2.19)\n",
      "Requirement already satisfied: typing-extensions; python_version < \"3.8\" in c:\\users\\abc\\anaconda3\\lib\\site-packages (from h11<1,>=0.9.0->wsproto>=0.14->trio-websocket~=0.9->selenium) (4.3.0)\n"
     ]
    }
   ],
   "source": [
    "!pip install selenium"
   ]
  },
  {
   "cell_type": "code",
   "execution_count": 2,
   "metadata": {},
   "outputs": [],
   "source": [
    "import selenium\n",
    "import pandas as pd\n",
    "from selenium import webdriver\n",
    "import warnings\n",
    "warnings.filterwarnings('ignore')\n",
    "from selenium.common.exceptions import StaleElementReferenceException, NoSuchElementException\n",
    "from selenium.webdriver.common.by import By\n",
    "import time"
   ]
  },
  {
   "cell_type": "code",
   "execution_count": 4,
   "metadata": {},
   "outputs": [],
   "source": [
    "#connecting to the driver\n",
    "driver=webdriver.Chrome(r\"C:\\python\\chromedriver.exe\")"
   ]
  },
  {
   "cell_type": "code",
   "execution_count": 5,
   "metadata": {},
   "outputs": [],
   "source": [
    "#opening the car24 page on automated chrome browse\n",
    "url='https://www.cars24.com'\n",
    "driver.get(url)\n",
    "#When we run this line, automatically the webpage will be opened"
   ]
  },
  {
   "cell_type": "markdown",
   "metadata": {},
   "source": [
    "scrapping data for delhi location"
   ]
  },
  {
   "cell_type": "code",
   "execution_count": 6,
   "metadata": {},
   "outputs": [],
   "source": [
    "year=[]\n",
    "y=driver.find_elements(By.XPATH,\"//h2[@class='_3FpCg']\")\n",
    "for i in y:\n",
    "    yr=i.text.split(' ')[0]\n",
    "    year.append(yr)"
   ]
  },
  {
   "cell_type": "code",
   "execution_count": 7,
   "metadata": {},
   "outputs": [
    {
     "name": "stdout",
     "output_type": "stream",
     "text": [
      "['2020', '2018', '2021', '2019', '2020', '2020', '2018', '2018', '2020', '2021', '2018', '2021', '2014', '2020', '2020', '2020', '2017', '2021', '2019', '2020', '2012', '2018', '2021', '2020', '2022', '2021', '2022', '2022', '2018', '2019', '2021', '2015', '2013', '2019', '2011', '2019', '2019', '2013', '2019', '2020', '2021', '2013', '2021', '2019', '2019', '2021', '2022', '2011', '2011', '2011', '2017', '2020', '2022', '2022', '2014', '2021', '2020', '2020', '2022', '2016', '2012', '2022', '2019', '2021', '2012', '2022', '2009', '2014', '2014', '2016', '2020', '2011', '2021', '2020', '2012', '2015', '2020', '2021', '2019', '2011', '2021', '2015', '2017', '2014', '2022', '2014', '2021', '2022', '2014', '2019', '2021', '2017', '2020', '2013', '2022', '2019', '2014', '2011', '2018', '2014', '2015', '2015', '2013', '2012', '2019', '2019', '2021', '2021', '2019', '2021', '2018', '2021', '2010', '2017', '2015', '2019', '2020', '2014', '2019', '2014', '2019', '2020', '2020', '2020', '2019', '2021', '2013', '2022', '2012', '2022', '2019', '2015', '2019', '2015', '2014', '2020', '2018', '2016', '2021', '2013', '2015', '2014', '2014', '2019', '2019', '2020', '2020', '2021', '2021', '2015', '2013', '2021', '2013', '2021', '2016', '2020', '2020', '2019', '2011', '2014', '2021', '2018', '2019', '2012', '2012', '2012', '2021', '2021', '2022', '2018', '2014', '2021', '2019', '2019', '2010', '2016', '2015', '2020', '2017', '2021', '2018', '2018', '2010', '2020', '2021', '2012', '2021', '2018', '2020', '2019', '2017', '2019', '2020', '2021', '2021', '2020', '2021', '2022', '2019', '2020', '2012', '2017', '2018', '2017', '2022', '2022', '2021', '2021', '2022', '2015', '2012', '2021', '2017', '2019', '2019', '2017', '2017', '2019', '2017', '2019', '2021', '2021', '2021', '2021', '2021', '2021', '2021', '2021', '2021', '2021', '2021', '2021', '2010', '2014', '2016', '2016', '2016', '2021', '2020', '2020', '2021', '2020', '2021', '2020', '2016', '2018', '2012', '2020', '2020', '2012', '2021', '2014', '2017', '2018', '2015', '2015', '2021', '2016', '2020', '2014', '2015', '2019', '2019', '2015', '2018', '2015', '2020', '2015', '2022', '2014', '2022', '2015', '2018', '2021', '2014', '2018', '2012', '2017', '2019', '2016', '2011', '2021', '2020', '2013', '2019', '2022', '2016', '2020', '2019', '2021', '2017', '2018', '2016', '2019', '2015', '2011', '2020', '2020', '2018', '2015', '2019', '2014', '2020', '2017', '2019', '2022', '2022', '2015', '2021', '2021', '2014', '2017', '2019', '2018', '2017', '2020', '2018', '2014', '2019', '2019', '2018', '2022', '2019', '2015', '2021', '2011', '2018', '2016', '2019', '2021', '2017', '2020', '2016', '2019', '2016', '2017', '2018', '2020', '2016', '2015', '2019', '2021', '2020', '2019', '2017', '2015', '2020', '2021', '2017', '2014', '2021', '2013', '2014', '2018', '2020', '2016', '2019', '2019', '2021', '2020', '2018', '2016', '2017', '2018', '2019', '2019', '2017', '2020', '2013', '2016', '2020', '2020', '2021', '2017', '2019', '2017', '2018', '2018', '2021', '2015', '2018', '2015', '2019', '2021', '2021', '2020', '2014', '2018', '2013', '2014', '2018', '2014', '2019', '2016', '2018', '2014', '2021', '2021', '2016', '2021', '2019', '2015', '2019', '2013', '2016', '2014', '2020', '2021', '2015', '2021', '2016', '2016', '2016', '2019', '2019', '2017', '2020', '2015', '2019', '2020', '2021', '2020', '2018', '2020', '2017', '2016', '2019', '2019', '2018', '2014', '2014', '2016', '2018', '2020', '2021', '2021', '2015', '2020', '2019', '2019', '2016', '2019', '2021', '2019', '2021', '2018', '2021', '2021', '2022', '2012', '2022', '2018', '2018', '2017', '2021', '2019', '2018', '2018', '2013', '2019', '2020', '2017', '2016', '2018', '2019', '2020', '2019', '2020', '2018', '2021', '2018', '2020', '2015', '2020', '2016', '2021', '2019', '2015', '2016', '2017', '2019', '2015', '2019', '2019', '2015', '2017', '2016', '2019', '2019', '2015', '2019', '2021', '2019', '2014', '2020', '2014', '2017', '2018', '2018', '2019', '2018', '2020', '2021', '2018', '2019', '2016', '2019', '2018', '2019', '2017', '2013', '2019', '2021', '2019', '2019', '2016', '2019', '2021', '2019', '2020', '2019', '2019', '2018', '2015', '2021', '2021', '2018', '2015', '2016', '2017', '2018', '2019', '2020', '2020', '2016', '2021', '2019', '2013', '2021', '2017', '2019', '2015', '2021', '2015', '2018', '2016', '2021', '2015', '2017', '2019', '2016', '2015', '2020', '2015', '2021', '2019', '2017', '2020', '2017', '2020', '2019', '2021', '2017', '2020', '2020', '2020', '2016', '2014', '2019', '2015', '2021', '2017', '2022', '2020', '2018', '2017', '2019', '2018', '2017', '2021', '2018', '2015', '2020', '2021', '2021', '2016', '2017', '2017', '2018', '2022', '2015', '2021', '2019', '2016', '2020', '2015', '2016', '2019', '2017', '2017', '2017', '2020', '2020', '2017', '2021', '2018', '2017', '2021', '2019', '2020', '2017', '2012', '2020', '2020', '2020', '2014', '2022', '2014', '2019', '2021', '2014', '2017', '2016', '2013', '2020', '2017', '2020', '2019', '2014', '2017', '2019', '2018', '2013', '2021', '2020', '2014', '2018', '2022', '2021', '2021', '2019', '2013', '2014', '2021', '2020', '2021', '2021', '2018', '2017', '2018', '2018', '2016', '2020', '2020', '2019', '2019', '2019', '2014', '2020', '2018', '2022', '2014', '2020', '2019', '2016', '2018', '2015', '2018', '2019', '2018', '2015', '2020', '2019', '2016', '2018', '2019', '2019', '2019', '2019', '2018', '2020', '2017', '2019', '2017', '2019', '2021', '2021', '2018', '2021', '2020', '2018', '2015', '2018', '2022', '2016', '2015', '2019', '2021', '2017', '2017', '2018', '2019', '2018', '2020', '2019', '2021', '2014', '2020', '2017', '2015', '2019', '2017', '2020', '2018', '2020', '2013', '2022', '2018', '2018', '2019', '2020', '2018', '2018', '2020', '2019', '2019', '2017', '2019', '2020', '2013', '2019', '2014', '2020', '2020', '2017', '2018', '2016', '2018', '2019', '2019', '2021', '2014', '2018', '2017', '2019', '2018', '2021', '2018', '2019', '2018', '2018', '2019', '2018', '2021', '2018', '2020', '2020', '2018', '2017', '2021', '2017', '2016', '2020', '2013', '2017', '2016', '2014', '2020', '2017', '2019', '2021', '2018', '2017', '2021', '2017', '2018', '2018', '2019', '2021', '2020', '2017', '2017', '2018', '2019', '2021', '2020', '2017', '2021', '2021', '2019', '2018', '2022', '2017', '2021', '2019', '2020', '2018', '2016', '2017', '2018', '2015', '2018', '2016', '2022', '2020', '2017', '2016', '2013', '2022', '2015', '2019', '2018', '2018', '2021', '2019', '2021', '2017', '2015', '2019', '2018', '2021', '2017', '2017', '2018', '2020', '2018', '2018', '2020', '2019', '2019', '2018', '2019', '2018', '2019', '2020', '2019', '2015', '2018', '2019', '2015', '2020', '2018', '2016', '2013', '2018', '2021', '2019', '2021', '2019', '2018', '2018', '2017', '2018', '2018', '2020', '2018', '2021', '2017', '2021', '2022', '2018', '2018', '2021', '2021', '2017', '2018', '2015', '2020', '2020', '2019', '2020', '2020', '2017', '2018', '2021', '2015', '2020', '2018', '2019', '2021']\n"
     ]
    }
   ],
   "source": [
    "print(year)"
   ]
  },
  {
   "cell_type": "code",
   "execution_count": 8,
   "metadata": {},
   "outputs": [
    {
     "data": {
      "text/plain": [
       "880"
      ]
     },
     "execution_count": 8,
     "metadata": {},
     "output_type": "execute_result"
    }
   ],
   "source": [
    "len(year)"
   ]
  },
  {
   "cell_type": "code",
   "execution_count": 9,
   "metadata": {},
   "outputs": [],
   "source": [
    "brand=[]\n",
    "b=driver.find_elements(By.XPATH,\"//h2[@class='_3FpCg']\")\n",
    "for i in b:\n",
    "    br=i.text.split(' ')[1]\n",
    "    brand.append(br)"
   ]
  },
  {
   "cell_type": "code",
   "execution_count": 10,
   "metadata": {},
   "outputs": [
    {
     "name": "stdout",
     "output_type": "stream",
     "text": [
      "['KIA', 'Hyundai', 'KIA', 'Maruti', 'Maruti', 'Maruti', 'Hyundai', 'Hyundai', 'Maruti', 'Hyundai', 'Hyundai', 'KIA', 'Mercedes', 'Maruti', 'Maruti', 'Maruti', 'Maruti', 'Renault', 'Datsun', 'KIA', 'Maruti', 'Datsun', 'Maruti', 'Maruti', 'Skoda', 'KIA', 'Hyundai', 'Renault', 'Datsun', 'KIA', 'Maruti', 'Maruti', 'Jaguar', 'Maruti', 'Maruti', 'Maruti', 'KIA', 'Hyundai', 'Maruti', 'Maruti', 'Hyundai', 'Maruti', 'Hyundai', 'Tata', 'KIA', 'Hyundai', 'Hyundai', 'Hyundai', 'Maruti', 'Hyundai', 'Hyundai', 'Maruti', 'Toyota', 'Honda', 'Honda', 'Maruti', 'Datsun', 'Maruti', 'Hyundai', 'Maruti', 'Maruti', 'Honda', 'Datsun', 'Maruti', 'Hyundai', 'Maruti', 'Maruti', 'Hyundai', 'Maruti', 'Maruti', 'KIA', 'Maruti', 'Maruti', 'Maruti', 'Hyundai', 'Maruti', 'Hyundai', 'Hyundai', 'Maruti', 'Honda', 'Hyundai', 'Maruti', 'Hyundai', 'Maruti', 'Maruti', 'Maruti', 'Toyota', 'Renault', 'Maruti', 'Maruti', 'Honda', 'Hyundai', 'Maruti', 'Maruti', 'Honda', 'Maruti', 'Maruti', 'Hyundai', 'Hyundai', 'Honda', 'Maruti', 'Volkswagen', 'Honda', 'Maruti', 'Honda', 'Maruti', 'Renault', 'Renault', 'Honda', 'Renault', 'Renault', 'Maruti', 'Maruti', 'Mahindra', 'Hyundai', 'Maruti', 'Maruti', 'Honda', 'Renault', 'Honda', 'Maruti', 'KIA', 'KIA', 'Renault', 'Jeep', 'Hyundai', 'Hyundai', 'Maruti', 'Maruti', 'Maruti', 'Maruti', 'Maruti', 'Maruti', 'Maruti', 'Maruti', 'KIA', 'Toyota', 'Maruti', 'Maruti', 'Honda', 'Maruti', 'Honda', 'Maruti', 'Honda', 'Renault', 'Maruti', 'KIA', 'Maruti', 'Maruti', 'Honda', 'Maruti', 'Renault', 'Honda', 'KIA', 'Maruti', 'Toyota', 'Toyota', 'Maruti', 'Maruti', 'Maruti', 'Maruti', 'Honda', 'Honda', 'Maruti', 'Honda', 'Maruti', 'Maruti', 'Renault', 'Maruti', 'Datsun', 'Honda', 'Datsun', 'Maruti', 'Hyundai', 'Maruti', 'Maruti', 'Maruti', 'Maruti', 'Hyundai', 'Maruti', 'Renault', 'Hyundai', 'Toyota', 'Hyundai', 'Maruti', 'Maruti', 'Maruti', 'Hyundai', 'Renault', 'Maruti', 'Honda', 'Tata', 'Hyundai', 'Hyundai', 'Volkswagen', 'Renault', 'Renault', 'Renault', 'Hyundai', 'Maruti', 'Maruti', 'Maruti', 'Volkswagen', 'Renault', 'Toyota', 'Tata', 'Toyota', 'Hyundai', 'MARUTI', 'Hyundai', 'Maruti', 'Nissan', 'Honda', 'Maruti', 'Honda', 'Hyundai', 'Honda', 'Maruti', 'Honda', 'Hyundai', 'Tata', 'Maruti', 'Maruti', 'Maruti', 'Maruti', 'Maruti', 'Maruti', 'Maruti', 'Maruti', 'Maruti', 'Maruti', 'Maruti', 'Maruti', 'Hyundai', 'Hyundai', 'Hyundai', 'Honda', 'Hyundai', 'Tata', 'KIA', 'Hyundai', 'Mahindra', 'Hyundai', 'MG', 'Maruti', 'Hyundai', 'Hyundai', 'Maruti', 'Tata', 'Honda', 'Maruti', 'Maruti', 'Hyundai', 'Maruti', 'Hyundai', 'Hyundai', 'Renault', 'Hyundai', 'Maruti', 'Honda', 'Hyundai', 'Honda', 'Honda', 'Maruti', 'Ford', 'Maruti', 'Maruti', 'Maruti', 'Renault', 'Hyundai', 'Hyundai', 'Ford', 'Honda', 'Maruti', 'Hyundai', 'Maruti', 'Maruti', 'Hyundai', 'Maruti', 'Hyundai', 'Toyota', 'Maruti', 'Renault', 'Honda', 'Renault', 'Maruti', 'Maruti', 'Maruti', 'Maruti', 'Maruti', 'Maruti', 'Honda', 'Honda', 'Maruti', 'Honda', 'Hyundai', 'Tata', 'Maruti', 'Hyundai', 'Hyundai', 'Maruti', 'Hyundai', 'Tata', 'Hyundai', 'Maruti', 'Maruti', 'MARUTI', 'Honda', 'Maruti', 'Nissan', 'Hyundai', 'Maruti', 'Honda', 'Maruti', 'Maruti', 'Renault', 'Renault', 'Maruti', 'Datsun', 'Renault', 'Maruti', 'Hyundai', 'Maruti', 'Honda', 'Maruti', 'Hyundai', 'Maruti', 'Maruti', 'Maruti', 'Maruti', 'Hyundai', 'Hyundai', 'Honda', 'Hyundai', 'Maruti', 'Honda', 'Maruti', 'Tata', 'Maruti', 'Maruti', 'MG', 'Tata', 'Tata', 'Maruti', 'Hyundai', 'Hyundai', 'Renault', 'Maruti', 'Honda', 'Hyundai', 'Tata', 'Honda', 'Honda', 'Mahindra', 'Maruti', 'Hyundai', 'Tata', 'Mahindra', 'Maruti', 'Maruti', 'Maruti', 'Honda', 'Honda', 'Honda', 'Maruti', 'Maruti', 'Toyota', 'Maruti', 'Maruti', 'Hyundai', 'Hyundai', 'Hyundai', 'Renault', 'Maruti', 'Hyundai', 'Honda', 'Honda', 'Hyundai', 'Maruti', 'Hyundai', 'Hyundai', 'Maruti', 'Renault', 'Maruti', 'Tata', 'Maruti', 'Maruti', 'Hyundai', 'Hyundai', 'Hyundai', 'Hyundai', 'Hyundai', 'Maruti', 'Maruti', 'Hyundai', 'Hyundai', 'Maruti', 'Tata', 'Maruti', 'Maruti', 'Maruti', 'Honda', 'Tata', 'Maruti', 'Maruti', 'Honda', 'Renault', 'Maruti', 'Honda', 'Hyundai', 'Hyundai', 'Maruti', 'Maruti', 'Hyundai', 'Maruti', 'Hyundai', 'Renault', 'Maruti', 'MG', 'Honda', 'Maruti', 'Honda', 'Renault', 'Mahindra', 'Hyundai', 'Maruti', 'Tata', 'Honda', 'Toyota', 'Honda', 'Maruti', 'Hyundai', 'Tata', 'Skoda', 'Maruti', 'Maruti', 'Hyundai', 'Hyundai', 'Toyota', 'Hyundai', 'Maruti', 'Maruti', 'Mahindra', 'Maruti', 'Hyundai', 'Maruti', 'Maruti', 'Hyundai', 'Hyundai', 'Maruti', 'Maruti', 'Honda', 'Hyundai', 'Maruti', 'Maruti', 'Maruti', 'Maruti', 'Maruti', 'Honda', 'MG', 'Tata', 'Hyundai', 'Hyundai', 'Maruti', 'Hyundai', 'Maruti', 'Maruti', 'Renault', 'Honda', 'Skoda', 'Maruti', 'Maruti', 'Honda', 'Hyundai', 'Hyundai', 'Maruti', 'Maruti', 'Maruti', 'Maruti', 'Maruti', 'Maruti', 'Hyundai', 'Honda', 'Hyundai', 'Volkswagen', 'Hyundai', 'Hyundai', 'Hyundai', 'Mahindra', 'Hyundai', 'Tata', 'Honda', 'Tata', 'Hyundai', 'Tata', 'Maruti', 'Maruti', 'Maruti', 'Hyundai', 'Mahindra', 'Maruti', 'Maruti', 'Maruti', 'Renault', 'Hyundai', 'Hyundai', 'Hyundai', 'Renault', 'Hyundai', 'Hyundai', 'Hyundai', 'Maruti', 'Mahindra', 'MG', 'Maruti', 'Maruti', 'Maruti', 'Ford', 'Maruti', 'Maruti', 'Hyundai', 'Hyundai', 'Maruti', 'Hyundai', 'Maruti', 'Maruti', 'Maruti', 'Hyundai', 'Hyundai', 'Maruti', 'Maruti', 'Maruti', 'Toyota', 'Maruti', 'Maruti', 'Tata', 'Maruti', 'Maruti', 'Maruti', 'Maruti', 'MG', 'Maruti', 'Maruti', 'Maruti', 'Maruti', 'Hyundai', 'Hyundai', 'Hyundai', 'Maruti', 'Maruti', 'Hyundai', 'Hyundai', 'Maruti', 'Maruti', 'Maruti', 'Hyundai', 'Hyundai', 'Maruti', 'Honda', 'Maruti', 'Maruti', 'Maruti', 'Maruti', 'Maruti', 'Honda', 'Maruti', 'Hyundai', 'Maruti', 'Hyundai', 'Maruti', 'Maruti', 'Hyundai', 'Maruti', 'Maruti', 'Hyundai', 'Maruti', 'MG', 'Maruti', 'Honda', 'Tata', 'Hyundai', 'Honda', 'Maruti', 'Mahindra', 'Tata', 'Maruti', 'Hyundai', 'Maruti', 'Maruti', 'Tata', 'Hyundai', 'Hyundai', 'Maruti', 'Hyundai', 'Tata', 'Hyundai', 'Ford', 'Maruti', 'Hyundai', 'Maruti', 'Maruti', 'Maruti', 'Maruti', 'Toyota', 'Maruti', 'Honda', 'Maruti', 'Datsun', 'Maruti', 'Maruti', 'Hyundai', 'Maruti', 'Maruti', 'Mahindra', 'Renault', 'Hyundai', 'Tata', 'Honda', 'Maruti', 'MG', 'Maruti', 'Maruti', 'Hyundai', 'Hyundai', 'Maruti', 'Honda', 'Skoda', 'Mahindra', 'Toyota', 'Hyundai', 'Maruti', 'Maruti', 'Hyundai', 'Hyundai', 'Hyundai', 'Hyundai', 'Hyundai', 'Renault', 'Tata', 'Maruti', 'Maruti', 'Maruti', 'Maruti', 'Maruti', 'Maruti', 'Tata', 'Tata', 'Maruti', 'Maruti', 'Maruti', 'Hyundai', 'Hyundai', 'Maruti', 'Tata', 'Tata', 'Hyundai', 'Maruti', 'Maruti', 'Renault', 'Hyundai', 'Tata', 'Maruti', 'Maruti', 'Hyundai', 'Maruti', 'Maruti', 'Hyundai', 'Hyundai', 'Hyundai', 'Maruti', 'Hyundai', 'Maruti', 'Maruti', 'Hyundai', 'Maruti', 'Renault', 'Maruti', 'Hyundai', 'Maruti', 'Hyundai', 'Maruti', 'Honda', 'Maruti', 'Hyundai', 'Hyundai', 'Maruti', 'Maruti', 'Maruti', 'Tata', 'Maruti', 'Hyundai', 'Maruti', 'Maruti', 'Mahindra', 'Hyundai', 'Maruti', 'Maruti', 'Volkswagen', 'Mahindra', 'Hyundai', 'Maruti', 'Hyundai', 'Maruti', 'Hyundai', 'Hyundai', 'Hyundai', 'Maruti', 'Maruti', 'Honda', 'Maruti', 'Maruti', 'Hyundai', 'Maruti', 'Hyundai', 'Hyundai', 'Maruti', 'Maruti', 'Maruti', 'Volkswagen', 'Maruti', 'Honda', 'Hyundai', 'Maruti', 'Tata', 'Maruti', 'Ford', 'Hyundai', 'Honda', 'Maruti', 'Honda', 'Maruti', 'Hyundai', 'Maruti', 'Maruti', 'Maruti', 'Maruti', 'Maruti', 'Maruti', 'Maruti', 'Maruti', 'Tata', 'Hyundai', 'Maruti', 'Maruti', 'Toyota', 'Maruti', 'Maruti', 'Hyundai', 'Tata', 'Maruti', 'Maruti', 'Tata', 'Maruti', 'Tata', 'Maruti', 'Maruti', 'Maruti', 'Hyundai', 'Honda', 'Volkswagen', 'Hyundai', 'Maruti', 'Honda', 'Maruti', 'Maruti', 'Hyundai', 'Hyundai', 'Maruti', 'Maruti', 'Maruti', 'Renault', 'Maruti', 'Maruti', 'Maruti', 'Maruti', 'Maruti', 'Tata', 'Maruti', 'Maruti', 'Honda', 'Maruti', 'Hyundai', 'Maruti', 'Hyundai', 'Maruti', 'Maruti', 'Maruti', 'Maruti', 'Maruti', 'Maruti', 'Hyundai', 'Skoda', 'Hyundai', 'Maruti', 'Maruti', 'Maruti', 'Volkswagen', 'Maruti', 'Hyundai', 'Hyundai', 'Maruti', 'Maruti', 'Maruti', 'Mahindra', 'Maruti', 'Hyundai', 'Maruti', 'Maruti', 'Maruti', 'Hyundai', 'Maruti', 'Maruti', 'Maruti', 'Hyundai', 'Maruti', 'Mahindra', 'Hyundai', 'Maruti', 'Hyundai', 'Maruti', 'Maruti', 'Maruti', 'Honda', 'Hyundai', 'Maruti', 'Maruti', 'Mahindra', 'Maruti', 'Maruti', 'Maruti', 'Maruti', 'Maruti', 'Maruti', 'Ford', 'Maruti', 'Maruti', 'Maruti', 'Maruti', 'Mahindra', 'Hyundai', 'Maruti', 'Maruti', 'Ford', 'Hyundai', 'Tata', 'Maruti', 'Hyundai', 'Mahindra', 'Hyundai', 'Maruti', 'Maruti', 'Hyundai', 'Hyundai', 'Maruti', 'Maruti', 'Maruti', 'Maruti', 'Maruti', 'Mahindra', 'Tata', 'Maruti', 'Datsun', 'Hyundai', 'Maruti', 'Hyundai', 'Maruti', 'Hyundai', 'Maruti', 'Maruti', 'Maruti', 'Maruti', 'Maruti', 'Maruti', 'Maruti', 'Maruti', 'Maruti', 'Skoda', 'Maruti', 'Maruti', 'Maruti']\n"
     ]
    }
   ],
   "source": [
    "print(brand)"
   ]
  },
  {
   "cell_type": "code",
   "execution_count": 11,
   "metadata": {},
   "outputs": [
    {
     "data": {
      "text/plain": [
       "880"
      ]
     },
     "execution_count": 11,
     "metadata": {},
     "output_type": "execute_result"
    }
   ],
   "source": [
    "len(brand)"
   ]
  },
  {
   "cell_type": "code",
   "execution_count": 12,
   "metadata": {},
   "outputs": [],
   "source": [
    "model=[]\n",
    "m=driver.find_elements(By.XPATH,\"//h2[@class='_3FpCg']\")\n",
    "for i in m:\n",
    "    mo=i.text.split(' ')[2]\n",
    "    model.append(mo)"
   ]
  },
  {
   "cell_type": "code",
   "execution_count": 13,
   "metadata": {},
   "outputs": [
    {
     "name": "stdout",
     "output_type": "stream",
     "text": [
      "['SELTOS', 'Grand', 'SELTOS', 'Swift', 'Swift', 'Swift', 'Grand', 'Grand', 'Swift', 'AURA', 'Grand', 'SONET', 'Benz', 'Swift', 'Swift', 'Swift', 'Baleno', 'Kiger', 'Redi', 'SELTOS', 'A', 'Redi', 'Celerio', 'Swift', 'KUSHAQ', 'SONET', 'VENUE', 'Kiger', 'Redi', 'SELTOS', 'Swift', 'Alto', 'XF', 'Swift', 'Alto', 'Swift', 'SELTOS', 'Grand', 'New', 'New', 'NEW', 'Wagon', 'NEW', 'NEXON', 'SELTOS', 'AURA', 'VENUE', 'i10', 'Wagon', 'i10', 'Verna', 'Baleno', 'URBAN', 'City', 'Brio', 'Celerio', 'Go', 'Swift', 'VENUE', 'Wagon', 'Swift', 'Amaze', 'Redi', 'Vitara', 'i10', 'New', 'A', 'Eon', 'Alto', 'Alto', 'SELTOS', 'Wagon', 'New', 'New', 'i10', 'Wagon', 'AURA', 'AURA', 'New', 'Accord', 'Creta', 'Wagon', 'Elite', 'Wagon', 'Celerio', 'Wagon', 'URBAN', 'Kwid', 'Wagon', 'Swift', 'City', 'Eon', 'New', 'Swift', 'City', 'New', 'Alto', 'i10', 'Tucson', 'City', 'Alto', 'Polo', 'Amaze', 'Alto', 'City', 'Ciaz', 'Kwid', 'Kwid', 'Amaze', 'Kwid', 'Kwid', 'Swift', 'Wagon', 'Scorpio', 'Elite', 'Celerio', 'Swift', 'City', 'Kwid', 'City', 'Baleno', 'SELTOS', 'SONET', 'Kwid', 'Compass', 'Creta', 'Grand', 'Alto', 'Swift', 'Swift', 'Baleno', 'Alto', 'Baleno', 'Baleno', 'Alto', 'SONET', 'YARIS', 'Celerio', 'New', 'Brio', 'Ertiga', 'Amaze', 'Swift', 'Jazz', 'Kwid', 'Alto', 'SELTOS', 'Swift', 'Alto', 'City', 'Alto', 'Kwid', 'Brio', 'SONET', 'Baleno', 'URBAN', 'URBAN', 'New', 'Wagon', 'Wagon', 'New', 'City', 'City', 'Alto', 'Brio', 'Alto', 'New', 'Kwid', 'New', 'Redi', 'Amaze', 'Redi', 'New', 'NEW', 'Alto', 'Alto', 'Wagon', 'Baleno', 'Grand', 'New', 'Kwid', 'Elite', 'Corolla', 'Creta', 'Baleno', 'Swift', 'New', 'Grand', 'Kwid', 'New', 'City', 'Tiago', 'AURA', 'VENUE', 'Polo', 'Kwid', 'Kiger', 'Kiger', 'Verna', 'Alto', 'Swift', 'Wagon', 'Polo', 'Kwid', 'URBAN', 'Harrier', 'URBAN', 'VENUE', 'BREZZA', 'Elite', 'Swift', 'MAGNITE', 'Jazz', 'Ciaz', 'Amaze', 'Grand', 'City', 'Ciaz', 'City', 'Grand', 'Tiago', 'S', 'S', 'S', 'S', 'S', 'S', 'S', 'S', 'S', 'S', 'S', 'Alto', 'i10', 'Elite', 'Grand', 'Amaze', 'AURA', 'Tiago', 'SELTOS', 'NEW', 'KUV', 'NEW', 'HECTOR', 'Swift', 'Verna', 'i20', 'Baleno', 'ALTROZ', 'Brio', 'Alto', 'Wagon', 'Grand', 'Swift', 'Elite', 'i10', 'Kiger', 'Grand', 'New', 'City', 'i10', 'Amaze', 'Amaze', 'Alto', 'Figo', 'Alto', 'Baleno', 'Swift', 'Kwid', 'i10', 'VENUE', 'Ecosport', 'City', 'New', 'Verna', 'Alto', 'Swift', 'Grand', 'Baleno', 'i10', 'Etios', 'New', 'Kwid', 'City', 'Kwid', 'Alto', 'Ciaz', 'New', 'IGNIS', 'New', 'Ciaz', 'Amaze', 'City', 'Baleno', 'Jazz', 'i20', 'ALTROZ', 'New', 'Grand', 'Eon', 'Baleno', 'Grand', 'ALTROZ', 'Grand', 'Ciaz', 'New', 'BREZZA', 'Jazz', 'New', 'MAGNITE', 'i10', 'Alto', 'Amaze', 'Swift', 'Swift', 'Kwid', 'Kwid', 'Alto', 'Redi', 'Kwid', 'Wagon', 'NEW', 'Baleno', 'City', 'New', 'i10', 'Swift', 'Swift', 'Ciaz', 'New', 'Verna', 'GRAND', 'Amaze', 'Elite', 'Alto', 'City', 'Alto', 'ALTROZ', 'Swift', 'Celerio', 'HECTOR', 'ALTROZ', 'ALTROZ', 'Dzire', 'Grand', 'Elite', 'Kwid', 'New', 'City', 'i20', 'Tiago', 'Brio', 'Amaze', 'XUV500', 'New', 'Elite', 'NEXON', 'XUV500', 'Alto', 'New', 'Baleno', 'Amaze', 'City', 'City', 'New', 'New', 'Corolla', 'New', 'Swift', 'Verna', 'Creta', 'VENUE', 'Kwid', 'Dzire', 'NEW', 'City', 'Amaze', 'Verna', 'Alto', 'Verna', 'Grand', 'Celerio', 'Kwid', 'New', 'ALTROZ', 'Baleno', 'Swift', 'Tucson', 'Eon', 'Xcent', 'Creta', 'Grand', 'New', 'Alto', 'Creta', 'i20', 'New', 'Harrier', 'Alto', 'New', 'New', 'City', 'NEXON', 'Swift', 'Alto', 'City', 'Kwid', 'New', 'City', 'NEW', 'Creta', 'Celerio', 'Celerio', 'Creta', 'Ciaz', 'Grand', 'Kwid', 'Wagon', 'HECTOR', 'City', 'Alto', 'City', 'Kwid', 'XUV', 'Grand', 'Alto', 'NEXON', 'Jazz', 'Corolla', 'Amaze', 'Alto', 'Grand', 'NEXON', 'Rapid', 'New', 'Alto', 'Elite', 'Verna', 'Innova', 'Grand', 'Baleno', 'New', 'Thar', 'New', 'VENUE', 'Dzire', 'Alto', 'NEW', 'VENUE', 'Alto', 'Celerio', 'Jazz', 'Eon', 'Dzire', 'Swift', 'Baleno', 'Alto', 'Wagon', 'Brio', 'HECTOR', 'ALTROZ', 'Grand', 'Grand', 'Baleno', 'NEW', 'New', 'Alto', 'Kwid', 'Amaze', 'Rapid', 'Celerio', 'Ciaz', 'City', 'VENUE', 'Elite', 'IGNIS', 'Dzire', 'Wagon', 'Baleno', 'Alto', 'Ciaz', 'Elite', 'Amaze', 'Creta', 'Polo', 'Elite', 'Creta', 'GRAND', 'XUV500', 'Grand', 'NEXON', 'Amaze', 'NEXON', 'Xcent', 'ALTROZ', 'Swift', 'Ciaz', 'Baleno', 'Elite', 'TUV300', 'Baleno', 'Baleno', 'Ciaz', 'Kwid', 'Creta', 'Grand', 'VENUE', 'Kwid', 'VENUE', 'Creta', 'Verna', 'Ciaz', 'Thar', 'HECTOR', 'Celerio', 'Baleno', 'Dzire', 'Ecosport', 'Ciaz', 'New', 'VENUE', 'Creta', 'Celerio', 'Elite', 'Dzire', 'Alto', 'Baleno', 'Elite', 'Grand', 'Baleno', 'Baleno', 'New', 'YARIS', 'IGNIS', 'Baleno', 'Tiago', 'Celerio', 'Swift', 'New', 'Ciaz', 'HECTOR', 'Swift', 'New', 'Swift', 'IGNIS', 'Grand', 'GRAND', 'Elite', 'Wagon', 'New', 'Creta', 'Creta', 'New', 'Swift', 'Alto', 'Creta', 'Grand', 'New', 'WR-V', 'Baleno', 'Baleno', 'New', 'Wagon', 'Baleno', 'City', 'Baleno', 'Grand', 'Swift', 'Creta', 'Swift', 'Alto', 'Creta', 'S', 'New', 'Creta', 'Celerio', 'HECTOR', 'Alto', 'City', 'Harrier', 'Elite', 'Jazz', 'New', 'Scorpio', 'NEXON', 'Baleno', 'Grand', 'Baleno', 'Alto', 'Tiago', 'Elite', 'NEW', 'Baleno', 'Creta', 'Harrier', 'Elite', 'Ecosport', 'Alto', 'Elite', 'Alto', 'Alto', 'Baleno', 'New', 'Corolla', 'Ciaz', 'WR-V', 'Ciaz', 'Redi', 'Baleno', 'Baleno', 'Elite', 'Swift', 'New', 'Scorpio', 'Kwid', 'Verna', 'Tiago', 'Amaze', 'Baleno', 'HECTOR', 'Swift', 'Swift', 'Creta', 'Verna', 'Baleno', 'Amaze', 'Rapid', 'TUV300', 'Corolla', 'Grand', 'Ciaz', 'Swift', 'i20', 'VENUE', 'NEW', 'Xcent', 'Elite', 'Duster', 'ALTROZ', 'New', 'Baleno', 'Swift', 'Swift', 'New', 'S', 'TIGOR', 'NEXON', 'Swift', 'Celerio', 'Swift', 'Creta', 'Grand', 'Baleno', 'NEXON', 'Harrier', 'Creta', 'Alto', 'Ritz', 'TRIBER', 'Creta', 'Tiago', 'Wagon', 'New', 'GRAND', 'Baleno', 'Alto', 'Grand', 'Creta', 'VENUE', 'Alto', 'Creta', 'IGNIS', 'Celerio', 'Grand', 'Swift', 'Kwid', 'Baleno', 'Creta', 'New', 'NEW', 'New', 'City', 'New', 'Creta', 'Elite', 'Celerio', 'IGNIS', 'Baleno', 'Harrier', 'S', 'Creta', 'Ciaz', 'Celerio', 'Thar', 'Elite', 'Baleno', 'New', 'Polo', 'XUV500', 'Grand', 'Alto', 'Elite', 'Swift', 'GRAND', 'NEW', 'VENUE', 'Ritz', 'Baleno', 'City', 'Ciaz', 'Alto', 'Elite', 'S', 'Creta', 'NEW', 'Swift', 'Vitara', 'Baleno', 'Polo', 'New', 'City', 'Creta', 'Celerio', 'Harrier', 'Alto', 'Ecosport', 'Elite', 'WR-V', 'New', 'Brio', 'New', 'Elite', 'Baleno', 'New', 'Dzire', 'Celerio', 'Baleno', 'Wagon', 'Baleno', 'XL6', 'TIGOR', 'Elite', 'Ciaz', 'Alto', 'Etios', 'Wagon', 'IGNIS', 'Creta', 'Tiago', 'Baleno', 'Alto', 'Harrier', 'Alto', 'Safari', 'Baleno', 'Vitara', 'Alto', 'Creta', 'WR-V', 'Vento', 'Elite', 'Baleno', 'City', 'Wagon', 'Alto', 'Elite', 'Grand', 'Vitara', 'Ciaz', 'Alto', 'Duster', 'IGNIS', 'Ciaz', 'Alto', 'Baleno', 'Alto', 'NEXON', 'Baleno', 'Alto', 'Jazz', 'Alto', 'Grand', 'Baleno', 'Elite', 'Baleno', 'Vitara', 'Alto', 'Baleno', 'S', 'New', 'Creta', 'SLAVIA', 'Grand', 'Baleno', 'Baleno', 'Celerio', 'TIGUAN', 'Alto', 'Elite', 'Elite', 'Swift', 'Wagon', 'Baleno', 'Thar', 'Alto', 'Grand', 'Baleno', 'Swift', 'Vitara', 'Grand', 'Vitara', 'IGNIS', 'Baleno', 'GRAND', 'Baleno', 'XUV', 'Grand', 'Swift', 'Creta', 'Alto', 'Alto', 'Wagon', 'WR-V', 'Creta', 'S', 'Alto', 'Scorpio', 'New', 'Vitara', 'Baleno', 'Alto', 'New', 'Alto', 'Ecosport', 'New', 'Alto', 'Baleno', 'Swift', 'TUV300', 'Grand', 'New', 'Swift', 'Ecosport', 'i20', 'Tiago', 'S', 'NEW', 'Thar', 'NEW', 'Baleno', 'Baleno', 'Elite', 'Creta', 'IGNIS', 'Baleno', 'Alto', 'Alto', 'Ciaz', 'Scorpio', 'NEXON', 'Swift', 'Redi', 'NEW', 'S', 'Elite', 'Ciaz', 'Grand', 'Baleno', 'S', 'XL6', 'Baleno', 'Baleno', 'Swift', 'Alto', 'S', 'Ciaz', 'Rapid', 'Alto', 'Baleno', 'S']\n"
     ]
    }
   ],
   "source": [
    "print(model)"
   ]
  },
  {
   "cell_type": "code",
   "execution_count": 14,
   "metadata": {},
   "outputs": [
    {
     "data": {
      "text/plain": [
       "880"
      ]
     },
     "execution_count": 14,
     "metadata": {},
     "output_type": "execute_result"
    }
   ],
   "source": [
    "len(model)"
   ]
  },
  {
   "cell_type": "code",
   "execution_count": 15,
   "metadata": {},
   "outputs": [],
   "source": [
    "kms=[]\n",
    "k=driver.find_elements(By.XPATH,\"//ul[@class='bVR0c']\")\n",
    "for i in k:\n",
    "    km=i.text.split(\"\\n\")[0]\n",
    "    km=i.text.split(\" \")[0]\n",
    "    kms.append(km)"
   ]
  },
  {
   "cell_type": "code",
   "execution_count": 16,
   "metadata": {},
   "outputs": [
    {
     "data": {
      "text/plain": [
       "880"
      ]
     },
     "execution_count": 16,
     "metadata": {},
     "output_type": "execute_result"
    }
   ],
   "source": [
    "len(kms)"
   ]
  },
  {
   "cell_type": "code",
   "execution_count": 17,
   "metadata": {},
   "outputs": [
    {
     "name": "stdout",
     "output_type": "stream",
     "text": [
      "['4,765', '5,505', '5,500', '14,097', '12,421', '16,633', '12,582', '26,383', '36,522', '5,296', '20,124', '6,255', '38,381', '3,192', '38,580', '20,792', '26,452', '47,124', '21,787', '10,617', '74,026', '33,552', '10,518', '18,235', '2,696', '7,115', '9,463', '2,404', '22,237', '19,173', '4,888', '28,273', '29,159', '36,455', '30,834', '45,291', '25,687', '14,057', '3,619', '4,793', '6,090', '59,452', '2,867', '20,950', '24,991', '26,468', '15,101', '45,437', '28,971', '72,404', '51,625', '10,956', '4,229', '4,502', '82,621', '56,772', '13,846', '21,463', '3,091', '45,735', '29,410', '3,200', '15,528', '14,399', '28,619', '3,028', '47,542', '34,229', '28,612', '12,769', '18,469', '41,881', '9,521', '7,292', '30,492', '70,404', '63,337', '34,469', '9,145', '63,041', '17,032', '58,893', '32,935', '11,221', '1,872', '23,371', '6,972', '3,303', '32,779', '29,947', '5,752', '62,969', '10,657', '26,065', '1,685', '9,229', '57,971', '56,559', '33,253', '49,304', '72,384', '81,516', '58,239', '59,976', '11,895', '61,867', '7,336', '6,883', '28,171', '16,973', '47,627', '7,906', '67,081', '52,999', '53,623', '6,373', '35,928', '83,242', '8,297', '61,168', '9,000', '36,251', '11,734', '10,720', '23,690', '14,697', '79,166', '2,037', '14,105', '7,638', '19,276', '23,271', '8,522', '28,797', '70,821', '12,456', '14,652', '57,337', '4,970', '35,900', '50,143', '27,324', '38,606', '8,594', '13,045', '2,219', '41,825', '5,109', '2,132', '76,436', '24,093', '11,332', '26,749', '14,863', '18,856', '22,874', '44,379', '19,253', '47,706', '25,858', '3,595', '28,267', '70,173', '71,273', '42,454', '18,288', '3,897', '11,546', '8,701', '5,892', '66,473', '7,328', '16,027', '14,334', '52,037', '67,618', '29,947', '10,914', '19,318', '3,339', '53,629', '24,582', '45,566', '19,090', '3,719', '61,580', '56,049', '30,844', '12,081', '13,184', '70,136', '7,917', '23,744', '16,364', '49,130', '13,264', '9,832', '4,062', '90,381', '15,023', '29,012', '26,529', '28,361', '78,354', '4,838', '7,637', '18,274', '29,056', '4,752', '72,521', '69,375', '13,717', '20,158', '60,724', '14,686', '13,759', '39,749', '38,917', '61,703', '20,969', '16,183', '66', '70', '69', '74', '64', '189', '67', '67', '65', '68', '74', '48,178', '41,439', '33,679', '23,365', '28,906', '11,953', '22,230', '28,411', '18,700', '26,959', '21,421', '32,463', '29,619', '40,226', '56,159', '17,966', '17,185', '63,169', '20,206', '32,907', '28,323', '42,705', '58,457', '33,536', '17,094', '18,220', '18,137', '60,214', '42,204', '46,415', '40,167', '52,016', '74,534', '58,267', '18,303', '46,303', '12,612', '72,110', '13,237', '47,766', '14,363', '20,558', '42,229', '53,139', '74,661', '17,614', '8,889', '40,937', '35,311', '20,784', '19,821', '45,385', '25,884', '9,585', '41,796', '8,618', '49,640', '19,442', '58,767', '35,296', '92,231', '11,825', '34,185', '88,129', '23,053', '12,475', '62,638', '46,556', '24,690', '47,940', '18,544', '35,701', '70,019', '11,354', '9,023', '37,993', '15,799', '10,915', '68,664', '37,367', '19,470', '31,027', '58,047', '43,543', '15,076', '71,068', '42,127', '27,647', '14,072', '14,919', '25,920', '72,613', '16,772', '37,493', '28,552', '23,616', '34,678', '31,023', '13,163', '16,261', '16,588', '49,439', '24,951', '77,797', '6,740', '16,787', '24,287', '49,821', '59,094', '40,005', '21,058', '21,477', '9,847', '36,528', '11,620', '10,896', '42,199', '56,050', '15,120', '42,545', '63,962', '55,343', '17,621', '37,337', '26,903', '22,879', '1,791', '46,192', '24,270', '26,440', '59,333', '75,891', '22,748', '52,754', '75,766', '37,467', '47,590', '93,558', '11,479', '25,071', '7,325', '21,698', '18,793', '33,116', '11,951', '25,921', '4,948', '37,813', '15,419', '72,977', '31,629', '14,256', '16,699', '12,189', '58,920', '86,670', '31,760', '73,302', '64,849', '63,096', '20,500', '42,586', '51,678', '50,802', '31,313', '5,330', '61,377', '17,130', '25,923', '62,911', '37,012', '71,384', '32,272', '20,923', '16,118', '25,031', '33,982', '11,404', '76,938', '28,598', '29,745', '26,297', '34,053', '49,468', '24,169', '32,679', '12,635', '7,676', '1,945', '16,253', '17,426', '30,557', '32,318', '31,186', '40,755', '56,504', '65,783', '49,946', '35,518', '40,815', '22,725', '54,698', '17,633', '20,651', '66,984', '12,290', '49,487', '39,746', '40,738', '30,806', '4,608', '29,911', '12,681', '41,104', '20,203', '32,036', '7,532', '67,374', '11,117', '40,615', '33,174', '31,900', '6,864', '11,347', '87,979', '24,061', '55,122', '92,296', '23,603', '93,491', '25,931', '23,667', '10,558', '50,915', '8,469', '25,976', '24,330', '35,096', '37,970', '18,634', '59,054', '30,227', '52,830', '12,818', '18,645', '94,637', '97,010', '41,368', '39,599', '23,415', '30,185', '50,678', '34,366', '19,682', '45,560', '14,592', '91,773', '23,923', '19,618', '21,765', '22,996', '90,060', '26,416', '31,511', '33,721', '20,177', '35,055', '21,665', '20,727', '22,280', '21,832', '26,057', '3,058', '28,270', '57,770', '32,026', '24,576', '51,925', '49,389', '81,454', '6,962', '53,019', '34,090', '49,621', '31,076', '19,087', '20,539', '29,397', '16,373', '21,111', '61,532', '66,853', '11,418', '18,354', '10,186', '56,564', '68,436', '9,299', '32,235', '81,475', '72,495', '10,479', '52,725', '27,601', '25,924', '56,871', '49,222', '56,606', '34,036', '39,646', '34,936', '33,842', '16,319', '19,819', '4,395', '52,391', '16,858', '44,964', '41,910', '27,923', '56,131', '34,510', '30,144', '28,586', '28,769', '26,118', '26,959', '21,463', '31,936', '25,187', '65,752', '24,908', '25,106', '19,380', '59,461', '35,128', '81,765', '46,000', '23,894', '49,469', '1,650', '33,988', '35,946', '29,507', '39,456', '29,741', '27,838', '17,524', '26,844', '66,871', '30,057', '14,841', '11,987', '14,808', '30,121', '26,920', '23,827', '5,752', '42,975', '53,030', '30,677', '68,708', '52,368', '18,892', '58,070', '23,009', '35,542', '45,286', '45,286', '23,381', '28,094', '45,060', '10,032', '64,774', '59,898', '13,153', '56,594', '20,059', '85,348', '91,042', '29,022', '56,696', '35,513', '70,528', '12,669', '85,464', '29,224', '21,972', '54,460', '15,087', '75,101', '84,136', '12,661', '64,607', '16,292', '57,567', '89,621', '43,049', '28,892', '32,530', '69,243', '36,366', '40,059', '49,326', '44,879', '7,069', '33,322', '26,861', '28,670', '53,701', '69,463', '26,903', '22,816', '9,553', '7,461', '21,852', '48,237', '31,680', '33,199', '74,938', '33,584', '29,063', '49,197', '12,793', '13,953', '65,247', '13,887', '23,665', '7,537', '66,606', '51,822', '20,939', '23,094', '11,496', '35,455', '19,029', '29,776', '38,983', '31,824', '9,692', '78,922', '47,947', '74,888', '7,124', '29,310', '12,336', '63,064', '19,521', '23,797', '27,740', '48,056', '26,792', '33,320', '42,440', '5,542', '24,864', '10,391', '39,588', '49,538', '75,823', '64,947', '4,460', '41,796', '69,719', '42,099', '13,408', '91,696', '18,042', '42,319', '35,503', '33,878', '19,575', '41,685', '6,005', '29,380', '50,112', '18,711', '89,252', '17,543', '43,589', '13,664', '51,184', '27,476', '81,979', '8,612', '35,521', '74,794', '33,262', '26,130', '63,676', '81,091', '28,625', '17,811', '6,234', '45,566', '38,216', '45,080', '52,280', '38,797', '85,485', '23,631', '33,606', '49,614', '27,034', '48,702', '20,567', '44,259', '15,561', '12,584', '68,195', '21,880', '20,572', '37,186', '43,404', '9,999', '57,565', '39,417', '51,337', '37,134', '31,328', '14,061', '12,839', '50,893', '30,309', '8,275', '60,418', '59,494', '16,336', '37,323', '50,160', '23,504', '85,998', '66,997', '52,962', '56,109', '28,347', '61,344', '24,566', '10,831', '29,535', '10,684', '11,766', '41,029', '20,686', '78,374', '41,786', '27,353', '10,707', '21,188', '58,102', '36,464', '35,165', '16,910', '26,130', '38,531', '23,914', '17,888', '84,696', '39,372', '11,932', '18,327', '14,602', '46,815', '28,500', '75,252', '91,565', '18,602', '58,262', '60,869', '18,229', '51,070', '10,978', '4,690', '34,913', '80,732', '56,608', '8,977', '80,533', '31,785', '34,337', '37,923', '8,463', '38,042', '31,273', '79,757', '41,311', '73,150', '19,169', '14,121', '18,705', '59,635', '38,650', '19,505', '22,242', '42,902', '57,613', '23,562', '31,803', '40,510', '98,899', '29,873', '14,381', '46,524', '25,603', '80,238', '40,216', '71,509', '47,146', '66,868', '57,153', '80,591', '91,380', '63,124', '3,582', '97,651', '10,228', '70,537', '63,631', '49,040', '50,436', '71,701', '92,618', '20,346', '18,746', '8,753', '56,700', '14,796', '10,422', '82,644', '72,095', '45,369', '27,335', '60,259', '82,500', '84,637', '26,001', '20,484', '57,372', '21,955', '37,235', '44,596', '32,198', '16,814', '69,937', '18,906', '24,990', '49,772', '12,349']\n"
     ]
    }
   ],
   "source": [
    "print(kms)"
   ]
  },
  {
   "cell_type": "code",
   "execution_count": 18,
   "metadata": {},
   "outputs": [],
   "source": [
    "owner=[]\n",
    "o=driver.find_elements(By.XPATH,\"//ul[@class='bVR0c']\")\n",
    "for i in o:\n",
    "    ow=i.text.split(\"\\n\")[1]\n",
    "    owner.append(ow)"
   ]
  },
  {
   "cell_type": "code",
   "execution_count": 19,
   "metadata": {},
   "outputs": [
    {
     "name": "stdout",
     "output_type": "stream",
     "text": [
      "['1st Owner', '1st Owner', '1st Owner', '1st Owner', '1st Owner', '2nd Owner', '2nd Owner', '1st Owner', '2nd Owner', '1st Owner', '1st Owner', '1st Owner', '1st Owner', '1st Owner', '1st Owner', '1st Owner', '2nd Owner', '1st Owner', '1st Owner', '1st Owner', '2nd Owner', '1st Owner', '1st Owner', '1st Owner', '1st Owner', '1st Owner', '1st Owner', '1st Owner', '1st Owner', '1st Owner', '1st Owner', '1st Owner', '2nd Owner', '1st Owner', '2nd Owner', '1st Owner', '1st Owner', '2nd Owner', '1st Owner', '1st Owner', '1st Owner', '2nd Owner', '1st Owner', '1st Owner', '1st Owner', '1st Owner', '1st Owner', '1st Owner', '1st Owner', '1st Owner', '1st Owner', '2nd Owner', '1st Owner', '1st Owner', '2nd Owner', '1st Owner', '1st Owner', '2nd Owner', '1st Owner', '1st Owner', '2nd Owner', '1st Owner', '1st Owner', '1st Owner', '1st Owner', '2nd Owner', '1st Owner', '1st Owner', '1st Owner', '1st Owner', '1st Owner', '1st Owner', '1st Owner', '1st Owner', '1st Owner', '2nd Owner', '1st Owner', '1st Owner', '1st Owner', '1st Owner', '1st Owner', '1st Owner', '1st Owner', '1st Owner', '1st Owner', '1st Owner', '1st Owner', '1st Owner', '1st Owner', '1st Owner', '1st Owner', '2nd Owner', '2nd Owner', '1st Owner', '1st Owner', '2nd Owner', '1st Owner', '2nd Owner', '2nd Owner', '1st Owner', '1st Owner', '1st Owner', '1st Owner', '1st Owner', '1st Owner', '1st Owner', '2nd Owner', '1st Owner', '1st Owner', '1st Owner', '2nd Owner', '2nd Owner', '2nd Owner', '1st Owner', '1st Owner', '1st Owner', '1st Owner', '1st Owner', '1st Owner', '2nd Owner', '1st Owner', '1st Owner', '1st Owner', '2nd Owner', '1st Owner', '1st Owner', '1st Owner', '1st Owner', '1st Owner', '1st Owner', '1st Owner', '1st Owner', '2nd Owner', '1st Owner', '1st Owner', '1st Owner', '1st Owner', '1st Owner', '1st Owner', '1st Owner', '2nd Owner', '1st Owner', '2nd Owner', '2nd Owner', '1st Owner', '1st Owner', '1st Owner', '2nd Owner', '1st Owner', '2nd Owner', '2nd Owner', '1st Owner', '1st Owner', '1st Owner', '1st Owner', '2nd Owner', '1st Owner', '1st Owner', '2nd Owner', '1st Owner', '1st Owner', '1st Owner', '1st Owner', '1st Owner', '1st Owner', '1st Owner', '1st Owner', '1st Owner', '1st Owner', '1st Owner', '1st Owner', '1st Owner', '1st Owner', '1st Owner', '1st Owner', '1st Owner', '1st Owner', '1st Owner', '1st Owner', '1st Owner', '1st Owner', '1st Owner', '1st Owner', '1st Owner', '1st Owner', '1st Owner', '1st Owner', '1st Owner', '1st Owner', '1st Owner', '1st Owner', '1st Owner', '1st Owner', '1st Owner', '1st Owner', '1st Owner', '1st Owner', '1st Owner', '1st Owner', '1st Owner', '2nd Owner', '1st Owner', '1st Owner', '1st Owner', '1st Owner', '1st Owner', '2nd Owner', '1st Owner', '1st Owner', '3rd Owner', '1st Owner', '1st Owner', '1st Owner', '2nd Owner', '2nd Owner', '3rd Owner', '1st Owner', '1st Owner', '1st Owner', '1st Owner', '1st Owner', '1st Owner', '1st Owner', '1st Owner', '1st Owner', '1st Owner', '1st Owner', '1st Owner', '1st Owner', '1st Owner', '1st Owner', '1st Owner', '2nd Owner', '2nd Owner', '1st Owner', '2nd Owner', '1st Owner', '1st Owner', '1st Owner', '1st Owner', '1st Owner', '1st Owner', '1st Owner', '2nd Owner', '1st Owner', '1st Owner', '1st Owner', '2nd Owner', '1st Owner', '1st Owner', '1st Owner', '2nd Owner', '1st Owner', '1st Owner', '2nd Owner', '1st Owner', '1st Owner', '1st Owner', '1st Owner', '1st Owner', '2nd Owner', '1st Owner', '1st Owner', '1st Owner', '1st Owner', '1st Owner', '2nd Owner', '1st Owner', '1st Owner', '1st Owner', '1st Owner', '2nd Owner', '1st Owner', '1st Owner', '2nd Owner', '1st Owner', '1st Owner', '1st Owner', '1st Owner', '2nd Owner', '1st Owner', '1st Owner', '1st Owner', '1st Owner', '1st Owner', '1st Owner', '1st Owner', '1st Owner', '1st Owner', '1st Owner', '2nd Owner', '1st Owner', '1st Owner', '1st Owner', '1st Owner', '1st Owner', '1st Owner', '1st Owner', '1st Owner', '1st Owner', '2nd Owner', '1st Owner', '1st Owner', '2nd Owner', '1st Owner', '1st Owner', '1st Owner', '1st Owner', '1st Owner', '1st Owner', '1st Owner', '1st Owner', '1st Owner', '2nd Owner', '1st Owner', '1st Owner', '1st Owner', '1st Owner', '1st Owner', '2nd Owner', '1st Owner', '1st Owner', '1st Owner', '1st Owner', '1st Owner', '2nd Owner', '1st Owner', '1st Owner', '1st Owner', '1st Owner', '1st Owner', '1st Owner', '1st Owner', '1st Owner', '1st Owner', '2nd Owner', '1st Owner', '1st Owner', '1st Owner', '2nd Owner', '1st Owner', '1st Owner', '2nd Owner', '1st Owner', '1st Owner', '1st Owner', '1st Owner', '1st Owner', '1st Owner', '1st Owner', '1st Owner', '1st Owner', '1st Owner', '2nd Owner', '1st Owner', '1st Owner', '1st Owner', '1st Owner', '1st Owner', '1st Owner', '1st Owner', '1st Owner', '1st Owner', '1st Owner', '1st Owner', '1st Owner', '1st Owner', '1st Owner', '2nd Owner', '1st Owner', '1st Owner', '2nd Owner', '2nd Owner', '1st Owner', '2nd Owner', '2nd Owner', '1st Owner', '2nd Owner', '1st Owner', '1st Owner', '1st Owner', '1st Owner', '1st Owner', '1st Owner', '1st Owner', '1st Owner', '1st Owner', '2nd Owner', '1st Owner', '2nd Owner', '1st Owner', '1st Owner', '1st Owner', '1st Owner', '1st Owner', '1st Owner', '1st Owner', '1st Owner', '1st Owner', '1st Owner', '1st Owner', '2nd Owner', '1st Owner', '1st Owner', '1st Owner', '2nd Owner', '2nd Owner', '1st Owner', '1st Owner', '1st Owner', '3rd Owner', '2nd Owner', '1st Owner', '2nd Owner', '1st Owner', '3rd Owner', '1st Owner', '1st Owner', '1st Owner', '1st Owner', '1st Owner', '1st Owner', '1st Owner', '1st Owner', '1st Owner', '1st Owner', '1st Owner', '1st Owner', '1st Owner', '1st Owner', '1st Owner', '1st Owner', '1st Owner', '1st Owner', '1st Owner', '1st Owner', '1st Owner', '1st Owner', '1st Owner', '1st Owner', '1st Owner', '1st Owner', '1st Owner', '1st Owner', '1st Owner', '1st Owner', '1st Owner', '1st Owner', '1st Owner', '1st Owner', '1st Owner', '1st Owner', '1st Owner', '1st Owner', '1st Owner', '2nd Owner', '1st Owner', '2nd Owner', '2nd Owner', '2nd Owner', '1st Owner', '2nd Owner', '1st Owner', '1st Owner', '1st Owner', '1st Owner', '1st Owner', '1st Owner', '2nd Owner', '1st Owner', '1st Owner', '1st Owner', '2nd Owner', '2nd Owner', '1st Owner', '1st Owner', '1st Owner', '1st Owner', '2nd Owner', '2nd Owner', '1st Owner', '1st Owner', '1st Owner', '1st Owner', '1st Owner', '1st Owner', '1st Owner', '1st Owner', '1st Owner', '1st Owner', '1st Owner', '1st Owner', '1st Owner', '1st Owner', '1st Owner', '1st Owner', '1st Owner', '1st Owner', '2nd Owner', '1st Owner', '1st Owner', '1st Owner', '1st Owner', '1st Owner', '1st Owner', '1st Owner', '1st Owner', '1st Owner', '1st Owner', '1st Owner', '1st Owner', '1st Owner', '1st Owner', '2nd Owner', '2nd Owner', '1st Owner', '1st Owner', '1st Owner', '1st Owner', '1st Owner', '1st Owner', '1st Owner', '1st Owner', '1st Owner', '1st Owner', '1st Owner', '1st Owner', '2nd Owner', '1st Owner', '1st Owner', '1st Owner', '1st Owner', '1st Owner', '1st Owner', '1st Owner', '1st Owner', '1st Owner', '2nd Owner', '1st Owner', '1st Owner', '1st Owner', '1st Owner', '1st Owner', '2nd Owner', '1st Owner', '1st Owner', '1st Owner', '1st Owner', '1st Owner', '1st Owner', '1st Owner', '1st Owner', '1st Owner', '1st Owner', '1st Owner', '1st Owner', '1st Owner', '2nd Owner', '2nd Owner', '1st Owner', '2nd Owner', '1st Owner', '1st Owner', '2nd Owner', '1st Owner', '1st Owner', '1st Owner', '1st Owner', '1st Owner', '1st Owner', '1st Owner', '2nd Owner', '1st Owner', '1st Owner', '1st Owner', '2nd Owner', '1st Owner', '1st Owner', '1st Owner', '1st Owner', '1st Owner', '2nd Owner', '1st Owner', '2nd Owner', '1st Owner', '2nd Owner', '1st Owner', '1st Owner', '1st Owner', '1st Owner', '1st Owner', '1st Owner', '1st Owner', '2nd Owner', '1st Owner', '1st Owner', '2nd Owner', '1st Owner', '1st Owner', '1st Owner', '1st Owner', '1st Owner', '1st Owner', '2nd Owner', '1st Owner', '1st Owner', '2nd Owner', '1st Owner', '1st Owner', '1st Owner', '2nd Owner', '1st Owner', '1st Owner', '1st Owner', '1st Owner', '2nd Owner', '1st Owner', '1st Owner', '1st Owner', '1st Owner', '3rd Owner', '2nd Owner', '1st Owner', '2nd Owner', '1st Owner', '2nd Owner', '2nd Owner', '1st Owner', '1st Owner', '2nd Owner', '1st Owner', '1st Owner', '1st Owner', '1st Owner', '1st Owner', '1st Owner', '2nd Owner', '1st Owner', '1st Owner', '1st Owner', '1st Owner', '1st Owner', '1st Owner', '1st Owner', '1st Owner', '1st Owner', '1st Owner', '1st Owner', '2nd Owner', '2nd Owner', '1st Owner', '1st Owner', '1st Owner', '1st Owner', '1st Owner', '1st Owner', '1st Owner', '2nd Owner', '1st Owner', '1st Owner', '1st Owner', '2nd Owner', '1st Owner', '1st Owner', '1st Owner', '1st Owner', '1st Owner', '1st Owner', '1st Owner', '1st Owner', '1st Owner', '1st Owner', '1st Owner', '1st Owner', '1st Owner', '1st Owner', '2nd Owner', '1st Owner', '1st Owner', '1st Owner', '1st Owner', '2nd Owner', '1st Owner', '1st Owner', '1st Owner', '1st Owner', '1st Owner', '1st Owner', '1st Owner', '1st Owner', '1st Owner', '1st Owner', '3rd Owner', '1st Owner', '2nd Owner', '1st Owner', '1st Owner', '1st Owner', '1st Owner', '1st Owner', '1st Owner', '1st Owner', '1st Owner', '1st Owner', '1st Owner', '1st Owner', '1st Owner', '1st Owner', '1st Owner', '1st Owner', '1st Owner', '2nd Owner', '2nd Owner', '2nd Owner', '1st Owner', '2nd Owner', '1st Owner', '1st Owner', '1st Owner', '1st Owner', '2nd Owner', '1st Owner', '1st Owner', '2nd Owner', '1st Owner', '2nd Owner', '1st Owner', '2nd Owner', '1st Owner', '1st Owner', '1st Owner', '2nd Owner', '1st Owner', '2nd Owner', '2nd Owner', '2nd Owner', '1st Owner', '1st Owner', '1st Owner', '1st Owner', '1st Owner', '1st Owner', '1st Owner', '1st Owner', '1st Owner', '1st Owner', '1st Owner', '2nd Owner', '1st Owner', '1st Owner', '1st Owner', '2nd Owner', '1st Owner', '1st Owner', '1st Owner', '1st Owner', '1st Owner', '2nd Owner', '1st Owner', '1st Owner', '1st Owner', '1st Owner', '1st Owner', '1st Owner', '1st Owner', '1st Owner', '2nd Owner', '1st Owner', '1st Owner', '1st Owner', '1st Owner', '1st Owner', '1st Owner', '1st Owner', '1st Owner', '1st Owner', '1st Owner', '1st Owner', '1st Owner', '1st Owner', '1st Owner', '1st Owner', '1st Owner', '1st Owner', '1st Owner', '1st Owner', '1st Owner', '1st Owner', '1st Owner', '2nd Owner', '1st Owner', '1st Owner', '1st Owner', '1st Owner', '1st Owner', '1st Owner', '1st Owner', '1st Owner', '1st Owner', '2nd Owner', '1st Owner', '1st Owner', '1st Owner', '1st Owner', '1st Owner', '1st Owner', '1st Owner', '1st Owner', '2nd Owner', '1st Owner', '1st Owner', '1st Owner', '2nd Owner', '1st Owner', '1st Owner', '1st Owner', '1st Owner', '2nd Owner', '1st Owner', '2nd Owner', '1st Owner', '1st Owner', '1st Owner', '1st Owner', '1st Owner', '1st Owner', '1st Owner', '1st Owner', '2nd Owner', '1st Owner', '1st Owner', '1st Owner', '1st Owner', '1st Owner', '1st Owner', '1st Owner', '1st Owner', '2nd Owner', '1st Owner', '2nd Owner', '2nd Owner', '1st Owner', '1st Owner', '1st Owner', '1st Owner', '1st Owner', '1st Owner', '1st Owner', '1st Owner', '1st Owner', '1st Owner', '2nd Owner', '1st Owner', '1st Owner', '1st Owner', '1st Owner', '1st Owner', '1st Owner', '2nd Owner', '1st Owner', '1st Owner', '2nd Owner', '1st Owner', '1st Owner', '1st Owner', '2nd Owner', '1st Owner', '1st Owner', '2nd Owner', '1st Owner', '1st Owner', '2nd Owner', '1st Owner', '1st Owner', '1st Owner', '2nd Owner', '1st Owner', '1st Owner', '1st Owner', '1st Owner']\n"
     ]
    }
   ],
   "source": [
    "print(owner)"
   ]
  },
  {
   "cell_type": "code",
   "execution_count": 20,
   "metadata": {},
   "outputs": [
    {
     "data": {
      "text/plain": [
       "880"
      ]
     },
     "execution_count": 20,
     "metadata": {},
     "output_type": "execute_result"
    }
   ],
   "source": [
    "len(owner)"
   ]
  },
  {
   "cell_type": "code",
   "execution_count": 21,
   "metadata": {},
   "outputs": [],
   "source": [
    "fuel=[]\n",
    "f=driver.find_elements(By.XPATH,\"//ul[@class='bVR0c']\")\n",
    "for i in f:\n",
    "    fu=i.text.split(\"\\n\")[2]\n",
    "    fuel.append(fu)"
   ]
  },
  {
   "cell_type": "code",
   "execution_count": 22,
   "metadata": {},
   "outputs": [
    {
     "data": {
      "text/plain": [
       "880"
      ]
     },
     "execution_count": 22,
     "metadata": {},
     "output_type": "execute_result"
    }
   ],
   "source": [
    "len(fuel)"
   ]
  },
  {
   "cell_type": "code",
   "execution_count": 23,
   "metadata": {},
   "outputs": [
    {
     "name": "stdout",
     "output_type": "stream",
     "text": [
      "['Petrol', 'Petrol', 'Petrol', 'Petrol', 'Petrol', 'Petrol', 'Petrol', 'Petrol', 'Petrol', 'Petrol', 'Petrol', 'Petrol', 'Petrol', 'Petrol', 'Petrol', 'Petrol', 'Petrol', 'Petrol', 'Petrol', 'Petrol', 'Petrol', 'Petrol', 'Petrol', 'Petrol', 'Petrol', 'Petrol', 'Petrol', 'Petrol', 'Petrol', 'Petrol', 'Petrol', 'Petrol', 'Diesel', 'Petrol', 'Petrol', 'Petrol', 'Petrol', 'Petrol', 'Petrol', 'Petrol', 'Petrol', 'Petrol', 'Petrol', 'Petrol', 'Petrol', 'Petrol', 'Petrol', 'Petrol', 'Petrol', 'Petrol', 'Petrol', 'Petrol', 'Petrol', 'Petrol', 'Petrol', 'Petrol', 'Petrol', 'Petrol', 'Petrol', 'Petrol', 'Petrol', 'Petrol', 'Petrol', 'Petrol', 'Petrol', 'Petrol', 'Petrol', 'Petrol', 'Petrol', 'Petrol', 'Petrol', 'Petrol', 'Petrol', 'Petrol', 'Petrol', 'Petrol', 'Petrol + CNG', 'Petrol + CNG', 'Petrol', 'Petrol', 'Petrol', 'Petrol', 'Petrol', 'Petrol', 'Petrol', 'Petrol', 'Petrol', 'Petrol', 'Petrol', 'Petrol', 'Petrol', 'Petrol', 'Petrol', 'Petrol', 'Petrol', 'Petrol', 'Petrol', 'Petrol', 'Petrol', 'Petrol', 'Petrol', 'Petrol', 'Petrol', 'Petrol', 'Petrol', 'Petrol', 'Petrol', 'Petrol', 'Petrol', 'Petrol', 'Petrol', 'Petrol', 'Petrol', 'Diesel', 'Petrol', 'Petrol', 'Petrol', 'Petrol', 'Petrol', 'Petrol', 'Petrol', 'Diesel', 'Petrol', 'Petrol', 'Petrol', 'Diesel', 'Petrol', 'Petrol', 'Petrol', 'Petrol', 'Petrol', 'Petrol', 'Petrol', 'Petrol', 'Petrol', 'Petrol', 'Petrol', 'Petrol', 'Petrol + CNG', 'Petrol', 'Petrol', 'Petrol', 'Petrol', 'Petrol', 'Petrol', 'Petrol', 'Diesel', 'Petrol', 'Petrol', 'Petrol + CNG', 'Petrol', 'Petrol', 'Petrol', 'Diesel', 'Petrol', 'Petrol', 'Petrol', 'Petrol', 'Petrol', 'Petrol', 'Petrol', 'Petrol', 'Petrol', 'Petrol', 'Petrol', 'Petrol', 'Petrol', 'Petrol', 'Petrol', 'Petrol', 'Petrol', 'Petrol', 'Petrol', 'Petrol', 'Petrol', 'Petrol', 'Petrol', 'Petrol', 'Petrol', 'Petrol', 'Petrol', 'Petrol', 'Petrol', 'Petrol', 'Petrol', 'Petrol', 'Petrol + CNG', 'Petrol', 'Petrol', 'Petrol', 'Petrol', 'Petrol', 'Petrol', 'Petrol', 'Petrol', 'Petrol', 'Petrol', 'Petrol', 'Diesel', 'Petrol', 'Petrol', 'Petrol', 'Petrol', 'Petrol', 'Petrol', 'Diesel', 'Petrol', 'Petrol', 'Petrol', 'Petrol', 'Petrol', 'Petrol', 'Petrol', 'Diesel', 'Petrol', 'Petrol', 'Petrol', 'Petrol', 'Petrol', 'Petrol', 'Petrol', 'Petrol', 'Petrol', 'Petrol', 'Petrol', 'Petrol', 'Petrol', 'Petrol', 'Petrol', 'Petrol', 'Petrol', 'Petrol', 'Petrol', 'Petrol', 'Petrol', 'Petrol', 'Petrol', 'Petrol + CNG', 'Petrol', 'Petrol', 'Petrol + CNG', 'Petrol', 'Petrol + CNG', 'Petrol', 'Petrol', 'Petrol', 'Petrol', 'Petrol', 'Petrol', 'Petrol', 'Petrol + CNG', 'Petrol', 'Petrol', 'Petrol', 'Petrol', 'Petrol', 'Petrol', 'Petrol', 'Petrol + CNG', 'Petrol', 'Petrol', 'Petrol + CNG', 'Petrol', 'Petrol', 'Petrol + CNG', 'Petrol', 'Petrol', 'Petrol', 'Petrol', 'Petrol', 'Diesel', 'Petrol + CNG', 'Petrol', 'Petrol + CNG', 'Petrol', 'Petrol', 'Petrol', 'Petrol', 'Petrol', 'Petrol', 'Petrol', 'Petrol', 'Petrol', 'Petrol + CNG', 'Petrol', 'Petrol', 'Petrol', 'Petrol + CNG', 'Petrol', 'Petrol', 'Petrol', 'Petrol', 'Petrol', 'Petrol', 'Petrol', 'Petrol', 'Petrol', 'Petrol', 'Petrol', 'Petrol', 'Petrol', 'Petrol', 'Petrol', 'Petrol + CNG', 'Petrol', 'Petrol + CNG', 'Petrol', 'Petrol', 'Petrol', 'Petrol', 'Petrol', 'Petrol', 'Petrol', 'Petrol', 'Petrol', 'Petrol', 'Petrol', 'Petrol', 'Petrol + CNG', 'Petrol + CNG', 'Petrol', 'Petrol', 'Petrol', 'Petrol', 'Petrol + CNG', 'Petrol', 'Petrol', 'Petrol', 'Petrol', 'Petrol + CNG', 'Petrol', 'Petrol', 'Petrol', 'Petrol', 'Petrol', 'Petrol', 'Petrol', 'Petrol', 'Petrol', 'Petrol', 'Petrol', 'Diesel', 'Petrol', 'Petrol', 'Petrol', 'Petrol', 'Petrol', 'Petrol + CNG', 'Petrol', 'Petrol', 'Petrol', 'Petrol', 'Petrol', 'Diesel', 'Petrol + CNG', 'Petrol', 'Petrol', 'Diesel', 'Petrol', 'Petrol + CNG', 'Petrol', 'Petrol', 'Petrol', 'Petrol', 'Petrol', 'Petrol + CNG', 'Petrol', 'Petrol + CNG', 'Petrol', 'Petrol', 'Petrol', 'Petrol', 'Petrol', 'Petrol', 'Petrol', 'Petrol', 'Petrol', 'Petrol', 'Petrol', 'Petrol', 'Petrol', 'Petrol', 'Petrol', 'Petrol + CNG', 'Diesel', 'Petrol', 'Petrol', 'Petrol', 'Petrol', 'Petrol', 'Petrol', 'Petrol', 'Petrol', 'Petrol', 'Petrol', 'Petrol', 'Petrol + CNG', 'Diesel', 'Petrol', 'Petrol + CNG', 'Petrol', 'Petrol', 'Petrol', 'Petrol', 'Petrol + CNG', 'Petrol', 'Petrol', 'Petrol', 'Petrol', 'Petrol', 'Petrol', 'Petrol', 'Petrol', 'Petrol', 'Petrol', 'Petrol', 'Petrol', 'Petrol', 'Petrol', 'Petrol', 'Petrol', 'Petrol', 'Petrol', 'Petrol', 'Petrol', 'Petrol', 'Petrol', 'Petrol', 'Petrol', 'Petrol', 'Petrol', 'Petrol', 'Petrol', 'Petrol', 'Petrol + CNG', 'Petrol', 'Petrol', 'Petrol', 'Diesel', 'Petrol', 'Petrol', 'Petrol + CNG', 'Petrol', 'Petrol + CNG', 'Petrol', 'Petrol', 'Petrol', 'Petrol + CNG', 'Petrol', 'Petrol', 'Petrol + CNG', 'Petrol', 'Petrol', 'Petrol', 'Petrol', 'Petrol', 'Petrol + CNG', 'Petrol', 'Petrol', 'Petrol', 'Petrol', 'Petrol', 'Petrol', 'Petrol', 'Petrol', 'Petrol + CNG', 'Petrol', 'Petrol', 'Petrol', 'Petrol', 'Petrol + CNG', 'Petrol', 'Petrol', 'Petrol', 'Petrol', 'Petrol', 'Petrol', 'Petrol + CNG', 'Petrol', 'Petrol', 'Petrol', 'Petrol', 'Petrol', 'Petrol', 'Petrol', 'Petrol', 'Petrol', 'Petrol', 'Diesel', 'Petrol', 'Petrol', 'Petrol', 'Petrol', 'Petrol', 'Petrol', 'Petrol', 'Petrol', 'Petrol', 'Petrol', 'Diesel', 'Petrol', 'Petrol', 'Petrol', 'Petrol', 'Petrol', 'Petrol', 'Petrol', 'Petrol', 'Petrol', 'Petrol', 'Petrol', 'Petrol', 'Diesel', 'Diesel', 'Petrol', 'Petrol', 'Petrol', 'Diesel', 'Petrol', 'Petrol', 'Petrol', 'Petrol', 'Petrol + CNG', 'Petrol', 'Petrol', 'Petrol + CNG', 'Petrol', 'Petrol', 'Petrol', 'Petrol', 'Petrol', 'Petrol + CNG', 'Petrol', 'Petrol', 'Petrol', 'Petrol', 'Petrol', 'Petrol', 'Petrol + CNG', 'Petrol', 'Petrol', 'Petrol', 'Petrol + CNG', 'Petrol', 'Petrol', 'Petrol', 'Petrol', 'Petrol', 'Petrol', 'Petrol + CNG', 'Petrol', 'Petrol', 'Petrol + CNG', 'Petrol', 'Petrol + CNG', 'Petrol', 'Petrol', 'Petrol', 'Petrol', 'Petrol', 'Petrol', 'Petrol + CNG', 'Petrol + CNG', 'Petrol', 'Petrol', 'Petrol', 'Petrol', 'Petrol', 'Petrol', 'Petrol', 'Petrol + CNG', 'Petrol', 'Petrol', 'Petrol + CNG', 'Petrol', 'Petrol', 'Petrol', 'Petrol', 'Petrol', 'Diesel', 'Diesel', 'Petrol', 'Petrol + CNG', 'Diesel', 'Petrol', 'Petrol', 'Petrol', 'Petrol', 'Petrol', 'Petrol + CNG', 'Petrol', 'Petrol + CNG', 'Petrol', 'Petrol', 'Diesel', 'Petrol', 'Petrol', 'Petrol', 'Petrol', 'Petrol', 'Petrol', 'Petrol', 'Petrol + CNG', 'Petrol', 'Petrol', 'Diesel', 'Diesel', 'Petrol', 'Petrol', 'Petrol', 'Petrol', 'Petrol', 'Petrol + CNG', 'Diesel', 'Petrol', 'Petrol', 'Petrol + CNG', 'Petrol', 'Petrol', 'Petrol', 'Petrol', 'Petrol', 'Petrol', 'Petrol', 'Petrol', 'Petrol', 'Petrol', 'Diesel', 'Petrol', 'Petrol', 'Petrol', 'Petrol', 'Petrol', 'Diesel', 'Petrol + CNG', 'Petrol', 'Petrol', 'Petrol', 'Diesel', 'Petrol + CNG', 'Petrol', 'Petrol', 'Petrol', 'Petrol + CNG', 'Petrol', 'Petrol', 'Diesel', 'Petrol', 'Petrol + CNG', 'Petrol', 'Petrol', 'Petrol', 'Petrol', 'Petrol', 'Diesel', 'Petrol', 'Petrol', 'Petrol', 'Petrol', 'Petrol', 'Petrol + CNG', 'Petrol', 'Petrol + CNG', 'Petrol', 'Petrol', 'Petrol', 'Petrol', 'Petrol', 'Diesel', 'Petrol', 'Petrol', 'Petrol', 'Petrol', 'Petrol', 'Petrol + CNG', 'Petrol', 'Petrol', 'Petrol', 'Petrol + CNG', 'Petrol', 'Petrol', 'Petrol', 'Petrol + CNG', 'Petrol', 'Petrol', 'Petrol + CNG', 'Petrol', 'Petrol', 'Diesel', 'Petrol', 'Diesel', 'Petrol', 'Petrol + CNG', 'Petrol', 'Petrol', 'Petrol', 'Petrol + CNG', 'Petrol', 'Diesel', 'Petrol', 'Petrol', 'Petrol', 'Petrol', 'Petrol', 'Petrol', 'Petrol', 'Petrol', 'Petrol', 'Petrol', 'Petrol', 'Petrol', 'Petrol', 'Petrol', 'Diesel', 'Petrol + CNG', 'Petrol', 'Petrol', 'Petrol', 'Petrol', 'Petrol + CNG', 'Petrol', 'Diesel', 'Petrol + CNG', 'Diesel', 'Petrol', 'Petrol', 'Petrol', 'Petrol', 'Petrol + CNG', 'Petrol', 'Petrol + CNG', 'Petrol', 'Petrol', 'Petrol + CNG', 'Petrol', 'Petrol', 'Petrol', 'Petrol', 'Petrol', 'Petrol', 'Petrol', 'Petrol', 'Petrol', 'Petrol', 'Diesel', 'Petrol', 'Petrol', 'Diesel', 'Petrol', 'Petrol', 'Petrol', 'Diesel', 'Petrol', 'Diesel', 'Petrol', 'Diesel', 'Petrol', 'Diesel', 'Petrol', 'Petrol', 'Petrol', 'Petrol', 'Petrol', 'Petrol + CNG', 'Petrol', 'Petrol', 'Petrol', 'Petrol', 'Diesel', 'Petrol', 'Petrol', 'Petrol', 'Petrol', 'Petrol', 'Petrol', 'Petrol', 'Diesel', 'Petrol', 'Petrol + CNG', 'Petrol', 'Petrol', 'Petrol', 'Petrol', 'Petrol', 'Petrol', 'Petrol', 'Petrol', 'Petrol + CNG', 'Petrol', 'Petrol + CNG', 'Diesel', 'Petrol', 'Petrol', 'Petrol', 'Petrol', 'Petrol', 'Diesel', 'Petrol + CNG', 'Petrol', 'Diesel', 'Petrol', 'Petrol', 'Petrol', 'Diesel', 'Petrol', 'Petrol', 'Petrol', 'Petrol', 'Petrol', 'Petrol', 'Diesel', 'Petrol', 'Petrol', 'Petrol + CNG', 'Petrol', 'Petrol', 'Petrol', 'Petrol', 'Diesel', 'Petrol', 'Petrol', 'Petrol', 'Petrol', 'Diesel', 'Petrol', 'Petrol', 'Diesel', 'Petrol + CNG', 'Diesel', 'Petrol', 'Petrol', 'Petrol + CNG', 'Petrol', 'Petrol', 'Petrol + CNG', 'Petrol', 'Petrol', 'Petrol', 'Diesel', 'Petrol', 'Petrol + CNG', 'Petrol', 'Petrol', 'Petrol', 'Petrol', 'Petrol', 'Petrol + CNG', 'Petrol', 'Petrol', 'Petrol', 'Petrol', 'Petrol', 'Diesel', 'Petrol', 'Petrol', 'Petrol', 'Petrol', 'Diesel', 'Diesel', 'Diesel', 'Petrol + CNG', 'Petrol', 'Petrol + CNG', 'Petrol + CNG', 'Petrol', 'Diesel', 'Petrol', 'Petrol', 'Petrol', 'Petrol', 'Petrol', 'Petrol', 'Petrol', 'Petrol', 'Petrol', 'Petrol', 'Petrol', 'Petrol', 'Petrol', 'Petrol']\n"
     ]
    }
   ],
   "source": [
    "print(fuel)"
   ]
  },
  {
   "cell_type": "code",
   "execution_count": 34,
   "metadata": {},
   "outputs": [],
   "source": [
    "type=[]\n",
    "t=driver.find_elements(By.XPATH,\"//p[@class='cvakB']/span\")\n",
    "for i in t:\n",
    "    ty=i.text\n",
    "    type.append(ty)"
   ]
  },
  {
   "cell_type": "code",
   "execution_count": 35,
   "metadata": {},
   "outputs": [
    {
     "name": "stdout",
     "output_type": "stream",
     "text": [
      "['Manual', 'Manual', 'Manual', 'Manual', 'Manual', 'Manual', 'Manual', 'Manual', 'Manual', 'Manual', 'Manual', 'Automatic', 'Automatic', 'Manual', 'Manual', 'Manual', 'Manual', 'Automatic', 'Manual', 'Manual', 'Manual', 'Manual', 'Manual', 'Manual', '', 'Automatic', 'Manual', '', 'Manual', 'Manual', 'Manual', 'Manual', 'Automatic', 'Manual', 'Manual', 'Manual', 'Manual', 'Manual', 'Manual', 'Manual', '', 'Manual', '', 'Manual', 'Manual', 'Manual', 'Manual', 'Manual', 'Manual', 'Manual', 'Manual', 'Manual', '', 'Manual', 'Manual', 'Manual', 'Manual', 'Automatic', 'Manual', 'Manual', 'Manual', 'Manual', 'Manual', 'Manual', 'Manual', 'Manual', 'Manual', 'Manual', 'Manual', 'Manual', 'Automatic', 'Manual', 'Manual', 'Manual', 'Manual', 'Manual', 'Manual', 'Manual', 'Manual', 'Manual', 'Manual', 'Manual', 'Manual', 'Manual', '', 'Manual', '', 'Automatic', 'Manual', 'Manual', 'Manual', 'Manual', 'Manual', 'Manual', 'Automatic', 'Manual', 'Manual', 'Manual', 'Automatic', 'Manual', 'Manual', 'Manual', 'Manual', 'Manual', 'Automatic', 'Manual', 'Automatic', 'Manual', 'Manual', 'Manual', 'Manual', 'Manual', 'Manual', 'Manual', 'Manual', 'Manual', 'Manual', 'Manual', 'Manual', 'Manual', 'Manual', 'Automatic', '', 'Manual', 'Automatic', 'Manual', 'Manual', 'Manual', 'Manual', 'Manual', 'Manual', 'Manual', '', 'Manual', 'Manual', '', 'Manual', 'Automatic', 'Manual', 'Manual', 'Manual', 'Manual', 'Manual', 'Automatic', 'Manual', 'Manual', 'Automatic', 'Automatic', 'Manual', 'Automatic', 'Manual', 'Automatic', 'Manual', '', 'Manual', '', '', 'Manual', 'Manual', 'Manual', 'Manual', 'Manual', 'Automatic', 'Manual', 'Manual', 'Manual', 'Manual', 'Manual', 'Manual', 'Automatic', 'Manual', 'Manual', 'Manual', 'Manual', 'Manual', 'Manual', 'Manual', '', 'Manual', 'Manual', 'Manual', 'Manual', 'Manual', 'Automatic', '', 'Manual', 'Manual', 'Manual', 'Manual', 'Manual', 'Manual', 'Manual', '', 'Manual', 'Automatic', 'Manual', '', 'Automatic', 'Manual', 'Manual', 'Manual', 'Manual', 'Manual', 'Automatic', '', 'Automatic', '', 'Manual', '', 'Manual', 'Manual', '', 'Manual', 'Manual', 'Manual', 'Manual', 'Manual', 'Manual', 'Manual', 'Manual', 'Manual', 'Manual', 'Manual', 'Manual', 'Manual', 'Manual', 'Manual', 'Manual', 'Manual', 'Manual', 'Manual', 'Manual', 'Manual', 'Manual', 'Manual', 'Manual', 'Manual', 'Manual', 'Manual', 'Automatic', 'Manual', 'Manual', 'Manual', 'Automatic', 'Manual', 'Manual', 'Manual', 'Manual', 'Manual', 'Manual', 'Manual', 'Manual', 'Manual', 'Manual', 'Manual', 'Manual', '', 'Manual', 'Manual', 'Manual', 'Manual', 'Manual', 'Automatic', 'Manual', 'Manual', 'Manual', '', 'Manual', 'Manual', 'Manual', 'Manual', 'Automatic', 'Manual', 'Manual', 'Manual', 'Manual', 'Manual', 'Manual', 'Manual', 'Manual', 'Manual', 'Manual', 'Manual', 'Manual', 'Manual', 'Manual', 'Manual', 'Manual', 'Manual', 'Manual', 'Manual', 'Automatic', 'Manual', 'Manual', 'Manual', 'Automatic', 'Manual', 'Manual', 'Manual', 'Manual', 'Manual', 'Manual', 'Manual', 'Manual', 'Manual', 'Manual', '', 'Manual', 'Manual', '', 'Manual', 'Manual', 'Automatic', 'Automatic', 'Manual', 'Manual', 'Manual', 'Manual', 'Manual', 'Manual', 'Manual', '', 'Manual', 'Manual', 'Manual', 'Manual', 'Manual', 'Manual', 'Manual', 'Manual', 'Manual', 'Manual', 'Manual', 'Manual', 'Manual', 'Automatic', 'Manual', 'Manual', 'Manual', 'Manual', 'Automatic', '', 'Manual', 'Automatic', 'Automatic', 'Manual', 'Automatic', 'Manual', 'Automatic', 'Manual', 'Manual', 'Manual', 'Manual', 'Automatic', 'Manual', 'Manual', 'Automatic', 'Manual', 'Manual', 'Manual', '', 'Manual', 'Manual', 'Automatic', 'Manual', 'Manual', 'Automatic', 'Manual', 'Manual', 'Automatic', 'Manual', 'Manual', 'Manual', 'Manual', 'Automatic', 'Automatic', 'Automatic', 'Manual', 'Manual', 'Manual', 'Manual', 'Manual', 'Manual', 'Manual', '', 'Manual', 'Manual', 'Manual', 'Manual', 'Manual', 'Manual', 'Manual', 'Manual', 'Manual', 'Manual', 'Manual', 'Manual', '', 'Manual', 'Manual', 'Manual', 'Manual', 'Automatic', 'Manual', 'Manual', 'Manual', 'Manual', 'Manual', 'Manual', 'Manual', 'Manual', 'Automatic', 'Automatic', 'Automatic', 'Manual', 'Manual', 'Manual', 'Manual', 'Automatic', 'Manual', 'Manual', 'Manual', 'Manual', '', 'Manual', 'Automatic', 'Automatic', 'Manual', 'Automatic', 'Manual', 'Manual', 'Manual', 'Manual', 'Automatic', 'Manual', 'Manual', 'Manual', 'Manual', 'Automatic', 'Manual', 'Manual', 'Manual', 'Automatic', 'Manual', 'Manual', 'Manual', 'Manual', 'Manual', 'Manual', 'Manual', 'Manual', 'Automatic', 'Manual', 'Manual', 'Manual', 'Manual', 'Manual', 'Automatic', 'Manual', 'Automatic', 'Manual', 'Manual', 'Manual', 'Manual', 'Manual', 'Manual', 'Manual', 'Manual', 'Manual', 'Manual', 'Manual', 'Manual', 'Manual', 'Manual', 'Manual', 'Manual', 'Manual', 'Manual', '', 'Manual', 'Manual', 'Manual', 'Automatic', 'Automatic', 'Manual', 'Manual', 'Manual', 'Manual', 'Manual', 'Manual', 'Manual', 'Automatic', 'Automatic', 'Manual', 'Manual', 'Manual', 'Manual', 'Manual', 'Manual', 'Manual', 'Manual', 'Manual', 'Manual', 'Automatic', 'Manual', 'Manual', 'Automatic', 'Automatic', 'Automatic', 'Automatic', 'Manual', 'Automatic', 'Manual', 'Manual', 'Manual', 'Manual', 'Automatic', 'Manual', 'Manual', 'Manual', 'Automatic', 'Manual', 'Manual', 'Manual', 'Manual', 'Manual', 'Manual', 'Manual', 'Manual', '', '', 'Manual', 'Manual', 'Automatic', 'Manual', 'Manual', 'Manual', 'Manual', 'Manual', 'Automatic', 'Automatic', 'Manual', 'Manual', 'Manual', 'Automatic', 'Manual', 'Manual', 'Manual', 'Manual', 'Manual', 'Manual', 'Manual', 'Manual', 'Manual', 'Manual', 'Manual', 'Manual', 'Manual', 'Manual', 'Manual', 'Manual', 'Manual', 'Manual', '', 'Manual', 'Manual', 'Manual', 'Manual', 'Automatic', 'Manual', 'Manual', 'Automatic', 'Manual', 'Manual', 'Manual', 'Automatic', 'Automatic', 'Manual', 'Automatic', 'Automatic', 'Manual', 'Manual', 'Manual', 'Manual', 'Automatic', 'Manual', 'Manual', 'Manual', 'Manual', '', 'Manual', 'Manual', 'Manual', 'Manual', 'Manual', 'Manual', 'Manual', 'Manual', 'Manual', 'Manual', 'Manual', '', 'Manual', 'Manual', 'Manual', 'Manual', 'Manual', 'Manual', '', 'Manual', 'Manual', 'Manual', 'Manual', 'Manual', 'Manual', 'Manual', '', 'Manual', 'Manual', 'Automatic', 'Manual', 'Manual', 'Manual', 'Manual', 'Manual', 'Manual', 'Automatic', 'Manual', 'Automatic', 'Manual', 'Manual', 'Manual', 'Manual', '', '', 'Manual', 'Manual', 'Manual', '', 'Manual', 'Manual', 'Manual', 'Manual', 'Manual', 'Automatic', 'Manual', 'Manual', 'Manual', 'Manual', 'Manual', 'Automatic', 'Manual', '', 'Manual', 'Manual', 'Manual', 'Manual', 'Manual', 'Automatic', 'Manual', '', 'Manual', 'Manual', 'Automatic', 'Manual', 'Manual', 'Manual', 'Manual', 'Manual', 'Manual', 'Manual', 'Manual', 'Manual', 'Manual', 'Manual', 'Manual', 'Manual', 'Manual', 'Manual', 'Manual', 'Manual', 'Automatic', 'Manual', 'Manual', 'Manual', 'Manual', 'Manual', '', 'Manual', 'Manual', 'Manual', 'Manual', 'Manual', '', 'Manual', '', 'Manual', 'Manual', 'Automatic', 'Manual', 'Manual', 'Manual', 'Manual', 'Manual', 'Manual', 'Manual', 'Manual', 'Manual', 'Manual', 'Manual', 'Manual', 'Manual', 'Manual', 'Manual', '', 'Manual', 'Manual', 'Manual', 'Automatic', 'Manual', 'Automatic', 'Manual', 'Manual', 'Manual', 'Manual', 'Manual', 'Manual', 'Manual', 'Manual', 'Manual', 'Manual', 'Manual', 'Manual', 'Manual', 'Manual', 'Automatic', 'Manual', 'Manual', 'Manual', 'Manual', 'Automatic', 'Manual', 'Manual', 'Manual', 'Manual', 'Manual', 'Automatic', 'Automatic', 'Automatic', 'Manual', 'Manual', 'Manual', 'Manual', 'Manual', 'Manual', 'Automatic', 'Manual', 'Manual', 'Manual', 'Manual', 'Manual', 'Manual', 'Manual', 'Manual', 'Manual', 'Manual', 'Manual', 'Manual', 'Manual', 'Automatic', 'Automatic', 'Manual', 'Manual', 'Manual', 'Manual', 'Manual', 'Manual', 'Manual', 'Manual', 'Manual', 'Manual', 'Manual', 'Manual', 'Manual', '', 'Manual', 'Automatic', 'Manual', 'Manual', 'Manual', 'Automatic', '', 'Manual', 'Automatic', 'Manual', 'Automatic', 'Automatic', 'Manual', 'Manual', 'Manual', 'Manual', 'Manual', 'Manual', 'Manual', 'Manual', 'Manual', 'Manual', 'Manual', 'Manual', 'Manual', 'Automatic', 'Manual', 'Manual', 'Manual', '', '', 'Manual', 'Manual', 'Manual', 'Manual', 'Manual', 'Manual', 'Manual', 'Automatic', 'Automatic', 'Manual', 'Manual', 'Manual', 'Manual', '', 'Manual', 'Manual', 'Manual', 'Manual', 'Manual', 'Manual', 'Manual', 'Manual', 'Manual', 'Manual', 'Manual', 'Automatic', 'Manual', 'Manual', 'Manual', 'Manual', '', '', 'Automatic', '', 'Manual', 'Manual', 'Manual', 'Manual', 'Manual', 'Manual', 'Manual', 'Manual', 'Manual', 'Manual', 'Manual', 'Automatic', 'Manual', 'Manual', 'Manual', 'Manual', 'Manual', '', 'Manual', 'Manual', 'Manual', '', 'Manual', 'Manual', 'Manual', 'Automatic', 'Manual', 'Manual', 'Manual', 'Manual']\n"
     ]
    }
   ],
   "source": [
    "print(type)"
   ]
  },
  {
   "cell_type": "code",
   "execution_count": 36,
   "metadata": {},
   "outputs": [
    {
     "data": {
      "text/plain": [
       "880"
      ]
     },
     "execution_count": 36,
     "metadata": {},
     "output_type": "execute_result"
    }
   ],
   "source": [
    "len(type)"
   ]
  },
  {
   "cell_type": "code",
   "execution_count": 37,
   "metadata": {},
   "outputs": [],
   "source": [
    "price=[]\n",
    "p=driver.find_elements(By.XPATH,\"//div[@class='_7udZZ']/span\")\n",
    "for i in p:\n",
    "    pr=i.text\n",
    "    price.append(pr)"
   ]
  },
  {
   "cell_type": "code",
   "execution_count": 38,
   "metadata": {},
   "outputs": [
    {
     "name": "stdout",
     "output_type": "stream",
     "text": [
      "['', '₹5,30,000', '', '₹5,41,000', '₹5,62,000', '₹5,52,000', '₹5,00,000', '₹4,90,000', '₹5,12,000', '₹6,62,000', '₹5,29,000', '', '', '₹6,46,000', '₹5,10,000', '₹6,37,000', '₹4,73,000', '₹7,12,000', '₹2,85,000', '', '₹2,62,000', '₹2,73,000', '₹5,15,000', '₹5,68,000', '', '', '', '', '₹2,77,000', '', '₹6,09,000', '₹2,96,000', '', '₹5,28,000', '₹2,28,000', '₹5,46,000', '', '₹3,38,000', '₹5,07,000', '₹5,00,000', '', '₹3,10,000', '₹7,57,000', '₹7,19,000', '', '₹6,50,000', '', '₹2,72,000', '₹2,72,000', '₹2,83,000', '₹6,86,000', '₹6,04,000', '', '', '₹2,85,000', '₹5,30,000', '₹5,45,000', '₹6,48,000', '', '₹3,51,000', '₹3,60,000', '', '₹2,95,000', '', '₹2,44,000', '₹5,42,000', '₹1,85,000', '₹3,02,000', '₹2,65,000', '₹3,03,000', '', '₹2,52,000', '₹5,15,000', '₹5,50,000', '₹2,46,000', '₹2,90,000', '₹7,39,000', '₹7,81,000', '₹5,29,000', '₹4,94,000', '', '₹3,33,000', '₹5,89,000', '₹3,45,000', '₹7,16,000', '₹3,30,000', '', '₹5,84,000', '₹3,23,000', '₹5,90,000', '', '₹2,62,000', '₹5,24,000', '₹3,77,000', '', '₹5,14,000', '₹2,58,000', '₹2,19,000', '', '₹6,41,000', '₹2,21,000', '₹3,82,000', '₹3,67,000', '₹1,99,000', '', '', '₹4,89,000', '₹4,74,000', '₹6,02,000', '₹4,08,000', '₹3,18,000', '₹6,65,000', '₹1,83,000', '', '₹5,89,000', '₹5,21,000', '₹6,15,000', '₹6,30,000', '₹4,57,000', '₹6,31,000', '₹6,77,000', '', '', '₹4,26,000', '', '', '₹4,16,000', '₹3,84,200', '₹3,88,000', '₹6,85,000', '₹5,77,000', '₹2,80,000', '₹6,61,000', '₹5,68,000', '₹2,61,000', '', '₹7,78,000', '₹4,13,000', '₹6,79,000', '₹2,96,000', '₹6,04,000', '₹4,31,000', '₹4,07,000', '', '₹3,63,000', '₹3,48,000', '', '₹7,02,000', '₹3,94,000', '₹7,02,000', '₹2,35,200', '₹5,01,000', '₹3,26,000', '', '₹4,79,000', '', '', '₹4,94,000', '₹2,61,000', '₹3,31,000', '₹5,53,000', '', '', '₹1,92,000', '₹2,96,000', '₹2,31,000', '₹5,48,000', '₹4,98,000', '₹5,82,000', '₹4,13,000', '₹3,91,000', '₹4,20,000', '₹5,14,000', '₹4,58,000', '₹2,06,000', '₹2,61,000', '₹3,29,000', '₹6,38,000', '₹4,87,000', '₹6,02,000', '₹3,20,000', '₹5,74,000', '₹3,15,000', '', '₹7,96,000', '₹3,61,000', '₹6,20,000', '₹4,39,000', '₹3,93,000', '₹5,15,000', '₹7,98,000', '₹5,07,000', '₹7,42,000', '', '', '₹4,67,000', '', '', '', '₹3,67,000', '₹3,47,000', '₹3,97,000', '₹6,17,000', '₹3,47,000', '', '', '', '₹7,83,000', '', '₹4,37,000', '₹3,70,000', '₹7,63,000', '₹5,50,000', '', '₹6,61,000', '₹5,08,000', '', '₹7,31,000', '₹7,24,000', '₹5,33,000', '₹6,13,000', '₹4,92,000', '₹4,92,000', '₹4,92,000', '₹4,92,000', '₹4,92,000', '₹4,92,000', '₹4,92,000', '₹4,92,000', '₹4,92,000', '₹4,92,000', '₹4,92,000', '₹1,65,000', '₹3,15,000', '₹5,54,000', '₹4,00,000', '₹5,69,000', '', '₹5,83,000', '', '₹6,27,000', '₹6,94,000', '₹6,20,000', '', '₹5,55,000', '', '₹3,39,000', '₹6,03,000', '₹7,48,000', '₹2,85,000', '₹4,96,000', '₹3,25,000', '₹4,58,000', '₹6,63,000', '₹4,33,000', '₹3,63,000', '', '₹5,25,000', '₹6,10,000', '₹5,59,000', '₹3,58,000', '₹7,08,000', '', '₹2,67,000', '₹5,53,000', '₹2,97,000', '₹6,43,000', '₹4,18,000', '₹4,61,000', '₹3,15,000', '', '₹5,79,000', '', '₹6,53,000', '₹5,31,000', '₹2,74,000', '₹3,25,000', '₹5,29,000', '₹7,39,000', '₹3,40,000', '₹3,30,000', '₹5,28,000', '₹3,92,000', '₹5,33,000', '₹3,48,000', '₹4,10,000', '₹5,95,000', '₹5,56,000', '₹4,50,000', '₹5,41,000', '₹7,31,000', '₹7,42,000', '₹6,90,000', '₹7,78,000', '₹4,91,000', '₹3,30,000', '₹7,38,000', '₹5,51,000', '₹4,44,000', '₹2,77,000', '₹5,99,000', '₹4,14,000', '', '₹5,32,000', '₹7,80,000', '₹6,44,000', '', '₹4,94,000', '₹5,32,000', '', '₹3,33,000', '₹3,14,000', '', '₹6,03,000', '₹4,06,000', '₹3,86,000', '₹3,59,000', '₹2,61,000', '₹3,17,000', '₹4,16,000', '₹4,80,000', '', '₹6,01,000', '₹6,50,000', '₹6,64,000', '₹2,23,000', '₹6,57,000', '₹4,06,000', '', '₹6,27,000', '', '₹6,25,000', '₹5,55,000', '₹7,52,000', '₹2,77,500', '', '₹3,43,000', '₹7,84,000', '₹4,84,000', '₹4,14,000', '', '', '₹7,47,000', '₹6,72,000', '₹5,58,000', '₹5,99,000', '₹4,53,000', '₹6,30,000', '', '₹4,19,400', '₹5,62,000', '₹3,36,000', '₹3,54,000', '', '₹5,69,000', '₹5,99,000', '', '', '₹4,04,000', '₹5,91,000', '₹5,78,000', '₹5,53,000', '₹6,95,000', '', '₹5,17,000', '₹5,56,000', '', '₹5,80,000', '₹3,47,000', '₹7,05,000', '', '', '₹4,46,000', '₹6,00,000', '₹4,97,000', '', '₹7,40,600', '', '₹4,07,000', '₹6,94,000', '₹4,78,000', '₹3,76,000', '₹3,92,000', '₹6,41,000', '', '₹6,35,000', '₹3,81,000', '', '₹2,30,000', '₹3,96,000', '', '₹4,23,000', '₹5,32,000', '₹2,98,000', '', '₹4,30,000', '₹6,71,000', '', '₹2,88,000', '₹6,18,000', '₹5,17,000', '₹6,23,000', '', '₹3,41,000', '₹3,26,000', '₹5,68,000', '₹3,63,000', '₹5,43,000', '₹7,24,000', '', '₹7,58,000', '₹4,54,000', '₹4,91,000', '', '', '₹4,17,000', '₹4,39,000', '₹3,55,000', '', '', '₹4,15,000', '', '₹3,57,000', '', '₹4,67,000', '₹3,42,000', '', '₹6,12,000', '', '₹3,91,000', '₹3,12,000', '₹4,65,000', '₹7,35,000', '', '₹6,39,000', '₹3,59,000', '₹4,95,000', '', '', '₹4,88,000', '₹5,07,000', '₹5,56,000', '', '₹5,41,000', '', '₹6,10,000', '₹3,82,000', '₹6,27,000', '', '₹2,08,000', '₹6,77,000', '₹6,48,000', '₹4,11,000', '₹6,37,000', '', '₹6,25,000', '₹3,37,000', '₹4,79,000', '₹3,24,000', '', '₹7,96,000', '₹4,10,000', '₹4,70,000', '₹5,94,000', '₹5,29,000', '₹5,69,000', '₹3,43,000', '₹4,54,000', '₹6,92,000', '', '₹5,00,000', '', '₹5,56,000', '', '₹4,98,700', '₹6,16,000', '₹7,05,000', '₹3,45,000', '₹4,61,000', '₹3,03,000', '', '₹5,86,000', '₹7,62,000', '', '₹5,25,000', '₹6,28,000', '', '₹6,38,000', '', '₹4,50,000', '', '', '', '₹3,94,000', '₹7,37,000', '₹4,21,000', '₹7,05,000', '₹5,89,000', '₹5,74,000', '', '₹6,47,000', '₹6,45,000', '', '₹3,98,000', '', '₹4,68,000', '', '₹3,49,000', '', '', '₹5,15,000', '₹7,97,000', '', '', '₹4,32,000', '₹4,88,000', '₹7,19,000', '', '', '₹5,32,000', '', '', '₹5,08,000', '₹4,82,000', '₹7,66,000', '₹4,61,000', '₹6,83,000', '₹5,36,000', '₹4,14,000', '₹5,98,000', '₹6,40,000', '₹5,45,000', '', '₹6,65,000', '₹5,14,000', '₹5,95,000', '₹4,86,000', '₹3,82,000', '₹6,20,000', '₹7,06,000', '', '₹4,16,000', '₹6,47,000', '₹3,97,000', '₹5,84,000', '₹4,67,000', '₹6,50,000', '₹5,57,000', '₹4,33,000', '₹5,56,000', '', '', '₹5,52,000', '₹4,36,000', '₹4,70,000', '', '₹5,17,000', '₹4,45,000', '₹7,31,000', '₹6,55,000', '₹5,63,000', '₹6,54,000', '₹3,97,000', '₹6,27,000', '', '₹7,14,000', '₹4,29,000', '₹4,41,000', '', '₹4,24,000', '₹4,67,000', '', '', '₹6,05,000', '', '₹4,26,000', '', '₹3,11,000', '', '', '₹7,54,000', '₹4,46,000', '₹5,69,000', '', '', '₹5,37,000', '₹5,34,000', '₹5,71,000', '₹3,40,000', '₹7,41,000', '₹5,32,000', '₹6,27,000', '₹6,57,000', '', '', '₹5,85,000', '₹5,99,000', '₹3,92,000', '₹6,63,000', '₹3,10,000', '₹3,10,000', '₹6,38,000', '₹5,93,000', '', '', '₹7,01,000', '₹6,61,000', '₹4,21,000', '₹5,33,000', '₹7,15,000', '₹5,39,000', '₹3,33,000', '₹5,69,000', '', '₹4,36,000', '₹4,51,000', '', '₹3,74,500', '₹6,18,000', '', '₹3,33,000', '₹4,74,000', '', '₹4,07,000', '₹7,02,000', '₹5,06,000', '', '', '', '₹4,40,000', '', '₹5,49,000', '₹3,63,000', '', '₹5,90,000', '₹4,41,000', '₹5,74,000', '', '', '₹6,21,000', '₹6,22,000', '₹3,67,000', '₹4,66,000', '₹6,41,000', '', '₹7,75,000', '', '₹6,79,000', '₹4,46,000', '₹5,12,000', '', '₹4,41,000', '₹6,40,000', '', '', '', '₹3,59,000', '₹3,42,000', '₹7,46,200', '', '₹7,18,000', '₹3,12,000', '₹5,50,000', '₹7,10,000', '₹5,22,000', '₹3,34,000', '₹4,24,000', '', '', '₹3,54,000', '', '₹6,29,000', '₹4,38,000', '₹4,21,000', '₹4,85,000', '₹3,80,000', '₹6,41,000', '', '₹5,56,000', '₹5,05,000', '₹5,73,000', '', '₹5,56,000', '', '₹6,40,000', '₹5,79,000', '₹6,33,000', '₹6,24,000', '', '', '', '₹5,38,000', '₹4,39,000', '', '₹5,39,000', '₹4,44,000', '₹5,56,000', '', '', '₹4,71,000', '₹3,49,000', '₹7,16,000', '₹5,31,000', '₹6,30,000', '₹4,79,000', '', '₹4,07,000', '₹6,41,000', '', '₹4,80,800', '₹3,99,000', '₹5,30,000', '₹4,26,000', '', '₹5,80,000', '₹3,28,000', '', '₹5,35,000', '₹7,43,000', '₹5,56,000', '', '', '₹5,00,000', '', '₹3,78,000', '₹7,93,000', '₹5,61,000', '₹7,91,000', '₹5,84,000', '₹3,07,000', '₹5,56,000', '₹4,96,000', '₹7,20,000', '₹5,53,000', '₹5,39,000', '₹4,78,000', '₹5,08,000', '₹4,42,000', '₹6,05,000', '', '₹7,73,000', '₹4,84,000', '₹7,25,000', '₹3,03,000', '₹6,31,000', '₹4,24,000', '₹7,96,000', '', '₹5,73,000', '₹5,30,000', '₹3,54,000', '', '₹3,09,000', '', '₹5,42,000', '', '₹3,97,000', '', '₹7,14,000', '', '₹5,88,000', '₹5,02,000', '', '₹3,28,000', '₹3,24,000', '₹5,24,000', '₹3,77,000', '', '₹6,29,000', '₹4,11,000', '', '₹4,89,000', '₹7,09,000', '₹3,94,000', '₹5,05,000', '₹3,24,000', '₹7,18,000', '₹6,18,000', '₹4,94,000', '', '₹3,49,000', '₹4,64,000', '₹6,22,000', '₹6,83,000', '₹7,22,000', '', '₹3,46,000', '₹7,43,000', '', '₹5,02,000', '', '', '₹4,77,000', '', '₹6,01,000', '₹5,34,000', '', '₹3,24,000', '₹5,61,000', '₹6,11,000', '₹4,01,000', '₹4,51,000', '₹5,07,000', '', '₹3,71,000', '₹4,96,000', '₹4,96,000', '₹3,76,000', '', '₹4,33,000', '', '₹4,58,000', '₹5,94,000', '₹7,72,000', '₹5,62,000', '', '₹4,57,000', '₹4,37,000', '', '₹3,23,000', '₹3,62,000', '₹4,16,000', '₹6,43,000', '', '₹4,78,000', '₹3,39,000', '', '₹5,69,000', '', '₹7,43,000', '₹3,55,000', '₹5,34,000', '₹3,55,000', '', '₹5,69,000', '₹4,13,000', '₹4,73,000', '₹4,91,000', '₹7,80,000', '₹4,35,000', '₹5,69,000', '₹6,07,000', '₹5,77,000', '₹3,65,000', '₹4,42,000', '₹4,84,000', '₹4,76,000', '', '₹4,81,000', '₹5,52,000', '₹6,13,000', '₹6,21,000', '', '₹4,79,000', '₹6,84,000', '₹3,28,000', '₹4,09,000', '₹6,15,000', '', '', '₹5,36,000', '₹3,47,000', '₹6,27,000', '₹4,95,000', '₹6,62,000', '₹7,28,000', '₹4,05,000', '₹7,86,000', '₹4,09,000', '', '₹6,92,000', '₹6,71,000', '₹4,74,000', '₹3,25,000', '₹4,92,000', '₹6,13,000', '', '₹3,24,000', '₹6,66,000', '₹4,27,000']\n"
     ]
    }
   ],
   "source": [
    "print(price)"
   ]
  },
  {
   "cell_type": "code",
   "execution_count": 39,
   "metadata": {},
   "outputs": [
    {
     "data": {
      "text/plain": [
       "880"
      ]
     },
     "execution_count": 39,
     "metadata": {},
     "output_type": "execute_result"
    }
   ],
   "source": [
    "len(price)"
   ]
  },
  {
   "cell_type": "markdown",
   "metadata": {},
   "source": [
    "scrapping data for mumbai location"
   ]
  },
  {
   "cell_type": "code",
   "execution_count": 40,
   "metadata": {},
   "outputs": [],
   "source": [
    "year1=[]\n",
    "y=driver.find_elements(By.XPATH,\"//h2[@class='_3FpCg']\")\n",
    "for i in y:\n",
    "    yr=i.text.split(' ')[0]\n",
    "    year1.append(yr)"
   ]
  },
  {
   "cell_type": "code",
   "execution_count": 41,
   "metadata": {},
   "outputs": [
    {
     "data": {
      "text/plain": [
       "574"
      ]
     },
     "execution_count": 41,
     "metadata": {},
     "output_type": "execute_result"
    }
   ],
   "source": [
    "len(year1)"
   ]
  },
  {
   "cell_type": "code",
   "execution_count": 42,
   "metadata": {},
   "outputs": [],
   "source": [
    "brand1=[]\n",
    "b=driver.find_elements(By.XPATH,\"//h2[@class='_3FpCg']\")\n",
    "for i in b:\n",
    "    br=i.text.split(' ')[1]\n",
    "    brand1.append(br)"
   ]
  },
  {
   "cell_type": "code",
   "execution_count": 43,
   "metadata": {},
   "outputs": [],
   "source": [
    "model1=[]\n",
    "m=driver.find_elements(By.XPATH,\"//h2[@class='_3FpCg']\")\n",
    "for i in m:\n",
    "    mo=i.text.split(' ')[2]\n",
    "    model1.append(mo)"
   ]
  },
  {
   "cell_type": "code",
   "execution_count": 44,
   "metadata": {},
   "outputs": [],
   "source": [
    "kms1=[]\n",
    "k=driver.find_elements(By.XPATH,\"//ul[@class='bVR0c']\")\n",
    "for i in k:\n",
    "    km=i.text.split(\"\\n\")[0]\n",
    "    km=i.text.split(\" \")[0]\n",
    "    kms1.append(km)"
   ]
  },
  {
   "cell_type": "code",
   "execution_count": 45,
   "metadata": {},
   "outputs": [],
   "source": [
    "owner1=[]\n",
    "o=driver.find_elements(By.XPATH,\"//ul[@class='bVR0c']\")\n",
    "for i in o:\n",
    "    ow=i.text.split(\"\\n\")[1]\n",
    "    owner1.append(ow)"
   ]
  },
  {
   "cell_type": "code",
   "execution_count": 46,
   "metadata": {},
   "outputs": [],
   "source": [
    "fuel1=[]\n",
    "f=driver.find_elements(By.XPATH,\"//ul[@class='bVR0c']\")\n",
    "for i in f:\n",
    "    fu=i.text.split(\"\\n\")[2]\n",
    "    fuel1.append(fu)"
   ]
  },
  {
   "cell_type": "code",
   "execution_count": 47,
   "metadata": {},
   "outputs": [],
   "source": [
    "type1=[]\n",
    "t=driver.find_elements(By.XPATH,\"//p[@class='cvakB']/span\")\n",
    "for i in t:\n",
    "    ty=i.text\n",
    "    type1.append(ty)"
   ]
  },
  {
   "cell_type": "code",
   "execution_count": 48,
   "metadata": {},
   "outputs": [],
   "source": [
    "price1=[]\n",
    "p=driver.find_elements(By.XPATH,\"//div[@class='_7udZZ']/span\")\n",
    "for i in p:\n",
    "    pr=i.text\n",
    "    price1.append(pr)"
   ]
  },
  {
   "cell_type": "markdown",
   "metadata": {},
   "source": [
    "scrapping data for bangalore"
   ]
  },
  {
   "cell_type": "code",
   "execution_count": 52,
   "metadata": {},
   "outputs": [],
   "source": [
    "year2=[]\n",
    "y=driver.find_elements(By.XPATH,\"//h2[@class='_3FpCg']\")\n",
    "for i in y:\n",
    "    yr=i.text.split(' ')[0]\n",
    "    year2.append(yr)\n",
    "    \n",
    "brand2=[]\n",
    "b=driver.find_elements(By.XPATH,\"//h2[@class='_3FpCg']\")\n",
    "for i in b:\n",
    "    br=i.text.split(' ')[1]\n",
    "    brand2.append(br)\n",
    "    \n",
    "model2=[]\n",
    "m=driver.find_elements(By.XPATH,\"//h2[@class='_3FpCg']\")\n",
    "for i in m:\n",
    "    mo=i.text.split(' ')[2]\n",
    "    model2.append(mo)\n",
    "    \n",
    "kms2=[]\n",
    "k=driver.find_elements(By.XPATH,\"//ul[@class='bVR0c']\")\n",
    "for i in k:\n",
    "    km=i.text.split(\"\\n\")[0]\n",
    "    km=i.text.split(\" \")[0]\n",
    "    kms2.append(km)\n",
    "    \n",
    "owner2=[]\n",
    "o=driver.find_elements(By.XPATH,\"//ul[@class='bVR0c']\")\n",
    "for i in o:\n",
    "    ow=i.text.split(\"\\n\")[1]\n",
    "    owner2.append(ow)  \n",
    "    \n",
    "fuel2=[]\n",
    "f=driver.find_elements(By.XPATH,\"//ul[@class='bVR0c']\")\n",
    "for i in f:\n",
    "    fu=i.text.split(\"\\n\")[2]\n",
    "    fuel2.append(fu)   \n",
    "    \n",
    "type2=[]\n",
    "t=driver.find_elements(By.XPATH,\"//p[@class='cvakB']/span\")\n",
    "for i in t:\n",
    "    ty=i.text\n",
    "    type2.append(ty)  \n",
    "    \n",
    "price2=[]\n",
    "p=driver.find_elements(By.XPATH,\"//div[@class='_7udZZ']/span\")\n",
    "for i in p:\n",
    "    pr=i.text\n",
    "    price2.append(pr)"
   ]
  },
  {
   "cell_type": "code",
   "execution_count": 53,
   "metadata": {},
   "outputs": [
    {
     "data": {
      "text/plain": [
       "960"
      ]
     },
     "execution_count": 53,
     "metadata": {},
     "output_type": "execute_result"
    }
   ],
   "source": [
    "len(year2)"
   ]
  },
  {
   "cell_type": "markdown",
   "metadata": {},
   "source": [
    "scrapping the data for noida location"
   ]
  },
  {
   "cell_type": "code",
   "execution_count": 55,
   "metadata": {},
   "outputs": [],
   "source": [
    "year3=[]\n",
    "y=driver.find_elements(By.XPATH,\"//h2[@class='_3FpCg']\")\n",
    "for i in y:\n",
    "    yr=i.text.split(' ')[0]\n",
    "    year3.append(yr)\n",
    "    \n",
    "brand3=[]\n",
    "b=driver.find_elements(By.XPATH,\"//h2[@class='_3FpCg']\")\n",
    "for i in b:\n",
    "    br=i.text.split(' ')[1]\n",
    "    brand3.append(br)\n",
    "    \n",
    "model3=[]\n",
    "m=driver.find_elements(By.XPATH,\"//h2[@class='_3FpCg']\")\n",
    "for i in m:\n",
    "    mo=i.text.split(' ')[2]\n",
    "    model3.append(mo)\n",
    "    \n",
    "kms3=[]\n",
    "k=driver.find_elements(By.XPATH,\"//ul[@class='bVR0c']\")\n",
    "for i in k:\n",
    "    km=i.text.split(\"\\n\")[0]\n",
    "    km=i.text.split(\" \")[0]\n",
    "    kms3.append(km)\n",
    "    \n",
    "owner3=[]\n",
    "o=driver.find_elements(By.XPATH,\"//ul[@class='bVR0c']\")\n",
    "for i in o:\n",
    "    ow=i.text.split(\"\\n\")[1]\n",
    "    owner3.append(ow)  \n",
    "    \n",
    "fuel3=[]\n",
    "f=driver.find_elements(By.XPATH,\"//ul[@class='bVR0c']\")\n",
    "for i in f:\n",
    "    fu=i.text.split(\"\\n\")[2]\n",
    "    fuel3.append(fu)   \n",
    "    \n",
    "type3=[]\n",
    "t=driver.find_elements(By.XPATH,\"//p[@class='cvakB']/span\")\n",
    "for i in t:\n",
    "    ty=i.text\n",
    "    type3.append(ty)  \n",
    "    \n",
    "price3=[]\n",
    "p=driver.find_elements(By.XPATH,\"//div[@class='_7udZZ']/span\")\n",
    "for i in p:\n",
    "    pr=i.text\n",
    "    price3.append(pr)"
   ]
  },
  {
   "cell_type": "code",
   "execution_count": 56,
   "metadata": {},
   "outputs": [
    {
     "data": {
      "text/plain": [
       "1197"
      ]
     },
     "execution_count": 56,
     "metadata": {},
     "output_type": "execute_result"
    }
   ],
   "source": [
    "len(year3)"
   ]
  },
  {
   "cell_type": "markdown",
   "metadata": {},
   "source": [
    "scarpping data for hyderabad location"
   ]
  },
  {
   "cell_type": "code",
   "execution_count": 57,
   "metadata": {},
   "outputs": [],
   "source": [
    "year4=[]\n",
    "y=driver.find_elements(By.XPATH,\"//h2[@class='_3FpCg']\")\n",
    "for i in y:\n",
    "    yr=i.text.split(' ')[0]\n",
    "    year4.append(yr)\n",
    "    \n",
    "brand4=[]\n",
    "b=driver.find_elements(By.XPATH,\"//h2[@class='_3FpCg']\")\n",
    "for i in b:\n",
    "    br=i.text.split(' ')[1]\n",
    "    brand4.append(br)\n",
    "    \n",
    "model4=[]\n",
    "m=driver.find_elements(By.XPATH,\"//h2[@class='_3FpCg']\")\n",
    "for i in m:\n",
    "    mo=i.text.split(' ')[2]\n",
    "    model4.append(mo)\n",
    "    \n",
    "kms4=[]\n",
    "k=driver.find_elements(By.XPATH,\"//ul[@class='bVR0c']\")\n",
    "for i in k:\n",
    "    km=i.text.split(\"\\n\")[0]\n",
    "    km=i.text.split(\" \")[0]\n",
    "    kms4.append(km)\n",
    "    \n",
    "owner4=[]\n",
    "o=driver.find_elements(By.XPATH,\"//ul[@class='bVR0c']\")\n",
    "for i in o:\n",
    "    ow=i.text.split(\"\\n\")[1]\n",
    "    owner4.append(ow)  \n",
    "    \n",
    "fuel4=[]\n",
    "f=driver.find_elements(By.XPATH,\"//ul[@class='bVR0c']\")\n",
    "for i in f:\n",
    "    fu=i.text.split(\"\\n\")[2]\n",
    "    fuel4.append(fu)   \n",
    "    \n",
    "type4=[]\n",
    "t=driver.find_elements(By.XPATH,\"//p[@class='cvakB']/span\")\n",
    "for i in t:\n",
    "    ty=i.text\n",
    "    type4.append(ty)  \n",
    "    \n",
    "price4=[]\n",
    "p=driver.find_elements(By.XPATH,\"//div[@class='_7udZZ']/span\")\n",
    "for i in p:\n",
    "    pr=i.text\n",
    "    price4.append(pr)"
   ]
  },
  {
   "cell_type": "code",
   "execution_count": 59,
   "metadata": {},
   "outputs": [
    {
     "data": {
      "text/plain": [
       "576"
      ]
     },
     "execution_count": 59,
     "metadata": {},
     "output_type": "execute_result"
    }
   ],
   "source": [
    "len(year4)"
   ]
  },
  {
   "cell_type": "markdown",
   "metadata": {},
   "source": [
    "combining all the data"
   ]
  },
  {
   "cell_type": "code",
   "execution_count": 60,
   "metadata": {},
   "outputs": [],
   "source": [
    "finalyear= year+year1+year2+year3+year4"
   ]
  },
  {
   "cell_type": "code",
   "execution_count": 61,
   "metadata": {},
   "outputs": [
    {
     "data": {
      "text/plain": [
       "4187"
      ]
     },
     "execution_count": 61,
     "metadata": {},
     "output_type": "execute_result"
    }
   ],
   "source": [
    "len(finalyear)"
   ]
  },
  {
   "cell_type": "code",
   "execution_count": 62,
   "metadata": {},
   "outputs": [],
   "source": [
    "finalbrand= brand+brand1+brand2+brand3+brand4"
   ]
  },
  {
   "cell_type": "code",
   "execution_count": 63,
   "metadata": {},
   "outputs": [
    {
     "data": {
      "text/plain": [
       "4187"
      ]
     },
     "execution_count": 63,
     "metadata": {},
     "output_type": "execute_result"
    }
   ],
   "source": [
    "len(finalbrand)"
   ]
  },
  {
   "cell_type": "code",
   "execution_count": 64,
   "metadata": {},
   "outputs": [],
   "source": [
    "finalmodel= model+model1+model2+model3+model4"
   ]
  },
  {
   "cell_type": "code",
   "execution_count": 65,
   "metadata": {},
   "outputs": [
    {
     "data": {
      "text/plain": [
       "4187"
      ]
     },
     "execution_count": 65,
     "metadata": {},
     "output_type": "execute_result"
    }
   ],
   "source": [
    "len(finalmodel)"
   ]
  },
  {
   "cell_type": "code",
   "execution_count": 66,
   "metadata": {},
   "outputs": [],
   "source": [
    "finalkms= kms+kms1+kms2+kms3+kms4"
   ]
  },
  {
   "cell_type": "code",
   "execution_count": 67,
   "metadata": {},
   "outputs": [
    {
     "data": {
      "text/plain": [
       "4187"
      ]
     },
     "execution_count": 67,
     "metadata": {},
     "output_type": "execute_result"
    }
   ],
   "source": [
    "len(finalkms)"
   ]
  },
  {
   "cell_type": "code",
   "execution_count": 68,
   "metadata": {},
   "outputs": [],
   "source": [
    "finaltype= type+type1+type2+type3+type4"
   ]
  },
  {
   "cell_type": "code",
   "execution_count": 70,
   "metadata": {},
   "outputs": [
    {
     "data": {
      "text/plain": [
       "4187"
      ]
     },
     "execution_count": 70,
     "metadata": {},
     "output_type": "execute_result"
    }
   ],
   "source": [
    "len(finaltype)"
   ]
  },
  {
   "cell_type": "code",
   "execution_count": 71,
   "metadata": {},
   "outputs": [],
   "source": [
    "finalowner= owner+owner1+owner2+owner3+owner4"
   ]
  },
  {
   "cell_type": "code",
   "execution_count": 72,
   "metadata": {},
   "outputs": [
    {
     "data": {
      "text/plain": [
       "4187"
      ]
     },
     "execution_count": 72,
     "metadata": {},
     "output_type": "execute_result"
    }
   ],
   "source": [
    "len(finalowner)"
   ]
  },
  {
   "cell_type": "code",
   "execution_count": 73,
   "metadata": {},
   "outputs": [],
   "source": [
    "finalfuel= fuel+fuel1+fuel2+fuel3+fuel4"
   ]
  },
  {
   "cell_type": "code",
   "execution_count": 74,
   "metadata": {},
   "outputs": [
    {
     "data": {
      "text/plain": [
       "4187"
      ]
     },
     "execution_count": 74,
     "metadata": {},
     "output_type": "execute_result"
    }
   ],
   "source": [
    "len(finalfuel)"
   ]
  },
  {
   "cell_type": "code",
   "execution_count": 75,
   "metadata": {},
   "outputs": [],
   "source": [
    "finalprice= price+price1+price2+price3+price4"
   ]
  },
  {
   "cell_type": "code",
   "execution_count": 76,
   "metadata": {},
   "outputs": [
    {
     "data": {
      "text/plain": [
       "4187"
      ]
     },
     "execution_count": 76,
     "metadata": {},
     "output_type": "execute_result"
    }
   ],
   "source": [
    "len(finalprice)"
   ]
  },
  {
   "cell_type": "code",
   "execution_count": 79,
   "metadata": {},
   "outputs": [
    {
     "data": {
      "text/html": [
       "<div>\n",
       "<style scoped>\n",
       "    .dataframe tbody tr th:only-of-type {\n",
       "        vertical-align: middle;\n",
       "    }\n",
       "\n",
       "    .dataframe tbody tr th {\n",
       "        vertical-align: top;\n",
       "    }\n",
       "\n",
       "    .dataframe thead th {\n",
       "        text-align: right;\n",
       "    }\n",
       "</style>\n",
       "<table border=\"1\" class=\"dataframe\">\n",
       "  <thead>\n",
       "    <tr style=\"text-align: right;\">\n",
       "      <th></th>\n",
       "      <th>Year</th>\n",
       "      <th>Brand</th>\n",
       "      <th>Model</th>\n",
       "      <th>kms_droved</th>\n",
       "      <th>Fuel_type</th>\n",
       "      <th>vehicle_type</th>\n",
       "      <th>No.Of_Owners</th>\n",
       "      <th>Price</th>\n",
       "    </tr>\n",
       "  </thead>\n",
       "  <tbody>\n",
       "    <tr>\n",
       "      <th>0</th>\n",
       "      <td>2020</td>\n",
       "      <td>KIA</td>\n",
       "      <td>SELTOS</td>\n",
       "      <td>4,765</td>\n",
       "      <td>Petrol</td>\n",
       "      <td>Manual</td>\n",
       "      <td>1st Owner</td>\n",
       "      <td></td>\n",
       "    </tr>\n",
       "    <tr>\n",
       "      <th>1</th>\n",
       "      <td>2018</td>\n",
       "      <td>Hyundai</td>\n",
       "      <td>Grand</td>\n",
       "      <td>5,505</td>\n",
       "      <td>Petrol</td>\n",
       "      <td>Manual</td>\n",
       "      <td>1st Owner</td>\n",
       "      <td>₹5,30,000</td>\n",
       "    </tr>\n",
       "    <tr>\n",
       "      <th>2</th>\n",
       "      <td>2021</td>\n",
       "      <td>KIA</td>\n",
       "      <td>SELTOS</td>\n",
       "      <td>5,500</td>\n",
       "      <td>Petrol</td>\n",
       "      <td>Manual</td>\n",
       "      <td>1st Owner</td>\n",
       "      <td></td>\n",
       "    </tr>\n",
       "    <tr>\n",
       "      <th>3</th>\n",
       "      <td>2019</td>\n",
       "      <td>Maruti</td>\n",
       "      <td>Swift</td>\n",
       "      <td>14,097</td>\n",
       "      <td>Petrol</td>\n",
       "      <td>Manual</td>\n",
       "      <td>1st Owner</td>\n",
       "      <td>₹5,41,000</td>\n",
       "    </tr>\n",
       "    <tr>\n",
       "      <th>4</th>\n",
       "      <td>2020</td>\n",
       "      <td>Maruti</td>\n",
       "      <td>Swift</td>\n",
       "      <td>12,421</td>\n",
       "      <td>Petrol</td>\n",
       "      <td>Manual</td>\n",
       "      <td>1st Owner</td>\n",
       "      <td>₹5,62,000</td>\n",
       "    </tr>\n",
       "    <tr>\n",
       "      <th>...</th>\n",
       "      <td>...</td>\n",
       "      <td>...</td>\n",
       "      <td>...</td>\n",
       "      <td>...</td>\n",
       "      <td>...</td>\n",
       "      <td>...</td>\n",
       "      <td>...</td>\n",
       "      <td>...</td>\n",
       "    </tr>\n",
       "    <tr>\n",
       "      <th>4182</th>\n",
       "      <td>2020</td>\n",
       "      <td>Hyundai</td>\n",
       "      <td>Creta</td>\n",
       "      <td>50,374</td>\n",
       "      <td>Petrol</td>\n",
       "      <td>Automatic</td>\n",
       "      <td>1st Owner</td>\n",
       "      <td>₹17,75,000</td>\n",
       "    </tr>\n",
       "    <tr>\n",
       "      <th>4183</th>\n",
       "      <td>2016</td>\n",
       "      <td>Hyundai</td>\n",
       "      <td>Creta</td>\n",
       "      <td>55,748</td>\n",
       "      <td>Petrol</td>\n",
       "      <td>Automatic</td>\n",
       "      <td>2nd Owner</td>\n",
       "      <td>₹10,81,000</td>\n",
       "    </tr>\n",
       "    <tr>\n",
       "      <th>4184</th>\n",
       "      <td>2019</td>\n",
       "      <td>Maruti</td>\n",
       "      <td>Swift</td>\n",
       "      <td>58,868</td>\n",
       "      <td>Diesel</td>\n",
       "      <td>Manual</td>\n",
       "      <td>1st Owner</td>\n",
       "      <td>₹6,91,000</td>\n",
       "    </tr>\n",
       "    <tr>\n",
       "      <th>4185</th>\n",
       "      <td>2012</td>\n",
       "      <td>Maruti</td>\n",
       "      <td>Alto</td>\n",
       "      <td>68,415</td>\n",
       "      <td>Petrol</td>\n",
       "      <td>Manual</td>\n",
       "      <td>2nd Owner</td>\n",
       "      <td>₹2,40,000</td>\n",
       "    </tr>\n",
       "    <tr>\n",
       "      <th>4186</th>\n",
       "      <td>2018</td>\n",
       "      <td>Hyundai</td>\n",
       "      <td>Grand</td>\n",
       "      <td>65,097</td>\n",
       "      <td>Petrol</td>\n",
       "      <td>Automatic</td>\n",
       "      <td>1st Owner</td>\n",
       "      <td>₹5,91,000</td>\n",
       "    </tr>\n",
       "  </tbody>\n",
       "</table>\n",
       "<p>4187 rows × 8 columns</p>\n",
       "</div>"
      ],
      "text/plain": [
       "      Year    Brand   Model kms_droved Fuel_type vehicle_type No.Of_Owners  \\\n",
       "0     2020      KIA  SELTOS      4,765    Petrol       Manual    1st Owner   \n",
       "1     2018  Hyundai   Grand      5,505    Petrol       Manual    1st Owner   \n",
       "2     2021      KIA  SELTOS      5,500    Petrol       Manual    1st Owner   \n",
       "3     2019   Maruti   Swift     14,097    Petrol       Manual    1st Owner   \n",
       "4     2020   Maruti   Swift     12,421    Petrol       Manual    1st Owner   \n",
       "...    ...      ...     ...        ...       ...          ...          ...   \n",
       "4182  2020  Hyundai   Creta     50,374    Petrol    Automatic    1st Owner   \n",
       "4183  2016  Hyundai   Creta     55,748    Petrol    Automatic    2nd Owner   \n",
       "4184  2019   Maruti   Swift     58,868    Diesel       Manual    1st Owner   \n",
       "4185  2012   Maruti    Alto     68,415    Petrol       Manual    2nd Owner   \n",
       "4186  2018  Hyundai   Grand     65,097    Petrol    Automatic    1st Owner   \n",
       "\n",
       "           Price  \n",
       "0                 \n",
       "1      ₹5,30,000  \n",
       "2                 \n",
       "3      ₹5,41,000  \n",
       "4      ₹5,62,000  \n",
       "...          ...  \n",
       "4182  ₹17,75,000  \n",
       "4183  ₹10,81,000  \n",
       "4184   ₹6,91,000  \n",
       "4185   ₹2,40,000  \n",
       "4186   ₹5,91,000  \n",
       "\n",
       "[4187 rows x 8 columns]"
      ]
     },
     "execution_count": 79,
     "metadata": {},
     "output_type": "execute_result"
    }
   ],
   "source": [
    "#creating dataframe\n",
    "used_cars=pd.DataFrame({'Year':finalyear,'Brand':finalbrand,'Model':finalmodel,'kms_droved':finalkms,'Fuel_type':finalfuel,'vehicle_type':finaltype,'No.Of_Owners':finalowner,'Price':finalprice})\n",
    "used_cars"
   ]
  },
  {
   "cell_type": "code",
   "execution_count": 81,
   "metadata": {},
   "outputs": [],
   "source": [
    "#creating csv file\n",
    "used_cars.to_csv(\"used_cars.csv\",index=False)"
   ]
  },
  {
   "cell_type": "code",
   "execution_count": null,
   "metadata": {},
   "outputs": [],
   "source": []
  },
  {
   "cell_type": "code",
   "execution_count": null,
   "metadata": {},
   "outputs": [],
   "source": []
  },
  {
   "cell_type": "code",
   "execution_count": null,
   "metadata": {},
   "outputs": [],
   "source": []
  }
 ],
 "metadata": {
  "kernelspec": {
   "display_name": "Python 3",
   "language": "python",
   "name": "python3"
  },
  "language_info": {
   "codemirror_mode": {
    "name": "ipython",
    "version": 3
   },
   "file_extension": ".py",
   "mimetype": "text/x-python",
   "name": "python",
   "nbconvert_exporter": "python",
   "pygments_lexer": "ipython3",
   "version": "3.7.6"
  }
 },
 "nbformat": 4,
 "nbformat_minor": 4
}
