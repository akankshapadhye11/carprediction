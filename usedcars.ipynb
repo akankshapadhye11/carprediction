{
 "cells": [
  {
   "cell_type": "code",
   "execution_count": 51,
   "metadata": {},
   "outputs": [],
   "source": [
    "#importing all the required libraries\n",
    "import numpy as np\n",
    "import pandas as pd\n",
    "import seaborn as sns\n",
    "import matplotlib.pyplot as plt\n",
    "from scipy.stats import zscore\n",
    "from sklearn.linear_model import LinearRegression,Lasso,Ridge,ElasticNet\n",
    "from sklearn.model_selection import train_test_split,GridSearchCV, cross_val_score\n",
    "from sklearn.metrics import r2_score\n",
    "from sklearn.metrics import mean_absolute_error,mean_squared_error\n",
    "from sklearn.preprocessing import LabelEncoder\n",
    "from sklearn.preprocessing import StandardScaler\n",
    "from sklearn.svm import SVR\n",
    "from sklearn.neighbors import KNeighborsRegressor\n",
    "from sklearn.tree import DecisionTreeRegressor\n",
    "from sklearn.ensemble import RandomForestRegressor\n",
    "from sklearn.ensemble import AdaBoostRegressor\n",
    "from sklearn.ensemble import GradientBoostingRegressor, ExtraTreesRegressor\n",
    "import warnings\n",
    "warnings.filterwarnings('ignore')"
   ]
  },
  {
   "cell_type": "code",
   "execution_count": 2,
   "metadata": {},
   "outputs": [
    {
     "data": {
      "text/html": [
       "<div>\n",
       "<style scoped>\n",
       "    .dataframe tbody tr th:only-of-type {\n",
       "        vertical-align: middle;\n",
       "    }\n",
       "\n",
       "    .dataframe tbody tr th {\n",
       "        vertical-align: top;\n",
       "    }\n",
       "\n",
       "    .dataframe thead th {\n",
       "        text-align: right;\n",
       "    }\n",
       "</style>\n",
       "<table border=\"1\" class=\"dataframe\">\n",
       "  <thead>\n",
       "    <tr style=\"text-align: right;\">\n",
       "      <th></th>\n",
       "      <th>Year</th>\n",
       "      <th>Brand</th>\n",
       "      <th>Model</th>\n",
       "      <th>kms_droved</th>\n",
       "      <th>Fuel_type</th>\n",
       "      <th>vehicle_type</th>\n",
       "      <th>No.Of_Owners</th>\n",
       "      <th>Price</th>\n",
       "    </tr>\n",
       "  </thead>\n",
       "  <tbody>\n",
       "    <tr>\n",
       "      <th>0</th>\n",
       "      <td>2020</td>\n",
       "      <td>KIA</td>\n",
       "      <td>SELTOS</td>\n",
       "      <td>4,765</td>\n",
       "      <td>Petrol</td>\n",
       "      <td>Manual</td>\n",
       "      <td>1st Owner</td>\n",
       "      <td>NaN</td>\n",
       "    </tr>\n",
       "    <tr>\n",
       "      <th>1</th>\n",
       "      <td>2018</td>\n",
       "      <td>Hyundai</td>\n",
       "      <td>Grand</td>\n",
       "      <td>5,505</td>\n",
       "      <td>Petrol</td>\n",
       "      <td>Manual</td>\n",
       "      <td>1st Owner</td>\n",
       "      <td>₹5,30,000</td>\n",
       "    </tr>\n",
       "    <tr>\n",
       "      <th>2</th>\n",
       "      <td>2021</td>\n",
       "      <td>KIA</td>\n",
       "      <td>SELTOS</td>\n",
       "      <td>5,500</td>\n",
       "      <td>Petrol</td>\n",
       "      <td>Manual</td>\n",
       "      <td>1st Owner</td>\n",
       "      <td>NaN</td>\n",
       "    </tr>\n",
       "    <tr>\n",
       "      <th>3</th>\n",
       "      <td>2019</td>\n",
       "      <td>Maruti</td>\n",
       "      <td>Swift</td>\n",
       "      <td>14,097</td>\n",
       "      <td>Petrol</td>\n",
       "      <td>Manual</td>\n",
       "      <td>1st Owner</td>\n",
       "      <td>₹5,41,000</td>\n",
       "    </tr>\n",
       "    <tr>\n",
       "      <th>4</th>\n",
       "      <td>2020</td>\n",
       "      <td>Maruti</td>\n",
       "      <td>Swift</td>\n",
       "      <td>12,421</td>\n",
       "      <td>Petrol</td>\n",
       "      <td>Manual</td>\n",
       "      <td>1st Owner</td>\n",
       "      <td>₹5,62,000</td>\n",
       "    </tr>\n",
       "    <tr>\n",
       "      <th>...</th>\n",
       "      <td>...</td>\n",
       "      <td>...</td>\n",
       "      <td>...</td>\n",
       "      <td>...</td>\n",
       "      <td>...</td>\n",
       "      <td>...</td>\n",
       "      <td>...</td>\n",
       "      <td>...</td>\n",
       "    </tr>\n",
       "    <tr>\n",
       "      <th>4182</th>\n",
       "      <td>2020</td>\n",
       "      <td>Hyundai</td>\n",
       "      <td>Creta</td>\n",
       "      <td>50,374</td>\n",
       "      <td>Petrol</td>\n",
       "      <td>Automatic</td>\n",
       "      <td>1st Owner</td>\n",
       "      <td>₹17,75,000</td>\n",
       "    </tr>\n",
       "    <tr>\n",
       "      <th>4183</th>\n",
       "      <td>2016</td>\n",
       "      <td>Hyundai</td>\n",
       "      <td>Creta</td>\n",
       "      <td>55,748</td>\n",
       "      <td>Petrol</td>\n",
       "      <td>Automatic</td>\n",
       "      <td>2nd Owner</td>\n",
       "      <td>₹10,81,000</td>\n",
       "    </tr>\n",
       "    <tr>\n",
       "      <th>4184</th>\n",
       "      <td>2019</td>\n",
       "      <td>Maruti</td>\n",
       "      <td>Swift</td>\n",
       "      <td>58,868</td>\n",
       "      <td>Diesel</td>\n",
       "      <td>Manual</td>\n",
       "      <td>1st Owner</td>\n",
       "      <td>₹6,91,000</td>\n",
       "    </tr>\n",
       "    <tr>\n",
       "      <th>4185</th>\n",
       "      <td>2012</td>\n",
       "      <td>Maruti</td>\n",
       "      <td>Alto</td>\n",
       "      <td>68,415</td>\n",
       "      <td>Petrol</td>\n",
       "      <td>Manual</td>\n",
       "      <td>2nd Owner</td>\n",
       "      <td>₹2,40,000</td>\n",
       "    </tr>\n",
       "    <tr>\n",
       "      <th>4186</th>\n",
       "      <td>2018</td>\n",
       "      <td>Hyundai</td>\n",
       "      <td>Grand</td>\n",
       "      <td>65,097</td>\n",
       "      <td>Petrol</td>\n",
       "      <td>Automatic</td>\n",
       "      <td>1st Owner</td>\n",
       "      <td>₹5,91,000</td>\n",
       "    </tr>\n",
       "  </tbody>\n",
       "</table>\n",
       "<p>4187 rows × 8 columns</p>\n",
       "</div>"
      ],
      "text/plain": [
       "      Year    Brand   Model kms_droved Fuel_type vehicle_type No.Of_Owners  \\\n",
       "0     2020      KIA  SELTOS      4,765    Petrol       Manual    1st Owner   \n",
       "1     2018  Hyundai   Grand      5,505    Petrol       Manual    1st Owner   \n",
       "2     2021      KIA  SELTOS      5,500    Petrol       Manual    1st Owner   \n",
       "3     2019   Maruti   Swift     14,097    Petrol       Manual    1st Owner   \n",
       "4     2020   Maruti   Swift     12,421    Petrol       Manual    1st Owner   \n",
       "...    ...      ...     ...        ...       ...          ...          ...   \n",
       "4182  2020  Hyundai   Creta     50,374    Petrol    Automatic    1st Owner   \n",
       "4183  2016  Hyundai   Creta     55,748    Petrol    Automatic    2nd Owner   \n",
       "4184  2019   Maruti   Swift     58,868    Diesel       Manual    1st Owner   \n",
       "4185  2012   Maruti    Alto     68,415    Petrol       Manual    2nd Owner   \n",
       "4186  2018  Hyundai   Grand     65,097    Petrol    Automatic    1st Owner   \n",
       "\n",
       "           Price  \n",
       "0            NaN  \n",
       "1      ₹5,30,000  \n",
       "2            NaN  \n",
       "3      ₹5,41,000  \n",
       "4      ₹5,62,000  \n",
       "...          ...  \n",
       "4182  ₹17,75,000  \n",
       "4183  ₹10,81,000  \n",
       "4184   ₹6,91,000  \n",
       "4185   ₹2,40,000  \n",
       "4186   ₹5,91,000  \n",
       "\n",
       "[4187 rows x 8 columns]"
      ]
     },
     "execution_count": 2,
     "metadata": {},
     "output_type": "execute_result"
    }
   ],
   "source": [
    "df=pd.read_csv('used_cars.csv')\n",
    "df"
   ]
  },
  {
   "cell_type": "code",
   "execution_count": 3,
   "metadata": {},
   "outputs": [
    {
     "data": {
      "text/plain": [
       "Year             int64\n",
       "Brand           object\n",
       "Model           object\n",
       "kms_droved      object\n",
       "Fuel_type       object\n",
       "vehicle_type    object\n",
       "No.Of_Owners    object\n",
       "Price           object\n",
       "dtype: object"
      ]
     },
     "execution_count": 3,
     "metadata": {},
     "output_type": "execute_result"
    }
   ],
   "source": [
    "df.dtypes"
   ]
  },
  {
   "cell_type": "code",
   "execution_count": 4,
   "metadata": {},
   "outputs": [
    {
     "data": {
      "text/plain": [
       "Index(['Year', 'Brand', 'Model', 'kms_droved', 'Fuel_type', 'vehicle_type',\n",
       "       'No.Of_Owners', 'Price'],\n",
       "      dtype='object')"
      ]
     },
     "execution_count": 4,
     "metadata": {},
     "output_type": "execute_result"
    }
   ],
   "source": [
    "df.columns"
   ]
  },
  {
   "cell_type": "code",
   "execution_count": 5,
   "metadata": {},
   "outputs": [
    {
     "data": {
      "text/plain": [
       "Year               0\n",
       "Brand              0\n",
       "Model              0\n",
       "kms_droved         0\n",
       "Fuel_type          0\n",
       "vehicle_type     243\n",
       "No.Of_Owners       0\n",
       "Price           1047\n",
       "dtype: int64"
      ]
     },
     "execution_count": 5,
     "metadata": {},
     "output_type": "execute_result"
    }
   ],
   "source": [
    "df.isnull().sum()"
   ]
  },
  {
   "cell_type": "code",
   "execution_count": 6,
   "metadata": {},
   "outputs": [
    {
     "data": {
      "text/plain": [
       "<matplotlib.axes._subplots.AxesSubplot at 0x117e25c8>"
      ]
     },
     "execution_count": 6,
     "metadata": {},
     "output_type": "execute_result"
    },
    {
     "data": {
      "image/png": "[encoded data removed]",
      "text/plain": [
       "<Figure size 432x288 with 2 Axes>"
      ]
     },
     "metadata": {
      "needs_background": "light"
     },
     "output_type": "display_data"
    }
   ],
   "source": [
    "#Data visualization\n",
    "#checking missing values\n",
    "sns.heatmap(df.isnull())"
   ]
  },
  {
   "cell_type": "markdown",
   "metadata": {},
   "source": [
    "data is missing"
   ]
  },
  {
   "cell_type": "code",
   "execution_count": 7,
   "metadata": {},
   "outputs": [
    {
     "data": {
      "text/plain": [
       "array([nan, '₹5,30,000', '₹5,41,000', '₹5,62,000', '₹5,52,000',\n",
       "       '₹5,00,000', '₹4,90,000', '₹5,12,000', '₹6,62,000', '₹5,29,000',\n",
       "       '₹6,46,000', '₹5,10,000', '₹6,37,000', '₹4,73,000', '₹7,12,000',\n",
       "       '₹2,85,000', '₹2,62,000', '₹2,73,000', '₹5,15,000', '₹5,68,000',\n",
       "       '₹2,77,000', '₹6,09,000', '₹2,96,000', '₹5,28,000', '₹2,28,000',\n",
       "       '₹5,46,000', '₹3,38,000', '₹5,07,000', '₹3,10,000', '₹7,57,000',\n",
       "       '₹7,19,000', '₹6,50,000', '₹2,72,000', '₹2,83,000', '₹6,86,000',\n",
       "       '₹6,04,000', '₹5,45,000', '₹6,48,000', '₹3,51,000', '₹3,60,000',\n",
       "       '₹2,95,000', '₹2,44,000', '₹5,42,000', '₹1,85,000', '₹3,02,000',\n",
       "       '₹2,65,000', '₹3,03,000', '₹2,52,000', '₹5,50,000', '₹2,46,000',\n",
       "       '₹2,90,000', '₹7,39,000', '₹7,81,000', '₹4,94,000', '₹3,33,000',\n",
       "       '₹5,89,000', '₹3,45,000', '₹7,16,000', '₹3,30,000', '₹5,84,000',\n",
       "       '₹3,23,000', '₹5,90,000', '₹5,24,000', '₹3,77,000', '₹5,14,000',\n",
       "       '₹2,58,000', '₹2,19,000', '₹6,41,000', '₹2,21,000', '₹3,82,000',\n",
       "       '₹3,67,000', '₹1,99,000', '₹4,89,000', '₹4,74,000', '₹6,02,000',\n",
       "       '₹4,08,000', '₹3,18,000', '₹6,65,000', '₹1,83,000', '₹5,21,000',\n",
       "       '₹6,15,000', '₹6,30,000', '₹4,57,000', '₹6,31,000', '₹6,77,000',\n",
       "       '₹4,26,000', '₹4,16,000', '₹3,84,200', '₹3,88,000', '₹6,85,000',\n",
       "       '₹5,77,000', '₹2,80,000', '₹6,61,000', '₹2,61,000', '₹7,78,000',\n",
       "       '₹4,13,000', '₹6,79,000', '₹4,31,000', '₹4,07,000', '₹3,63,000',\n",
       "       '₹3,48,000', '₹7,02,000', '₹3,94,000', '₹2,35,200', '₹5,01,000',\n",
       "       '₹3,26,000', '₹4,79,000', '₹3,31,000', '₹5,53,000', '₹1,92,000',\n",
       "       '₹2,31,000', '₹5,48,000', '₹4,98,000', '₹5,82,000', '₹3,91,000',\n",
       "       '₹4,20,000', '₹4,58,000', '₹2,06,000', '₹3,29,000', '₹6,38,000',\n",
       "       '₹4,87,000', '₹3,20,000', '₹5,74,000', '₹3,15,000', '₹7,96,000',\n",
       "       '₹3,61,000', '₹6,20,000', '₹4,39,000', '₹3,93,000', '₹7,98,000',\n",
       "       '₹7,42,000', '₹4,67,000', '₹3,47,000', '₹3,97,000', '₹6,17,000',\n",
       "       '₹7,83,000', '₹4,37,000', '₹3,70,000', '₹7,63,000', '₹5,08,000',\n",
       "       '₹7,31,000', '₹7,24,000', '₹5,33,000', '₹6,13,000', '₹4,92,000',\n",
       "       '₹1,65,000', '₹5,54,000', '₹4,00,000', '₹5,69,000', '₹5,83,000',\n",
       "       '₹6,27,000', '₹6,94,000', '₹5,55,000', '₹3,39,000', '₹6,03,000',\n",
       "       '₹7,48,000', '₹4,96,000', '₹3,25,000', '₹6,63,000', '₹4,33,000',\n",
       "       '₹5,25,000', '₹6,10,000', '₹5,59,000', '₹3,58,000', '₹7,08,000',\n",
       "       '₹2,67,000', '₹2,97,000', '₹6,43,000', '₹4,18,000', '₹4,61,000',\n",
       "       '₹5,79,000', '₹6,53,000', '₹5,31,000', '₹2,74,000', '₹3,40,000',\n",
       "       '₹3,92,000', '₹4,10,000', '₹5,95,000', '₹5,56,000', '₹4,50,000',\n",
       "       '₹6,90,000', '₹4,91,000', '₹7,38,000', '₹5,51,000', '₹4,44,000',\n",
       "       '₹5,99,000', '₹4,14,000', '₹5,32,000', '₹7,80,000', '₹6,44,000',\n",
       "       '₹3,14,000', '₹4,06,000', '₹3,86,000', '₹3,59,000', '₹3,17,000',\n",
       "       '₹4,80,000', '₹6,01,000', '₹6,64,000', '₹2,23,000', '₹6,57,000',\n",
       "       '₹6,25,000', '₹7,52,000', '₹2,77,500', '₹3,43,000', '₹7,84,000',\n",
       "       '₹4,84,000', '₹7,47,000', '₹6,72,000', '₹5,58,000', '₹4,53,000',\n",
       "       '₹4,19,400', '₹3,36,000', '₹3,54,000', '₹4,04,000', '₹5,91,000',\n",
       "       '₹5,78,000', '₹6,95,000', '₹5,17,000', '₹5,80,000', '₹7,05,000',\n",
       "       '₹4,46,000', '₹6,00,000', '₹4,97,000', '₹7,40,600', '₹4,78,000',\n",
       "       '₹3,76,000', '₹6,35,000', '₹3,81,000', '₹2,30,000', '₹3,96,000',\n",
       "       '₹4,23,000', '₹2,98,000', '₹4,30,000', '₹6,71,000', '₹2,88,000',\n",
       "       '₹6,18,000', '₹6,23,000', '₹3,41,000', '₹5,43,000', '₹7,58,000',\n",
       "       '₹4,54,000', '₹4,17,000', '₹3,55,000', '₹4,15,000', '₹3,57,000',\n",
       "       '₹3,42,000', '₹6,12,000', '₹3,12,000', '₹4,65,000', '₹7,35,000',\n",
       "       '₹6,39,000', '₹4,95,000', '₹4,88,000', '₹2,08,000', '₹4,11,000',\n",
       "       '₹3,37,000', '₹3,24,000', '₹4,70,000', '₹5,94,000', '₹6,92,000',\n",
       "       '₹4,98,700', '₹6,16,000', '₹5,86,000', '₹7,62,000', '₹6,28,000',\n",
       "       '₹7,37,000', '₹4,21,000', '₹6,47,000', '₹6,45,000', '₹3,98,000',\n",
       "       '₹4,68,000', '₹3,49,000', '₹7,97,000', '₹4,32,000', '₹4,82,000',\n",
       "       '₹7,66,000', '₹6,83,000', '₹5,36,000', '₹5,98,000', '₹6,40,000',\n",
       "       '₹4,86,000', '₹7,06,000', '₹5,57,000', '₹4,36,000', '₹4,45,000',\n",
       "       '₹6,55,000', '₹5,63,000', '₹6,54,000', '₹7,14,000', '₹4,29,000',\n",
       "       '₹4,41,000', '₹4,24,000', '₹6,05,000', '₹3,11,000', '₹7,54,000',\n",
       "       '₹5,37,000', '₹5,34,000', '₹5,71,000', '₹7,41,000', '₹5,85,000',\n",
       "       '₹5,93,000', '₹7,01,000', '₹7,15,000', '₹5,39,000', '₹4,51,000',\n",
       "       '₹3,74,500', '₹5,06,000', '₹4,40,000', '₹5,49,000', '₹6,21,000',\n",
       "       '₹6,22,000', '₹4,66,000', '₹7,75,000', '₹7,46,200', '₹7,18,000',\n",
       "       '₹7,10,000', '₹5,22,000', '₹3,34,000', '₹6,29,000', '₹4,38,000',\n",
       "       '₹4,85,000', '₹3,80,000', '₹5,05,000', '₹5,73,000', '₹6,33,000',\n",
       "       '₹6,24,000', '₹5,38,000', '₹4,71,000', '₹4,80,800', '₹3,99,000',\n",
       "       '₹3,28,000', '₹5,35,000', '₹7,43,000', '₹3,78,000', '₹7,93,000',\n",
       "       '₹5,61,000', '₹7,91,000', '₹3,07,000', '₹7,20,000', '₹4,42,000',\n",
       "       '₹7,73,000', '₹7,25,000', '₹3,09,000', '₹5,88,000', '₹5,02,000',\n",
       "       '₹7,09,000', '₹4,64,000', '₹7,22,000', '₹3,46,000', '₹4,77,000',\n",
       "       '₹6,11,000', '₹4,01,000', '₹3,71,000', '₹7,72,000', '₹3,62,000',\n",
       "       '₹4,35,000', '₹6,07,000', '₹3,65,000', '₹4,76,000', '₹4,81,000',\n",
       "       '₹6,84,000', '₹4,09,000', '₹7,28,000', '₹4,05,000', '₹7,86,000',\n",
       "       '₹6,66,000', '₹4,27,000', '₹1,72,000', '₹4,28,000', '₹2,15,000',\n",
       "       '₹2,05,000', '₹4,99,000', '₹3,95,000', '₹4,62,000', '₹5,66,000',\n",
       "       '₹6,58,000', '₹5,23,000', '₹6,19,000', '₹6,74,000', '₹4,23,600',\n",
       "       '₹6,75,000', '₹2,75,000', '₹7,21,000', '₹6,08,000', '₹5,27,000',\n",
       "       '₹7,44,000', '₹5,18,000', '₹7,40,000', '₹3,84,000', '₹3,19,000',\n",
       "       '₹3,72,000', '₹5,26,000', '₹7,13,000', '₹6,89,000', '₹6,93,000',\n",
       "       '₹5,81,508', '₹5,75,000', '₹7,79,000', '₹6,99,000', '₹6,78,000',\n",
       "       '₹4,83,000', '₹4,60,000', '₹5,04,000', '₹6,51,000', '₹2,91,000',\n",
       "       '₹6,10,499', '₹4,47,000', '₹7,92,000', '₹4,75,000', '₹4,25,000',\n",
       "       '₹5,65,000', '₹6,97,000', '₹6,16,200', '₹3,35,000', '₹7,11,000',\n",
       "       '₹4,12,000', '₹6,59,400', '₹6,26,000', '₹7,94,000', '₹7,64,000',\n",
       "       '₹5,11,000', '₹5,13,000', '₹7,50,000', '₹3,22,000', '₹6,69,700',\n",
       "       '₹6,76,000', '₹6,70,000', '₹6,36,000', '₹3,85,000', '₹6,98,000',\n",
       "       '₹6,87,000', '₹5,96,000', '₹7,45,000', '₹6,56,000', '₹7,82,000',\n",
       "       '₹2,81,000', '₹4,48,000', '₹5,44,000', '₹3,16,000', '₹4,63,000',\n",
       "       '₹7,26,000', '₹5,97,000', '₹3,69,000', '₹6,59,000', '₹3,75,000',\n",
       "       '₹5,47,000', '₹7,32,000', '₹6,81,000', '₹5,19,000', '₹4,59,000',\n",
       "       '₹3,89,000', '₹6,14,000', '₹4,72,000', '₹7,74,000', '₹3,74,000',\n",
       "       '₹2,57,000', '₹3,05,000', '₹2,86,000', '₹3,01,000', '₹7,55,000',\n",
       "       '₹4,34,000', '₹2,84,500', '₹6,73,000', '₹2,34,000', '₹3,66,000',\n",
       "       '₹2,89,000', '₹6,43,099', '₹6,96,000', '₹5,92,000', '₹5,06,999',\n",
       "       '₹6,42,000', '₹2,79,000', '₹2,60,000', '₹4,21,700', '₹7,87,000',\n",
       "       '₹4,22,000', '₹7,51,000', '₹7,07,000', '₹2,68,000', '₹7,34,000',\n",
       "       '₹2,69,000', '₹3,64,000', '₹6,32,000', '₹7,95,000', '₹6,82,000',\n",
       "       '₹3,87,000', '₹5,03,000', '₹3,73,000', '₹5,72,000', '₹4,56,000',\n",
       "       '₹2,63,000', '₹7,90,000', '₹6,69,000', '₹4,49,000', '₹4,39,401',\n",
       "       '₹7,61,000', '₹4,43,000', '₹3,21,000', '₹7,30,000', '₹7,36,000',\n",
       "       '₹7,65,000', '₹3,56,000', '₹5,20,000', '₹3,06,000', '₹6,68,000',\n",
       "       '₹2,71,000', '₹4,03,000', '₹7,70,000', '₹4,19,000', '₹3,13,000',\n",
       "       '₹7,17,000', '₹5,60,000', '₹6,60,000', '₹4,52,000', '₹4,93,000',\n",
       "       '₹2,94,000', '₹6,88,000', '₹7,85,000', '₹3,44,000', '₹7,04,000',\n",
       "       '₹5,76,000', '₹3,68,000', '₹5,16,000', '₹2,93,000', '₹6,49,000',\n",
       "       '₹5,70,000', '₹2,47,000', '₹6,91,000', '₹7,23,000', '₹6,81,200',\n",
       "       '₹7,46,000', '₹7,71,000', '₹2,45,000', '₹5,64,000', '₹2,82,000',\n",
       "       '₹2,76,000', '₹7,59,000', '₹3,32,000', '₹2,64,000', '₹7,89,000',\n",
       "       '₹6,34,000', '₹7,88,000', '₹6,06,000', '₹4,55,000', '₹7,49,000',\n",
       "       '₹5,40,000', '₹2,37,000', '₹7,99,000', '₹2,66,000', '₹7,68,000',\n",
       "       '₹7,03,000', '₹5,10,700', '₹3,04,000', '₹3,53,000', '₹3,08,000',\n",
       "       '₹7,60,000', '₹3,00,000', '₹1,71,000', '₹2,56,000', '₹2,87,000',\n",
       "       '₹2,39,000', '₹5,09,000', '₹2,49,000', '₹1,80,000', '₹5,81,000',\n",
       "       '₹2,17,000', '₹2,46,100', '₹2,48,000', '₹2,10,000', '₹1,94,000',\n",
       "       '₹4,02,000', '₹1,79,000', '₹2,94,300', '₹1,34,000', '₹4,34,400',\n",
       "       '₹2,32,000', '₹2,94,700', '₹1,67,000', '₹4,69,800', '₹2,50,000',\n",
       "       '₹2,51,000', '₹2,47,099', '₹15,36,000', '₹15,16,000', '₹10,96,000',\n",
       "       '₹13,00,000', '₹9,31,000', '₹13,63,000', '₹16,53,200',\n",
       "       '₹19,04,000', '₹7,27,000', '₹8,17,000', '₹11,86,000', '₹8,44,000',\n",
       "       '₹10,02,000', '₹8,19,000', '₹14,18,000', '₹6,84,499', '₹8,38,000',\n",
       "       '₹9,43,000', '₹14,95,000', '₹14,43,000', '₹10,22,000', '₹9,81,000',\n",
       "       '₹14,11,000', '₹12,35,000', '₹8,97,000', '₹8,03,000', '₹13,60,000',\n",
       "       '₹2,99,000', '₹8,74,000', '₹10,29,000', '₹17,50,000', '₹10,84,000',\n",
       "       '₹16,37,000', '₹10,53,000', '₹11,49,000', '₹9,70,000',\n",
       "       '₹13,27,000', '₹10,87,000', '₹10,68,000', '₹17,22,000',\n",
       "       '₹11,41,000', '₹9,84,000', '₹10,56,000', '₹12,28,000',\n",
       "       '₹11,15,000', '₹10,13,000', '₹8,13,000', '₹9,72,000', '₹9,49,000',\n",
       "       '₹12,78,000', '₹3,90,000', '₹2,92,000', '₹11,68,000', '₹8,75,000',\n",
       "       '₹10,12,000', '₹4,50,300', '₹17,30,000', '₹9,25,000', '₹8,52,000',\n",
       "       '₹9,56,000', '₹8,90,000', '₹10,21,000', '₹9,47,000', '₹10,00,000',\n",
       "       '₹8,39,000', '₹12,11,000', '₹10,20,000', '₹5,67,000', '₹14,06,000',\n",
       "       '₹3,52,000', '₹11,12,000', '₹11,07,000', '₹12,22,000',\n",
       "       '₹11,82,000', '₹9,40,000', '₹10,32,000', '₹11,48,000', '₹9,68,000',\n",
       "       '₹10,72,000', '₹11,64,000', '₹7,67,000', '₹3,27,000', '₹4,74,700',\n",
       "       '₹8,57,000', '₹9,46,000', '₹12,02,000', '₹11,42,000', '₹11,13,000',\n",
       "       '₹10,92,000', '₹6,67,000', '₹10,24,000', '₹9,93,000', '₹8,76,000',\n",
       "       '₹8,87,000', '₹8,05,000', '₹7,38,700', '₹13,50,000', '₹8,31,000',\n",
       "       '₹11,30,000', '₹18,48,000', '₹8,28,000', '₹9,13,000', '₹13,55,000',\n",
       "       '₹11,10,000', '₹4,69,000', '₹9,33,000', '₹30,48,000', '₹8,78,000',\n",
       "       '₹11,90,000', '₹16,07,000', '₹8,08,000', '₹8,59,000', '₹13,84,000',\n",
       "       '₹12,01,000', '₹9,42,000', '₹9,37,000', '₹9,20,000', '₹8,63,000',\n",
       "       '₹8,29,000', '₹7,29,000', '₹8,22,000', '₹11,20,000', '₹12,90,000',\n",
       "       '₹11,29,000', '₹9,24,000', '₹11,54,000', '₹9,41,000', '₹10,61,000',\n",
       "       '₹20,93,000', '₹11,81,000', '₹13,16,000', '₹12,29,000',\n",
       "       '₹10,36,000', '₹10,55,000', '₹9,67,000', '₹9,94,000', '₹9,73,000',\n",
       "       '₹10,82,000', '₹10,11,000', '₹14,38,000', '₹12,18,000',\n",
       "       '₹11,37,000', '₹10,18,000', '₹10,90,000', '₹11,91,000',\n",
       "       '₹14,90,000', '₹12,05,000', '₹8,89,000', '₹9,26,000', '₹8,50,000',\n",
       "       '₹9,38,000', '₹12,87,000', '₹12,69,000', '₹2,27,000', '₹8,70,000',\n",
       "       '₹15,45,000', '₹16,89,000', '₹8,83,000', '₹8,45,000', '₹8,25,000',\n",
       "       '₹15,90,000', '₹6,52,000', '₹11,62,000', '₹9,23,000', '₹10,01,000',\n",
       "       '₹13,95,000', '₹6,52,099', '₹10,05,000', '₹2,02,000', '₹9,50,000',\n",
       "       '₹8,64,000', '₹8,24,000', '₹14,66,000', '₹9,12,000', '₹9,36,000',\n",
       "       '₹17,75,000', '₹10,81,000', '₹2,40,000'], dtype=object)"
      ]
     },
     "execution_count": 7,
     "metadata": {},
     "output_type": "execute_result"
    }
   ],
   "source": [
    "#Exploring target data variable\n",
    "df.Price.unique()"
   ]
  },
  {
   "cell_type": "markdown",
   "metadata": {},
   "source": [
    "column has continuous data"
   ]
  },
  {
   "cell_type": "code",
   "execution_count": 8,
   "metadata": {},
   "outputs": [],
   "source": [
    "#filling the missing values in dataset\n",
    "\n",
    "from sklearn.impute import SimpleImputer\n",
    "imp=SimpleImputer(strategy='most_frequent')\n",
    "df['vehicle_type']=imp.fit_transform(df['vehicle_type'].values.reshape(-1,1))\n",
    "df['Price']=imp.fit_transform(df['Price'].values.reshape(-1,1))"
   ]
  },
  {
   "cell_type": "code",
   "execution_count": 9,
   "metadata": {},
   "outputs": [
    {
     "data": {
      "text/plain": [
       "Year            0\n",
       "Brand           0\n",
       "Model           0\n",
       "kms_droved      0\n",
       "Fuel_type       0\n",
       "vehicle_type    0\n",
       "No.Of_Owners    0\n",
       "Price           0\n",
       "dtype: int64"
      ]
     },
     "execution_count": 9,
     "metadata": {},
     "output_type": "execute_result"
    }
   ],
   "source": [
    "df.isnull().sum()"
   ]
  },
  {
   "cell_type": "markdown",
   "metadata": {},
   "source": [
    "no missing data"
   ]
  },
  {
   "cell_type": "code",
   "execution_count": 10,
   "metadata": {},
   "outputs": [],
   "source": [
    "#Taking the categorical data \n",
    "categorical=[x for x in df.columns if df[x].dtype==object]"
   ]
  },
  {
   "cell_type": "code",
   "execution_count": 11,
   "metadata": {},
   "outputs": [
    {
     "name": "stdout",
     "output_type": "stream",
     "text": [
      "Maruti        1801\n",
      "Hyundai       1052\n",
      "Honda          362\n",
      "Renault        184\n",
      "Tata           181\n",
      "Ford           107\n",
      "Mahindra        98\n",
      "Toyota          91\n",
      "KIA             79\n",
      "Volkswagen      69\n",
      "Skoda           42\n",
      "Datsun          38\n",
      "MG              32\n",
      "Nissan          19\n",
      "Jeep            13\n",
      "MARUTI           6\n",
      "Audi             4\n",
      "Mercedes         3\n",
      "BMW              2\n",
      "Jaguar           2\n",
      "SKODA            1\n",
      "Fiat             1\n",
      "Name: Brand, dtype: int64\n"
     ]
    },
    {
     "data": {
      "image/png": "[encoded data removed]",
      "text/plain": [
       "<Figure size 576x288 with 1 Axes>"
      ]
     },
     "metadata": {
      "needs_background": "light"
     },
     "output_type": "display_data"
    },
    {
     "name": "stdout",
     "output_type": "stream",
     "text": [
      "Alto       324\n",
      "Swift      274\n",
      "Baleno     233\n",
      "Grand      215\n",
      "Elite      180\n",
      "          ... \n",
      "ALCAZAR      1\n",
      "Camry        1\n",
      "CARENS       1\n",
      "TIAGO        1\n",
      "Q3           1\n",
      "Name: Model, Length: 108, dtype: int64\n"
     ]
    },
    {
     "data": {
      "image/png": "[encoded data removed]",
      "text/plain": [
       "<Figure size 576x288 with 1 Axes>"
      ]
     },
     "metadata": {
      "needs_background": "light"
     },
     "output_type": "display_data"
    },
    {
     "name": "stdout",
     "output_type": "stream",
     "text": [
      "26,130    4\n",
      "26,959    4\n",
      "9,585     4\n",
      "67        4\n",
      "74        4\n",
      "         ..\n",
      "77,063    1\n",
      "27,954    1\n",
      "57,534    1\n",
      "39,507    1\n",
      "87,411    1\n",
      "Name: kms_droved, Length: 3248, dtype: int64\n"
     ]
    },
    {
     "data": {
      "image/png": "[encoded data removed]",
      "text/plain": [
       "<Figure size 576x288 with 1 Axes>"
      ]
     },
     "metadata": {
      "needs_background": "light"
     },
     "output_type": "display_data"
    },
    {
     "name": "stdout",
     "output_type": "stream",
     "text": [
      "Petrol          3296\n",
      "Diesel           557\n",
      "Petrol + CNG     334\n",
      "Name: Fuel_type, dtype: int64\n"
     ]
    },
    {
     "data": {
      "image/png": "[encoded data removed]",
      "text/plain": [
       "<Figure size 576x288 with 1 Axes>"
      ]
     },
     "metadata": {
      "needs_background": "light"
     },
     "output_type": "display_data"
    },
    {
     "name": "stdout",
     "output_type": "stream",
     "text": [
      "Manual       3478\n",
      "Automatic     709\n",
      "Name: vehicle_type, dtype: int64\n"
     ]
    },
    {
     "data": {
      "image/png": "[encoded data removed]",
      "text/plain": [
       "<Figure size 576x288 with 1 Axes>"
      ]
     },
     "metadata": {
      "needs_background": "light"
     },
     "output_type": "display_data"
    },
    {
     "name": "stdout",
     "output_type": "stream",
     "text": [
      "1st Owner    3268\n",
      "2nd Owner     882\n",
      "3rd Owner      37\n",
      "Name: No.Of_Owners, dtype: int64\n"
     ]
    },
    {
     "data": {
      "image/png": "[encoded data removed]",
      "text/plain": [
       "<Figure size 576x288 with 1 Axes>"
      ]
     },
     "metadata": {
      "needs_background": "light"
     },
     "output_type": "display_data"
    },
    {
     "name": "stdout",
     "output_type": "stream",
     "text": [
      "₹4,92,000     1074\n",
      "₹5,56,000       24\n",
      "₹5,69,000       18\n",
      "₹4,79,000       17\n",
      "₹4,96,000       15\n",
      "              ... \n",
      "₹2,75,000        1\n",
      "₹10,00,000       1\n",
      "₹12,11,000       1\n",
      "₹5,81,508        1\n",
      "₹8,52,000        1\n",
      "Name: Price, Length: 759, dtype: int64\n"
     ]
    },
    {
     "data": {
      "image/png": "[encoded data removed]",
      "text/plain": [
       "<Figure size 576x288 with 1 Axes>"
      ]
     },
     "metadata": {
      "needs_background": "light"
     },
     "output_type": "display_data"
    }
   ],
   "source": [
    "#Plotting countplot for each categorical data\n",
    "for i in categorical:\n",
    "    plt.figure(figsize=(8,4))\n",
    "    sns.countplot(data=df, x=df[i])\n",
    "    print(df[i].value_counts())\n",
    "    plt.show()"
   ]
  },
  {
   "cell_type": "code",
   "execution_count": 12,
   "metadata": {},
   "outputs": [],
   "source": [
    "#Taking all continuous data\n",
    "continuous=[x for x in df.columns if x not in categorical]"
   ]
  },
  {
   "cell_type": "code",
   "execution_count": 13,
   "metadata": {},
   "outputs": [
    {
     "data": {
      "image/png": "[encoded data removed]",
      "text/plain": [
       "<Figure size 432x288 with 1 Axes>"
      ]
     },
     "metadata": {
      "needs_background": "light"
     },
     "output_type": "display_data"
    }
   ],
   "source": [
    "for i in continuous:\n",
    "    data=df.copy()\n",
    "    data[i].hist(bins=20)\n",
    "    plt.xlabel(i)\n",
    "    plt.ylabel(\"Count\")\n",
    "    plt.title(i)\n",
    "    plt.show()"
   ]
  },
  {
   "cell_type": "markdown",
   "metadata": {},
   "source": [
    "# Observations:"
   ]
  },
  {
   "cell_type": "markdown",
   "metadata": {},
   "source": [
    "1. maximum cars to be selled are of year 2018 to 2020 of count almost 600 each.\n",
    "2. 1st owner has the maximum count of 3268, then followed by 2nd owner count of 882 and 3rd owner count of 37.\n",
    "3. maximum cars to be selled are manual with count of 3478 and rest all the 708 cars are automatic.\n",
    "4. 3069 cars are petrol, 557 cars are diesel and rest 337 cars are petrol+cng.\n",
    "5. maximum cars are of maruti, followed by hundai and least are SKODA and fiat.\n",
    "6. alto, swift, baleno and grand models are maximum for selling.\n",
    "7. Q, tiago, camry and carens models are very less for selling."
   ]
  },
  {
   "cell_type": "code",
   "execution_count": 22,
   "metadata": {},
   "outputs": [],
   "source": [
    "#coverting string into integer\n",
    "le=LabelEncoder()\n",
    "for i in df.columns:\n",
    "    if df[i].dtypes=='object':\n",
    "        df[i]=le.fit_transform(df[i].values.reshape(-1,1))"
   ]
  },
  {
   "cell_type": "code",
   "execution_count": 23,
   "metadata": {},
   "outputs": [
    {
     "data": {
      "text/html": [
       "<div>\n",
       "<style scoped>\n",
       "    .dataframe tbody tr th:only-of-type {\n",
       "        vertical-align: middle;\n",
       "    }\n",
       "\n",
       "    .dataframe tbody tr th {\n",
       "        vertical-align: top;\n",
       "    }\n",
       "\n",
       "    .dataframe thead th {\n",
       "        text-align: right;\n",
       "    }\n",
       "</style>\n",
       "<table border=\"1\" class=\"dataframe\">\n",
       "  <thead>\n",
       "    <tr style=\"text-align: right;\">\n",
       "      <th></th>\n",
       "      <th>Year</th>\n",
       "      <th>Brand</th>\n",
       "      <th>Model</th>\n",
       "      <th>kms_droved</th>\n",
       "      <th>Fuel_type</th>\n",
       "      <th>vehicle_type</th>\n",
       "      <th>No.Of_Owners</th>\n",
       "      <th>Price</th>\n",
       "    </tr>\n",
       "  </thead>\n",
       "  <tbody>\n",
       "    <tr>\n",
       "      <th>0</th>\n",
       "      <td>2020</td>\n",
       "      <td>9</td>\n",
       "      <td>73</td>\n",
       "      <td>1549</td>\n",
       "      <td>1</td>\n",
       "      <td>1</td>\n",
       "      <td>0</td>\n",
       "      <td>383</td>\n",
       "    </tr>\n",
       "    <tr>\n",
       "      <th>1</th>\n",
       "      <td>2018</td>\n",
       "      <td>6</td>\n",
       "      <td>45</td>\n",
       "      <td>1978</td>\n",
       "      <td>1</td>\n",
       "      <td>1</td>\n",
       "      <td>0</td>\n",
       "      <td>424</td>\n",
       "    </tr>\n",
       "    <tr>\n",
       "      <th>2</th>\n",
       "      <td>2021</td>\n",
       "      <td>9</td>\n",
       "      <td>73</td>\n",
       "      <td>1977</td>\n",
       "      <td>1</td>\n",
       "      <td>1</td>\n",
       "      <td>0</td>\n",
       "      <td>383</td>\n",
       "    </tr>\n",
       "    <tr>\n",
       "      <th>3</th>\n",
       "      <td>2019</td>\n",
       "      <td>13</td>\n",
       "      <td>79</td>\n",
       "      <td>239</td>\n",
       "      <td>1</td>\n",
       "      <td>1</td>\n",
       "      <td>0</td>\n",
       "      <td>435</td>\n",
       "    </tr>\n",
       "    <tr>\n",
       "      <th>4</th>\n",
       "      <td>2020</td>\n",
       "      <td>13</td>\n",
       "      <td>79</td>\n",
       "      <td>146</td>\n",
       "      <td>1</td>\n",
       "      <td>1</td>\n",
       "      <td>0</td>\n",
       "      <td>456</td>\n",
       "    </tr>\n",
       "    <tr>\n",
       "      <th>...</th>\n",
       "      <td>...</td>\n",
       "      <td>...</td>\n",
       "      <td>...</td>\n",
       "      <td>...</td>\n",
       "      <td>...</td>\n",
       "      <td>...</td>\n",
       "      <td>...</td>\n",
       "      <td>...</td>\n",
       "    </tr>\n",
       "    <tr>\n",
       "      <th>4182</th>\n",
       "      <td>2020</td>\n",
       "      <td>6</td>\n",
       "      <td>30</td>\n",
       "      <td>2004</td>\n",
       "      <td>1</td>\n",
       "      <td>0</td>\n",
       "      <td>0</td>\n",
       "      <td>103</td>\n",
       "    </tr>\n",
       "    <tr>\n",
       "      <th>4183</th>\n",
       "      <td>2016</td>\n",
       "      <td>6</td>\n",
       "      <td>30</td>\n",
       "      <td>2181</td>\n",
       "      <td>1</td>\n",
       "      <td>0</td>\n",
       "      <td>1</td>\n",
       "      <td>33</td>\n",
       "    </tr>\n",
       "    <tr>\n",
       "      <th>4184</th>\n",
       "      <td>2019</td>\n",
       "      <td>13</td>\n",
       "      <td>79</td>\n",
       "      <td>2296</td>\n",
       "      <td>0</td>\n",
       "      <td>1</td>\n",
       "      <td>0</td>\n",
       "      <td>592</td>\n",
       "    </tr>\n",
       "    <tr>\n",
       "      <th>4185</th>\n",
       "      <td>2012</td>\n",
       "      <td>13</td>\n",
       "      <td>10</td>\n",
       "      <td>2587</td>\n",
       "      <td>1</td>\n",
       "      <td>1</td>\n",
       "      <td>1</td>\n",
       "      <td>125</td>\n",
       "    </tr>\n",
       "    <tr>\n",
       "      <th>4186</th>\n",
       "      <td>2018</td>\n",
       "      <td>6</td>\n",
       "      <td>45</td>\n",
       "      <td>2508</td>\n",
       "      <td>1</td>\n",
       "      <td>0</td>\n",
       "      <td>0</td>\n",
       "      <td>485</td>\n",
       "    </tr>\n",
       "  </tbody>\n",
       "</table>\n",
       "<p>4187 rows × 8 columns</p>\n",
       "</div>"
      ],
      "text/plain": [
       "      Year  Brand  Model  kms_droved  Fuel_type  vehicle_type  No.Of_Owners  \\\n",
       "0     2020      9     73        1549          1             1             0   \n",
       "1     2018      6     45        1978          1             1             0   \n",
       "2     2021      9     73        1977          1             1             0   \n",
       "3     2019     13     79         239          1             1             0   \n",
       "4     2020     13     79         146          1             1             0   \n",
       "...    ...    ...    ...         ...        ...           ...           ...   \n",
       "4182  2020      6     30        2004          1             0             0   \n",
       "4183  2016      6     30        2181          1             0             1   \n",
       "4184  2019     13     79        2296          0             1             0   \n",
       "4185  2012     13     10        2587          1             1             1   \n",
       "4186  2018      6     45        2508          1             0             0   \n",
       "\n",
       "      Price  \n",
       "0       383  \n",
       "1       424  \n",
       "2       383  \n",
       "3       435  \n",
       "4       456  \n",
       "...     ...  \n",
       "4182    103  \n",
       "4183     33  \n",
       "4184    592  \n",
       "4185    125  \n",
       "4186    485  \n",
       "\n",
       "[4187 rows x 8 columns]"
      ]
     },
     "execution_count": 23,
     "metadata": {},
     "output_type": "execute_result"
    }
   ],
   "source": [
    "df"
   ]
  },
  {
   "cell_type": "code",
   "execution_count": 24,
   "metadata": {},
   "outputs": [
    {
     "data": {
      "text/html": [
       "<div>\n",
       "<style scoped>\n",
       "    .dataframe tbody tr th:only-of-type {\n",
       "        vertical-align: middle;\n",
       "    }\n",
       "\n",
       "    .dataframe tbody tr th {\n",
       "        vertical-align: top;\n",
       "    }\n",
       "\n",
       "    .dataframe thead th {\n",
       "        text-align: right;\n",
       "    }\n",
       "</style>\n",
       "<table border=\"1\" class=\"dataframe\">\n",
       "  <thead>\n",
       "    <tr style=\"text-align: right;\">\n",
       "      <th></th>\n",
       "      <th>count</th>\n",
       "      <th>mean</th>\n",
       "      <th>std</th>\n",
       "      <th>min</th>\n",
       "      <th>25%</th>\n",
       "      <th>50%</th>\n",
       "      <th>75%</th>\n",
       "      <th>max</th>\n",
       "    </tr>\n",
       "  </thead>\n",
       "  <tbody>\n",
       "    <tr>\n",
       "      <th>Year</th>\n",
       "      <td>4187.0</td>\n",
       "      <td>2017.674707</td>\n",
       "      <td>2.712139</td>\n",
       "      <td>2009.0</td>\n",
       "      <td>2016.0</td>\n",
       "      <td>2018.0</td>\n",
       "      <td>2020.0</td>\n",
       "      <td>2022.0</td>\n",
       "    </tr>\n",
       "    <tr>\n",
       "      <th>Brand</th>\n",
       "      <td>4187.0</td>\n",
       "      <td>10.798424</td>\n",
       "      <td>4.607994</td>\n",
       "      <td>0.0</td>\n",
       "      <td>6.0</td>\n",
       "      <td>13.0</td>\n",
       "      <td>13.0</td>\n",
       "      <td>21.0</td>\n",
       "    </tr>\n",
       "    <tr>\n",
       "      <th>Model</th>\n",
       "      <td>4187.0</td>\n",
       "      <td>50.979460</td>\n",
       "      <td>29.750789</td>\n",
       "      <td>0.0</td>\n",
       "      <td>26.0</td>\n",
       "      <td>45.0</td>\n",
       "      <td>79.0</td>\n",
       "      <td>107.0</td>\n",
       "    </tr>\n",
       "    <tr>\n",
       "      <th>kms_droved</th>\n",
       "      <td>4187.0</td>\n",
       "      <td>1584.786004</td>\n",
       "      <td>934.964714</td>\n",
       "      <td>0.0</td>\n",
       "      <td>773.5</td>\n",
       "      <td>1558.0</td>\n",
       "      <td>2393.5</td>\n",
       "      <td>3247.0</td>\n",
       "    </tr>\n",
       "    <tr>\n",
       "      <th>Fuel_type</th>\n",
       "      <td>4187.0</td>\n",
       "      <td>0.946740</td>\n",
       "      <td>0.458274</td>\n",
       "      <td>0.0</td>\n",
       "      <td>1.0</td>\n",
       "      <td>1.0</td>\n",
       "      <td>1.0</td>\n",
       "      <td>2.0</td>\n",
       "    </tr>\n",
       "    <tr>\n",
       "      <th>vehicle_type</th>\n",
       "      <td>4187.0</td>\n",
       "      <td>0.830666</td>\n",
       "      <td>0.375091</td>\n",
       "      <td>0.0</td>\n",
       "      <td>1.0</td>\n",
       "      <td>1.0</td>\n",
       "      <td>1.0</td>\n",
       "      <td>1.0</td>\n",
       "    </tr>\n",
       "    <tr>\n",
       "      <th>No.Of_Owners</th>\n",
       "      <td>4187.0</td>\n",
       "      <td>0.228326</td>\n",
       "      <td>0.440356</td>\n",
       "      <td>0.0</td>\n",
       "      <td>0.0</td>\n",
       "      <td>0.0</td>\n",
       "      <td>0.0</td>\n",
       "      <td>2.0</td>\n",
       "    </tr>\n",
       "    <tr>\n",
       "      <th>Price</th>\n",
       "      <td>4187.0</td>\n",
       "      <td>393.754956</td>\n",
       "      <td>145.387990</td>\n",
       "      <td>0.0</td>\n",
       "      <td>317.0</td>\n",
       "      <td>383.0</td>\n",
       "      <td>479.0</td>\n",
       "      <td>758.0</td>\n",
       "    </tr>\n",
       "  </tbody>\n",
       "</table>\n",
       "</div>"
      ],
      "text/plain": [
       "               count         mean         std     min     25%     50%     75%  \\\n",
       "Year          4187.0  2017.674707    2.712139  2009.0  2016.0  2018.0  2020.0   \n",
       "Brand         4187.0    10.798424    4.607994     0.0     6.0    13.0    13.0   \n",
       "Model         4187.0    50.979460   29.750789     0.0    26.0    45.0    79.0   \n",
       "kms_droved    4187.0  1584.786004  934.964714     0.0   773.5  1558.0  2393.5   \n",
       "Fuel_type     4187.0     0.946740    0.458274     0.0     1.0     1.0     1.0   \n",
       "vehicle_type  4187.0     0.830666    0.375091     0.0     1.0     1.0     1.0   \n",
       "No.Of_Owners  4187.0     0.228326    0.440356     0.0     0.0     0.0     0.0   \n",
       "Price         4187.0   393.754956  145.387990     0.0   317.0   383.0   479.0   \n",
       "\n",
       "                 max  \n",
       "Year          2022.0  \n",
       "Brand           21.0  \n",
       "Model          107.0  \n",
       "kms_droved    3247.0  \n",
       "Fuel_type        2.0  \n",
       "vehicle_type     1.0  \n",
       "No.Of_Owners     2.0  \n",
       "Price          758.0  "
      ]
     },
     "execution_count": 24,
     "metadata": {},
     "output_type": "execute_result"
    }
   ],
   "source": [
    "#Statistical summary\n",
    "df.describe().transpose()"
   ]
  },
  {
   "cell_type": "markdown",
   "metadata": {},
   "source": [
    "1. count is same for all the columns\n",
    "2. for some columns mean is greater than 50% and for some columns mean is lesser than 50%\n",
    "3. for all the columns there is a difference between max and 75%"
   ]
  },
  {
   "cell_type": "code",
   "execution_count": 25,
   "metadata": {},
   "outputs": [
    {
     "data": {
      "text/html": [
       "<div>\n",
       "<style scoped>\n",
       "    .dataframe tbody tr th:only-of-type {\n",
       "        vertical-align: middle;\n",
       "    }\n",
       "\n",
       "    .dataframe tbody tr th {\n",
       "        vertical-align: top;\n",
       "    }\n",
       "\n",
       "    .dataframe thead th {\n",
       "        text-align: right;\n",
       "    }\n",
       "</style>\n",
       "<table border=\"1\" class=\"dataframe\">\n",
       "  <thead>\n",
       "    <tr style=\"text-align: right;\">\n",
       "      <th></th>\n",
       "      <th>Year</th>\n",
       "      <th>Brand</th>\n",
       "      <th>Model</th>\n",
       "      <th>kms_droved</th>\n",
       "      <th>Fuel_type</th>\n",
       "      <th>vehicle_type</th>\n",
       "      <th>No.Of_Owners</th>\n",
       "      <th>Price</th>\n",
       "    </tr>\n",
       "  </thead>\n",
       "  <tbody>\n",
       "    <tr>\n",
       "      <th>Year</th>\n",
       "      <td>1.000000</td>\n",
       "      <td>0.191599</td>\n",
       "      <td>-0.038702</td>\n",
       "      <td>-0.366576</td>\n",
       "      <td>0.046025</td>\n",
       "      <td>-0.088679</td>\n",
       "      <td>-0.240435</td>\n",
       "      <td>0.338391</td>\n",
       "    </tr>\n",
       "    <tr>\n",
       "      <th>Brand</th>\n",
       "      <td>0.191599</td>\n",
       "      <td>1.000000</td>\n",
       "      <td>0.086560</td>\n",
       "      <td>-0.082539</td>\n",
       "      <td>0.017879</td>\n",
       "      <td>-0.019477</td>\n",
       "      <td>-0.064786</td>\n",
       "      <td>-0.018384</td>\n",
       "    </tr>\n",
       "    <tr>\n",
       "      <th>Model</th>\n",
       "      <td>-0.038702</td>\n",
       "      <td>0.086560</td>\n",
       "      <td>1.000000</td>\n",
       "      <td>0.012090</td>\n",
       "      <td>-0.059356</td>\n",
       "      <td>-0.005921</td>\n",
       "      <td>0.039161</td>\n",
       "      <td>-0.065610</td>\n",
       "    </tr>\n",
       "    <tr>\n",
       "      <th>kms_droved</th>\n",
       "      <td>-0.366576</td>\n",
       "      <td>-0.082539</td>\n",
       "      <td>0.012090</td>\n",
       "      <td>1.000000</td>\n",
       "      <td>-0.118341</td>\n",
       "      <td>-0.014649</td>\n",
       "      <td>0.129097</td>\n",
       "      <td>-0.062525</td>\n",
       "    </tr>\n",
       "    <tr>\n",
       "      <th>Fuel_type</th>\n",
       "      <td>0.046025</td>\n",
       "      <td>0.017879</td>\n",
       "      <td>-0.059356</td>\n",
       "      <td>-0.118341</td>\n",
       "      <td>1.000000</td>\n",
       "      <td>0.111512</td>\n",
       "      <td>-0.051001</td>\n",
       "      <td>-0.001282</td>\n",
       "    </tr>\n",
       "    <tr>\n",
       "      <th>vehicle_type</th>\n",
       "      <td>-0.088679</td>\n",
       "      <td>-0.019477</td>\n",
       "      <td>-0.005921</td>\n",
       "      <td>-0.014649</td>\n",
       "      <td>0.111512</td>\n",
       "      <td>1.000000</td>\n",
       "      <td>-0.036327</td>\n",
       "      <td>-0.065003</td>\n",
       "    </tr>\n",
       "    <tr>\n",
       "      <th>No.Of_Owners</th>\n",
       "      <td>-0.240435</td>\n",
       "      <td>-0.064786</td>\n",
       "      <td>0.039161</td>\n",
       "      <td>0.129097</td>\n",
       "      <td>-0.051001</td>\n",
       "      <td>-0.036327</td>\n",
       "      <td>1.000000</td>\n",
       "      <td>-0.071604</td>\n",
       "    </tr>\n",
       "    <tr>\n",
       "      <th>Price</th>\n",
       "      <td>0.338391</td>\n",
       "      <td>-0.018384</td>\n",
       "      <td>-0.065610</td>\n",
       "      <td>-0.062525</td>\n",
       "      <td>-0.001282</td>\n",
       "      <td>-0.065003</td>\n",
       "      <td>-0.071604</td>\n",
       "      <td>1.000000</td>\n",
       "    </tr>\n",
       "  </tbody>\n",
       "</table>\n",
       "</div>"
      ],
      "text/plain": [
       "                  Year     Brand     Model  kms_droved  Fuel_type  \\\n",
       "Year          1.000000  0.191599 -0.038702   -0.366576   0.046025   \n",
       "Brand         0.191599  1.000000  0.086560   -0.082539   0.017879   \n",
       "Model        -0.038702  0.086560  1.000000    0.012090  -0.059356   \n",
       "kms_droved   -0.366576 -0.082539  0.012090    1.000000  -0.118341   \n",
       "Fuel_type     0.046025  0.017879 -0.059356   -0.118341   1.000000   \n",
       "vehicle_type -0.088679 -0.019477 -0.005921   -0.014649   0.111512   \n",
       "No.Of_Owners -0.240435 -0.064786  0.039161    0.129097  -0.051001   \n",
       "Price         0.338391 -0.018384 -0.065610   -0.062525  -0.001282   \n",
       "\n",
       "              vehicle_type  No.Of_Owners     Price  \n",
       "Year             -0.088679     -0.240435  0.338391  \n",
       "Brand            -0.019477     -0.064786 -0.018384  \n",
       "Model            -0.005921      0.039161 -0.065610  \n",
       "kms_droved       -0.014649      0.129097 -0.062525  \n",
       "Fuel_type         0.111512     -0.051001 -0.001282  \n",
       "vehicle_type      1.000000     -0.036327 -0.065003  \n",
       "No.Of_Owners     -0.036327      1.000000 -0.071604  \n",
       "Price            -0.065003     -0.071604  1.000000  "
      ]
     },
     "execution_count": 25,
     "metadata": {},
     "output_type": "execute_result"
    }
   ],
   "source": [
    "#correaltion of columns\n",
    "df.corr()"
   ]
  },
  {
   "cell_type": "code",
   "execution_count": 27,
   "metadata": {},
   "outputs": [
    {
     "data": {
      "text/plain": [
       "<matplotlib.axes._subplots.AxesSubplot at 0x16275608>"
      ]
     },
     "execution_count": 27,
     "metadata": {},
     "output_type": "execute_result"
    },
    {
     "data": {
      "image/png": "[encoded data removed]",
      "text/plain": [
       "<Figure size 720x360 with 2 Axes>"
      ]
     },
     "metadata": {
      "needs_background": "light"
     },
     "output_type": "display_data"
    }
   ],
   "source": [
    "plt.figure(figsize=(10,5))\n",
    "sns.heatmap(df.corr(),cmap=\"Blues\",annot=True)"
   ]
  },
  {
   "cell_type": "code",
   "execution_count": 33,
   "metadata": {},
   "outputs": [
    {
     "data": {
      "image/png": "[encoded data removed]",
      "text/plain": [
       "<Figure size 576x360 with 1 Axes>"
      ]
     },
     "metadata": {
      "needs_background": "light"
     },
     "output_type": "display_data"
    }
   ],
   "source": [
    "plt.figure(figsize=(8,5))\n",
    "df.corr()['Price'].sort_values(ascending=False).drop(['Price']).plot(kind='bar')\n",
    "plt.xlabel('features')\n",
    "plt.ylabel('column with target name')\n",
    "plt.title('correlation')\n",
    "plt.show()"
   ]
  },
  {
   "cell_type": "markdown",
   "metadata": {},
   "source": [
    "1. year is highly positively correlated with target varibale.\n",
    "2. fuel_type is least correlated with target variable.\n",
    "3. model and no.of owners is highly negatively correlation with target variable."
   ]
  },
  {
   "cell_type": "code",
   "execution_count": 36,
   "metadata": {},
   "outputs": [
    {
     "data": {
      "image/png": "[encoded data removed]",
      "text/plain": [
       "<Figure size 1080x1080 with 8 Axes>"
      ]
     },
     "metadata": {
      "needs_background": "light"
     },
     "output_type": "display_data"
    }
   ],
   "source": [
    "plt.figure(figsize=(15,15))\n",
    "for i in range (0, len(df.columns)):\n",
    "    plt.subplot(6,4,i+1)         \n",
    "    sns.kdeplot(df[df.columns[i]], color = \"red\")\n",
    "    plt.title(f\"Skewness = {round(df[df.columns[i]].skew(),5)}\",fontsize=15)\n",
    "    plt.tight_layout()"
   ]
  },
  {
   "cell_type": "markdown",
   "metadata": {},
   "source": [
    "skewness is present"
   ]
  },
  {
   "cell_type": "code",
   "execution_count": 37,
   "metadata": {},
   "outputs": [
    {
     "data": {
      "image/png": "[encoded data removed]",
      "text/plain": [
       "<Figure size 432x288 with 1 Axes>"
      ]
     },
     "metadata": {
      "needs_background": "light"
     },
     "output_type": "display_data"
    },
    {
     "data": {
      "image/png": "[encoded data removed]",
      "text/plain": [
       "<Figure size 432x288 with 1 Axes>"
      ]
     },
     "metadata": {
      "needs_background": "light"
     },
     "output_type": "display_data"
    },
    {
     "data": {
      "image/png": "[encoded data removed]",
      "text/plain": [
       "<Figure size 432x288 with 1 Axes>"
      ]
     },
     "metadata": {
      "needs_background": "light"
     },
     "output_type": "display_data"
    },
    {
     "data": {
      "image/png": "[encoded data removed]",
      "text/plain": [
       "<Figure size 432x288 with 1 Axes>"
      ]
     },
     "metadata": {
      "needs_background": "light"
     },
     "output_type": "display_data"
    },
    {
     "data": {
      "image/png": "[encoded data removed]",
      "text/plain": [
       "<Figure size 432x288 with 1 Axes>"
      ]
     },
     "metadata": {
      "needs_background": "light"
     },
     "output_type": "display_data"
    },
    {
     "data": {
      "image/png": "[encoded data removed]",
      "text/plain": [
       "<Figure size 432x288 with 1 Axes>"
      ]
     },
     "metadata": {
      "needs_background": "light"
     },
     "output_type": "display_data"
    },
    {
     "data": {
      "image/png": "[encoded data removed]",
      "text/plain": [
       "<Figure size 432x288 with 1 Axes>"
      ]
     },
     "metadata": {
      "needs_background": "light"
     },
     "output_type": "display_data"
    },
    {
     "data": {
      "image/png": "[encoded data removed]",
      "text/plain": [
       "<Figure size 432x288 with 1 Axes>"
      ]
     },
     "metadata": {
      "needs_background": "light"
     },
     "output_type": "display_data"
    }
   ],
   "source": [
    "#checking the distribution of skewness\n",
    "for col in df.describe().columns:\n",
    "    sns.distplot(df[col])\n",
    "    plt.show()"
   ]
  },
  {
   "cell_type": "markdown",
   "metadata": {},
   "source": [
    "data is not normally distributed"
   ]
  },
  {
   "cell_type": "code",
   "execution_count": 39,
   "metadata": {},
   "outputs": [
    {
     "data": {
      "text/plain": [
       "Year               AxesSubplot(0.125,0.536818;0.168478x0.343182)\n",
       "Brand           AxesSubplot(0.327174,0.536818;0.168478x0.343182)\n",
       "Model           AxesSubplot(0.529348,0.536818;0.168478x0.343182)\n",
       "kms_droved      AxesSubplot(0.731522,0.536818;0.168478x0.343182)\n",
       "Fuel_type             AxesSubplot(0.125,0.125;0.168478x0.343182)\n",
       "vehicle_type       AxesSubplot(0.327174,0.125;0.168478x0.343182)\n",
       "No.Of_Owners       AxesSubplot(0.529348,0.125;0.168478x0.343182)\n",
       "Price              AxesSubplot(0.731522,0.125;0.168478x0.343182)\n",
       "dtype: object"
      ]
     },
     "execution_count": 39,
     "metadata": {},
     "output_type": "execute_result"
    },
    {
     "data": {
      "image/png": "[encoded data removed]",
      "text/plain": [
       "<Figure size 720x720 with 8 Axes>"
      ]
     },
     "metadata": {
      "needs_background": "light"
     },
     "output_type": "display_data"
    }
   ],
   "source": [
    "#checking outliers\n",
    "df.plot(kind='box',subplots=True,layout=(2,4),figsize=(10,10))"
   ]
  },
  {
   "cell_type": "markdown",
   "metadata": {},
   "source": [
    "outliers are present"
   ]
  },
  {
   "cell_type": "code",
   "execution_count": 40,
   "metadata": {},
   "outputs": [
    {
     "data": {
      "text/plain": [
       "array([[0.85746723, 0.39033008, 0.74025498, ..., 0.4515006 , 0.51856492,\n",
       "        0.073983  ],\n",
       "       [0.11995382, 1.04145041, 0.20100893, ..., 0.4515006 , 0.51856492,\n",
       "        0.20805471],\n",
       "       [1.22622393, 0.39033008, 0.74025498, ..., 0.4515006 , 0.51856492,\n",
       "        0.073983  ],\n",
       "       ...,\n",
       "       [0.48871052, 0.47783037, 0.94195438, ..., 0.4515006 , 0.51856492,\n",
       "        1.36372146],\n",
       "       [2.09258641, 0.47783037, 1.37758882, ..., 0.4515006 , 1.75259756,\n",
       "        1.84875694],\n",
       "       [0.11995382, 1.04145041, 0.20100893, ..., 2.2148365 , 0.51856492,\n",
       "        0.62767181]])"
      ]
     },
     "execution_count": 40,
     "metadata": {},
     "output_type": "execute_result"
    }
   ],
   "source": [
    "#removing outliers\n",
    "from scipy.stats import zscore\n",
    "z=np.abs(zscore(df))\n",
    "z"
   ]
  },
  {
   "cell_type": "code",
   "execution_count": 41,
   "metadata": {},
   "outputs": [
    {
     "name": "stdout",
     "output_type": "stream",
     "text": [
      "(array([  66,  209,  215,  410,  415,  620,  692,  955, 1087, 1185, 1423,\n",
      "       1459, 1508, 1539, 1546, 1662, 1745, 1806, 2144, 2145, 2395, 2473,\n",
      "       2607, 2688, 2756, 2927, 2987, 3138, 3460, 3468, 3494, 3614, 3627,\n",
      "       3662, 3665, 3761, 3854, 3859, 3863, 3890, 4115, 4145, 4146],\n",
      "      dtype=int64), array([0, 6, 6, 6, 6, 6, 6, 6, 6, 6, 6, 6, 6, 6, 6, 6, 6, 6, 6, 6, 6, 6,\n",
      "       6, 0, 6, 6, 6, 6, 0, 6, 0, 6, 6, 6, 0, 6, 6, 6, 6, 6, 0, 6, 6],\n",
      "      dtype=int64))\n"
     ]
    }
   ],
   "source": [
    "threshold=3\n",
    "print(np.where(z>3))"
   ]
  },
  {
   "cell_type": "code",
   "execution_count": 42,
   "metadata": {},
   "outputs": [
    {
     "data": {
      "text/html": [
       "<div>\n",
       "<style scoped>\n",
       "    .dataframe tbody tr th:only-of-type {\n",
       "        vertical-align: middle;\n",
       "    }\n",
       "\n",
       "    .dataframe tbody tr th {\n",
       "        vertical-align: top;\n",
       "    }\n",
       "\n",
       "    .dataframe thead th {\n",
       "        text-align: right;\n",
       "    }\n",
       "</style>\n",
       "<table border=\"1\" class=\"dataframe\">\n",
       "  <thead>\n",
       "    <tr style=\"text-align: right;\">\n",
       "      <th></th>\n",
       "      <th>Year</th>\n",
       "      <th>Brand</th>\n",
       "      <th>Model</th>\n",
       "      <th>kms_droved</th>\n",
       "      <th>Fuel_type</th>\n",
       "      <th>vehicle_type</th>\n",
       "      <th>No.Of_Owners</th>\n",
       "      <th>Price</th>\n",
       "    </tr>\n",
       "  </thead>\n",
       "  <tbody>\n",
       "    <tr>\n",
       "      <th>0</th>\n",
       "      <td>2020</td>\n",
       "      <td>9</td>\n",
       "      <td>73</td>\n",
       "      <td>1549</td>\n",
       "      <td>1</td>\n",
       "      <td>1</td>\n",
       "      <td>0</td>\n",
       "      <td>383</td>\n",
       "    </tr>\n",
       "    <tr>\n",
       "      <th>1</th>\n",
       "      <td>2018</td>\n",
       "      <td>6</td>\n",
       "      <td>45</td>\n",
       "      <td>1978</td>\n",
       "      <td>1</td>\n",
       "      <td>1</td>\n",
       "      <td>0</td>\n",
       "      <td>424</td>\n",
       "    </tr>\n",
       "    <tr>\n",
       "      <th>2</th>\n",
       "      <td>2021</td>\n",
       "      <td>9</td>\n",
       "      <td>73</td>\n",
       "      <td>1977</td>\n",
       "      <td>1</td>\n",
       "      <td>1</td>\n",
       "      <td>0</td>\n",
       "      <td>383</td>\n",
       "    </tr>\n",
       "    <tr>\n",
       "      <th>3</th>\n",
       "      <td>2019</td>\n",
       "      <td>13</td>\n",
       "      <td>79</td>\n",
       "      <td>239</td>\n",
       "      <td>1</td>\n",
       "      <td>1</td>\n",
       "      <td>0</td>\n",
       "      <td>435</td>\n",
       "    </tr>\n",
       "    <tr>\n",
       "      <th>4</th>\n",
       "      <td>2020</td>\n",
       "      <td>13</td>\n",
       "      <td>79</td>\n",
       "      <td>146</td>\n",
       "      <td>1</td>\n",
       "      <td>1</td>\n",
       "      <td>0</td>\n",
       "      <td>456</td>\n",
       "    </tr>\n",
       "    <tr>\n",
       "      <th>...</th>\n",
       "      <td>...</td>\n",
       "      <td>...</td>\n",
       "      <td>...</td>\n",
       "      <td>...</td>\n",
       "      <td>...</td>\n",
       "      <td>...</td>\n",
       "      <td>...</td>\n",
       "      <td>...</td>\n",
       "    </tr>\n",
       "    <tr>\n",
       "      <th>4182</th>\n",
       "      <td>2020</td>\n",
       "      <td>6</td>\n",
       "      <td>30</td>\n",
       "      <td>2004</td>\n",
       "      <td>1</td>\n",
       "      <td>0</td>\n",
       "      <td>0</td>\n",
       "      <td>103</td>\n",
       "    </tr>\n",
       "    <tr>\n",
       "      <th>4183</th>\n",
       "      <td>2016</td>\n",
       "      <td>6</td>\n",
       "      <td>30</td>\n",
       "      <td>2181</td>\n",
       "      <td>1</td>\n",
       "      <td>0</td>\n",
       "      <td>1</td>\n",
       "      <td>33</td>\n",
       "    </tr>\n",
       "    <tr>\n",
       "      <th>4184</th>\n",
       "      <td>2019</td>\n",
       "      <td>13</td>\n",
       "      <td>79</td>\n",
       "      <td>2296</td>\n",
       "      <td>0</td>\n",
       "      <td>1</td>\n",
       "      <td>0</td>\n",
       "      <td>592</td>\n",
       "    </tr>\n",
       "    <tr>\n",
       "      <th>4185</th>\n",
       "      <td>2012</td>\n",
       "      <td>13</td>\n",
       "      <td>10</td>\n",
       "      <td>2587</td>\n",
       "      <td>1</td>\n",
       "      <td>1</td>\n",
       "      <td>1</td>\n",
       "      <td>125</td>\n",
       "    </tr>\n",
       "    <tr>\n",
       "      <th>4186</th>\n",
       "      <td>2018</td>\n",
       "      <td>6</td>\n",
       "      <td>45</td>\n",
       "      <td>2508</td>\n",
       "      <td>1</td>\n",
       "      <td>0</td>\n",
       "      <td>0</td>\n",
       "      <td>485</td>\n",
       "    </tr>\n",
       "  </tbody>\n",
       "</table>\n",
       "<p>4144 rows × 8 columns</p>\n",
       "</div>"
      ],
      "text/plain": [
       "      Year  Brand  Model  kms_droved  Fuel_type  vehicle_type  No.Of_Owners  \\\n",
       "0     2020      9     73        1549          1             1             0   \n",
       "1     2018      6     45        1978          1             1             0   \n",
       "2     2021      9     73        1977          1             1             0   \n",
       "3     2019     13     79         239          1             1             0   \n",
       "4     2020     13     79         146          1             1             0   \n",
       "...    ...    ...    ...         ...        ...           ...           ...   \n",
       "4182  2020      6     30        2004          1             0             0   \n",
       "4183  2016      6     30        2181          1             0             1   \n",
       "4184  2019     13     79        2296          0             1             0   \n",
       "4185  2012     13     10        2587          1             1             1   \n",
       "4186  2018      6     45        2508          1             0             0   \n",
       "\n",
       "      Price  \n",
       "0       383  \n",
       "1       424  \n",
       "2       383  \n",
       "3       435  \n",
       "4       456  \n",
       "...     ...  \n",
       "4182    103  \n",
       "4183     33  \n",
       "4184    592  \n",
       "4185    125  \n",
       "4186    485  \n",
       "\n",
       "[4144 rows x 8 columns]"
      ]
     },
     "execution_count": 42,
     "metadata": {},
     "output_type": "execute_result"
    }
   ],
   "source": [
    "dfnew=df[(z<3).all(axis=1)]\n",
    "dfnew"
   ]
  },
  {
   "cell_type": "markdown",
   "metadata": {},
   "source": [
    "almost 40 rows are dropped to clear the outliers"
   ]
  },
  {
   "cell_type": "code",
   "execution_count": 43,
   "metadata": {},
   "outputs": [],
   "source": [
    "#separating columns into features and target\n",
    "x=dfnew.drop('Price',axis=1)\n",
    "y=dfnew['Price']"
   ]
  },
  {
   "cell_type": "code",
   "execution_count": 44,
   "metadata": {},
   "outputs": [],
   "source": [
    "#removing skewness\n",
    "import sklearn\n",
    "from sklearn.preprocessing import power_transform"
   ]
  },
  {
   "cell_type": "code",
   "execution_count": 45,
   "metadata": {},
   "outputs": [],
   "source": [
    "x=power_transform(x,method='yeo-johnson')"
   ]
  },
  {
   "cell_type": "code",
   "execution_count": 46,
   "metadata": {},
   "outputs": [
    {
     "data": {
      "text/plain": [
       "array([[ 0.85943698, -0.32318495,  0.79183441, ...,  0.08686946,\n",
       "         0.45238387, -0.51886317],\n",
       "       [ 0.07930458, -1.04141455, -0.04291413, ...,  0.08686946,\n",
       "         0.45238387, -0.51886317],\n",
       "       [ 1.26301436, -0.32318495,  0.79183441, ...,  0.08686946,\n",
       "         0.45238387, -0.51886317],\n",
       "       ...,\n",
       "       [ 0.46493361,  0.52384064,  0.94920233, ..., -1.9719618 ,\n",
       "         0.45238387, -0.51886317],\n",
       "       [-2.0587602 ,  0.52384064, -1.61489883, ...,  0.08686946,\n",
       "         0.45238387,  1.92729039],\n",
       "       [ 0.07930458, -1.04141455, -0.04291413, ...,  0.08686946,\n",
       "        -2.21051208, -0.51886317]])"
      ]
     },
     "execution_count": 46,
     "metadata": {},
     "output_type": "execute_result"
    }
   ],
   "source": [
    "x"
   ]
  },
  {
   "cell_type": "code",
   "execution_count": 47,
   "metadata": {},
   "outputs": [],
   "source": [
    "x=pd.DataFrame(x)  #coverting numpy to panda"
   ]
  },
  {
   "cell_type": "code",
   "execution_count": 48,
   "metadata": {},
   "outputs": [
    {
     "data": {
      "text/html": [
       "<div>\n",
       "<style scoped>\n",
       "    .dataframe tbody tr th:only-of-type {\n",
       "        vertical-align: middle;\n",
       "    }\n",
       "\n",
       "    .dataframe tbody tr th {\n",
       "        vertical-align: top;\n",
       "    }\n",
       "\n",
       "    .dataframe thead th {\n",
       "        text-align: right;\n",
       "    }\n",
       "</style>\n",
       "<table border=\"1\" class=\"dataframe\">\n",
       "  <thead>\n",
       "    <tr style=\"text-align: right;\">\n",
       "      <th></th>\n",
       "      <th>0</th>\n",
       "      <th>1</th>\n",
       "      <th>2</th>\n",
       "      <th>3</th>\n",
       "      <th>4</th>\n",
       "      <th>5</th>\n",
       "      <th>6</th>\n",
       "    </tr>\n",
       "  </thead>\n",
       "  <tbody>\n",
       "    <tr>\n",
       "      <th>0</th>\n",
       "      <td>0.859437</td>\n",
       "      <td>-0.323185</td>\n",
       "      <td>0.791834</td>\n",
       "      <td>0.081040</td>\n",
       "      <td>0.086869</td>\n",
       "      <td>0.452384</td>\n",
       "      <td>-0.518863</td>\n",
       "    </tr>\n",
       "    <tr>\n",
       "      <th>1</th>\n",
       "      <td>0.079305</td>\n",
       "      <td>-1.041415</td>\n",
       "      <td>-0.042914</td>\n",
       "      <td>0.495171</td>\n",
       "      <td>0.086869</td>\n",
       "      <td>0.452384</td>\n",
       "      <td>-0.518863</td>\n",
       "    </tr>\n",
       "    <tr>\n",
       "      <th>2</th>\n",
       "      <td>1.263014</td>\n",
       "      <td>-0.323185</td>\n",
       "      <td>0.791834</td>\n",
       "      <td>0.494242</td>\n",
       "      <td>0.086869</td>\n",
       "      <td>0.452384</td>\n",
       "      <td>-0.518863</td>\n",
       "    </tr>\n",
       "    <tr>\n",
       "      <th>3</th>\n",
       "      <td>0.464934</td>\n",
       "      <td>0.523841</td>\n",
       "      <td>0.949202</td>\n",
       "      <td>-1.572154</td>\n",
       "      <td>0.086869</td>\n",
       "      <td>0.452384</td>\n",
       "      <td>-0.518863</td>\n",
       "    </tr>\n",
       "    <tr>\n",
       "      <th>4</th>\n",
       "      <td>0.859437</td>\n",
       "      <td>0.523841</td>\n",
       "      <td>0.949202</td>\n",
       "      <td>-1.756671</td>\n",
       "      <td>0.086869</td>\n",
       "      <td>0.452384</td>\n",
       "      <td>-0.518863</td>\n",
       "    </tr>\n",
       "    <tr>\n",
       "      <th>...</th>\n",
       "      <td>...</td>\n",
       "      <td>...</td>\n",
       "      <td>...</td>\n",
       "      <td>...</td>\n",
       "      <td>...</td>\n",
       "      <td>...</td>\n",
       "      <td>...</td>\n",
       "    </tr>\n",
       "    <tr>\n",
       "      <th>4139</th>\n",
       "      <td>0.859437</td>\n",
       "      <td>-1.041415</td>\n",
       "      <td>-0.596895</td>\n",
       "      <td>0.519276</td>\n",
       "      <td>0.086869</td>\n",
       "      <td>-2.210512</td>\n",
       "      <td>-0.518863</td>\n",
       "    </tr>\n",
       "    <tr>\n",
       "      <th>4140</th>\n",
       "      <td>-0.666108</td>\n",
       "      <td>-1.041415</td>\n",
       "      <td>-0.596895</td>\n",
       "      <td>0.680769</td>\n",
       "      <td>0.086869</td>\n",
       "      <td>-2.210512</td>\n",
       "      <td>1.927290</td>\n",
       "    </tr>\n",
       "    <tr>\n",
       "      <th>4141</th>\n",
       "      <td>0.464934</td>\n",
       "      <td>0.523841</td>\n",
       "      <td>0.949202</td>\n",
       "      <td>0.783414</td>\n",
       "      <td>-1.971962</td>\n",
       "      <td>0.452384</td>\n",
       "      <td>-0.518863</td>\n",
       "    </tr>\n",
       "    <tr>\n",
       "      <th>4142</th>\n",
       "      <td>-2.058760</td>\n",
       "      <td>0.523841</td>\n",
       "      <td>-1.614899</td>\n",
       "      <td>1.035994</td>\n",
       "      <td>0.086869</td>\n",
       "      <td>0.452384</td>\n",
       "      <td>1.927290</td>\n",
       "    </tr>\n",
       "    <tr>\n",
       "      <th>4143</th>\n",
       "      <td>0.079305</td>\n",
       "      <td>-1.041415</td>\n",
       "      <td>-0.042914</td>\n",
       "      <td>0.968379</td>\n",
       "      <td>0.086869</td>\n",
       "      <td>-2.210512</td>\n",
       "      <td>-0.518863</td>\n",
       "    </tr>\n",
       "  </tbody>\n",
       "</table>\n",
       "<p>4144 rows × 7 columns</p>\n",
       "</div>"
      ],
      "text/plain": [
       "             0         1         2         3         4         5         6\n",
       "0     0.859437 -0.323185  0.791834  0.081040  0.086869  0.452384 -0.518863\n",
       "1     0.079305 -1.041415 -0.042914  0.495171  0.086869  0.452384 -0.518863\n",
       "2     1.263014 -0.323185  0.791834  0.494242  0.086869  0.452384 -0.518863\n",
       "3     0.464934  0.523841  0.949202 -1.572154  0.086869  0.452384 -0.518863\n",
       "4     0.859437  0.523841  0.949202 -1.756671  0.086869  0.452384 -0.518863\n",
       "...        ...       ...       ...       ...       ...       ...       ...\n",
       "4139  0.859437 -1.041415 -0.596895  0.519276  0.086869 -2.210512 -0.518863\n",
       "4140 -0.666108 -1.041415 -0.596895  0.680769  0.086869 -2.210512  1.927290\n",
       "4141  0.464934  0.523841  0.949202  0.783414 -1.971962  0.452384 -0.518863\n",
       "4142 -2.058760  0.523841 -1.614899  1.035994  0.086869  0.452384  1.927290\n",
       "4143  0.079305 -1.041415 -0.042914  0.968379  0.086869 -2.210512 -0.518863\n",
       "\n",
       "[4144 rows x 7 columns]"
      ]
     },
     "execution_count": 48,
     "metadata": {},
     "output_type": "execute_result"
    }
   ],
   "source": [
    "x"
   ]
  },
  {
   "cell_type": "code",
   "execution_count": 49,
   "metadata": {},
   "outputs": [
    {
     "data": {
      "text/plain": [
       "0       383\n",
       "1       424\n",
       "2       383\n",
       "3       435\n",
       "4       456\n",
       "       ... \n",
       "4182    103\n",
       "4183     33\n",
       "4184    592\n",
       "4185    125\n",
       "4186    485\n",
       "Name: Price, Length: 4144, dtype: int32"
      ]
     },
     "execution_count": 49,
     "metadata": {},
     "output_type": "execute_result"
    }
   ],
   "source": [
    "y"
   ]
  },
  {
   "cell_type": "code",
   "execution_count": 53,
   "metadata": {},
   "outputs": [],
   "source": [
    "#Scaling the dataset using StandardScaler\n",
    "from sklearn.preprocessing import StandardScaler\n",
    "sc=StandardScaler()\n",
    "scale=sc.fit_transform(x)"
   ]
  },
  {
   "cell_type": "code",
   "execution_count": 54,
   "metadata": {},
   "outputs": [
    {
     "data": {
      "text/html": [
       "<div>\n",
       "<style scoped>\n",
       "    .dataframe tbody tr th:only-of-type {\n",
       "        vertical-align: middle;\n",
       "    }\n",
       "\n",
       "    .dataframe tbody tr th {\n",
       "        vertical-align: top;\n",
       "    }\n",
       "\n",
       "    .dataframe thead th {\n",
       "        text-align: right;\n",
       "    }\n",
       "</style>\n",
       "<table border=\"1\" class=\"dataframe\">\n",
       "  <thead>\n",
       "    <tr style=\"text-align: right;\">\n",
       "      <th></th>\n",
       "      <th>0</th>\n",
       "      <th>1</th>\n",
       "      <th>2</th>\n",
       "      <th>3</th>\n",
       "      <th>4</th>\n",
       "      <th>5</th>\n",
       "      <th>6</th>\n",
       "    </tr>\n",
       "  </thead>\n",
       "  <tbody>\n",
       "    <tr>\n",
       "      <th>0</th>\n",
       "      <td>0.859437</td>\n",
       "      <td>-0.323185</td>\n",
       "      <td>0.791834</td>\n",
       "      <td>0.081040</td>\n",
       "      <td>0.086869</td>\n",
       "      <td>0.452384</td>\n",
       "      <td>-0.518863</td>\n",
       "    </tr>\n",
       "    <tr>\n",
       "      <th>1</th>\n",
       "      <td>0.079305</td>\n",
       "      <td>-1.041415</td>\n",
       "      <td>-0.042914</td>\n",
       "      <td>0.495171</td>\n",
       "      <td>0.086869</td>\n",
       "      <td>0.452384</td>\n",
       "      <td>-0.518863</td>\n",
       "    </tr>\n",
       "    <tr>\n",
       "      <th>2</th>\n",
       "      <td>1.263014</td>\n",
       "      <td>-0.323185</td>\n",
       "      <td>0.791834</td>\n",
       "      <td>0.494242</td>\n",
       "      <td>0.086869</td>\n",
       "      <td>0.452384</td>\n",
       "      <td>-0.518863</td>\n",
       "    </tr>\n",
       "    <tr>\n",
       "      <th>3</th>\n",
       "      <td>0.464934</td>\n",
       "      <td>0.523841</td>\n",
       "      <td>0.949202</td>\n",
       "      <td>-1.572154</td>\n",
       "      <td>0.086869</td>\n",
       "      <td>0.452384</td>\n",
       "      <td>-0.518863</td>\n",
       "    </tr>\n",
       "    <tr>\n",
       "      <th>4</th>\n",
       "      <td>0.859437</td>\n",
       "      <td>0.523841</td>\n",
       "      <td>0.949202</td>\n",
       "      <td>-1.756671</td>\n",
       "      <td>0.086869</td>\n",
       "      <td>0.452384</td>\n",
       "      <td>-0.518863</td>\n",
       "    </tr>\n",
       "    <tr>\n",
       "      <th>...</th>\n",
       "      <td>...</td>\n",
       "      <td>...</td>\n",
       "      <td>...</td>\n",
       "      <td>...</td>\n",
       "      <td>...</td>\n",
       "      <td>...</td>\n",
       "      <td>...</td>\n",
       "    </tr>\n",
       "    <tr>\n",
       "      <th>4139</th>\n",
       "      <td>0.859437</td>\n",
       "      <td>-1.041415</td>\n",
       "      <td>-0.596895</td>\n",
       "      <td>0.519276</td>\n",
       "      <td>0.086869</td>\n",
       "      <td>-2.210512</td>\n",
       "      <td>-0.518863</td>\n",
       "    </tr>\n",
       "    <tr>\n",
       "      <th>4140</th>\n",
       "      <td>-0.666108</td>\n",
       "      <td>-1.041415</td>\n",
       "      <td>-0.596895</td>\n",
       "      <td>0.680769</td>\n",
       "      <td>0.086869</td>\n",
       "      <td>-2.210512</td>\n",
       "      <td>1.927290</td>\n",
       "    </tr>\n",
       "    <tr>\n",
       "      <th>4141</th>\n",
       "      <td>0.464934</td>\n",
       "      <td>0.523841</td>\n",
       "      <td>0.949202</td>\n",
       "      <td>0.783414</td>\n",
       "      <td>-1.971962</td>\n",
       "      <td>0.452384</td>\n",
       "      <td>-0.518863</td>\n",
       "    </tr>\n",
       "    <tr>\n",
       "      <th>4142</th>\n",
       "      <td>-2.058760</td>\n",
       "      <td>0.523841</td>\n",
       "      <td>-1.614899</td>\n",
       "      <td>1.035994</td>\n",
       "      <td>0.086869</td>\n",
       "      <td>0.452384</td>\n",
       "      <td>1.927290</td>\n",
       "    </tr>\n",
       "    <tr>\n",
       "      <th>4143</th>\n",
       "      <td>0.079305</td>\n",
       "      <td>-1.041415</td>\n",
       "      <td>-0.042914</td>\n",
       "      <td>0.968379</td>\n",
       "      <td>0.086869</td>\n",
       "      <td>-2.210512</td>\n",
       "      <td>-0.518863</td>\n",
       "    </tr>\n",
       "  </tbody>\n",
       "</table>\n",
       "<p>4144 rows × 7 columns</p>\n",
       "</div>"
      ],
      "text/plain": [
       "             0         1         2         3         4         5         6\n",
       "0     0.859437 -0.323185  0.791834  0.081040  0.086869  0.452384 -0.518863\n",
       "1     0.079305 -1.041415 -0.042914  0.495171  0.086869  0.452384 -0.518863\n",
       "2     1.263014 -0.323185  0.791834  0.494242  0.086869  0.452384 -0.518863\n",
       "3     0.464934  0.523841  0.949202 -1.572154  0.086869  0.452384 -0.518863\n",
       "4     0.859437  0.523841  0.949202 -1.756671  0.086869  0.452384 -0.518863\n",
       "...        ...       ...       ...       ...       ...       ...       ...\n",
       "4139  0.859437 -1.041415 -0.596895  0.519276  0.086869 -2.210512 -0.518863\n",
       "4140 -0.666108 -1.041415 -0.596895  0.680769  0.086869 -2.210512  1.927290\n",
       "4141  0.464934  0.523841  0.949202  0.783414 -1.971962  0.452384 -0.518863\n",
       "4142 -2.058760  0.523841 -1.614899  1.035994  0.086869  0.452384  1.927290\n",
       "4143  0.079305 -1.041415 -0.042914  0.968379  0.086869 -2.210512 -0.518863\n",
       "\n",
       "[4144 rows x 7 columns]"
      ]
     },
     "execution_count": 54,
     "metadata": {},
     "output_type": "execute_result"
    }
   ],
   "source": [
    "x"
   ]
  },
  {
   "cell_type": "code",
   "execution_count": 56,
   "metadata": {},
   "outputs": [
    {
     "name": "stdout",
     "output_type": "stream",
     "text": [
      "At random state 0,the training accuracy is:- 0.12108092251562785\n",
      "At random state 0,the training accuracy is:- 0.089742492556247\n",
      "\n",
      "\n",
      "At random state 1,the training accuracy is:- 0.12108092251562785\n",
      "At random state 1,the training accuracy is:- 0.089742492556247\n",
      "\n",
      "\n",
      "At random state 2,the training accuracy is:- 0.12108092251562785\n",
      "At random state 2,the training accuracy is:- 0.089742492556247\n",
      "\n",
      "\n",
      "At random state 3,the training accuracy is:- 0.12108092251562785\n",
      "At random state 3,the training accuracy is:- 0.089742492556247\n",
      "\n",
      "\n",
      "At random state 4,the training accuracy is:- 0.12108092251562785\n",
      "At random state 4,the training accuracy is:- 0.089742492556247\n",
      "\n",
      "\n",
      "At random state 5,the training accuracy is:- 0.12108092251562785\n",
      "At random state 5,the training accuracy is:- 0.089742492556247\n",
      "\n",
      "\n",
      "At random state 6,the training accuracy is:- 0.12108092251562785\n",
      "At random state 6,the training accuracy is:- 0.089742492556247\n",
      "\n",
      "\n",
      "At random state 7,the training accuracy is:- 0.12108092251562785\n",
      "At random state 7,the training accuracy is:- 0.089742492556247\n",
      "\n",
      "\n",
      "At random state 8,the training accuracy is:- 0.12108092251562785\n",
      "At random state 8,the training accuracy is:- 0.089742492556247\n",
      "\n",
      "\n",
      "At random state 9,the training accuracy is:- 0.12108092251562785\n",
      "At random state 9,the training accuracy is:- 0.089742492556247\n",
      "\n",
      "\n",
      "At random state 10,the training accuracy is:- 0.12108092251562785\n",
      "At random state 10,the training accuracy is:- 0.089742492556247\n",
      "\n",
      "\n",
      "At random state 11,the training accuracy is:- 0.12108092251562785\n",
      "At random state 11,the training accuracy is:- 0.089742492556247\n",
      "\n",
      "\n",
      "At random state 12,the training accuracy is:- 0.12108092251562785\n",
      "At random state 12,the training accuracy is:- 0.089742492556247\n",
      "\n",
      "\n",
      "At random state 13,the training accuracy is:- 0.12108092251562785\n",
      "At random state 13,the training accuracy is:- 0.089742492556247\n",
      "\n",
      "\n",
      "At random state 14,the training accuracy is:- 0.12108092251562785\n",
      "At random state 14,the training accuracy is:- 0.089742492556247\n",
      "\n",
      "\n",
      "At random state 15,the training accuracy is:- 0.12108092251562785\n",
      "At random state 15,the training accuracy is:- 0.089742492556247\n",
      "\n",
      "\n",
      "At random state 16,the training accuracy is:- 0.12108092251562785\n",
      "At random state 16,the training accuracy is:- 0.089742492556247\n",
      "\n",
      "\n",
      "At random state 17,the training accuracy is:- 0.12108092251562785\n",
      "At random state 17,the training accuracy is:- 0.089742492556247\n",
      "\n",
      "\n",
      "At random state 18,the training accuracy is:- 0.12108092251562785\n",
      "At random state 18,the training accuracy is:- 0.089742492556247\n",
      "\n",
      "\n",
      "At random state 19,the training accuracy is:- 0.12108092251562785\n",
      "At random state 19,the training accuracy is:- 0.089742492556247\n",
      "\n",
      "\n",
      "At random state 20,the training accuracy is:- 0.12108092251562785\n",
      "At random state 20,the training accuracy is:- 0.089742492556247\n",
      "\n",
      "\n",
      "At random state 21,the training accuracy is:- 0.12108092251562785\n",
      "At random state 21,the training accuracy is:- 0.089742492556247\n",
      "\n",
      "\n",
      "At random state 22,the training accuracy is:- 0.12108092251562785\n",
      "At random state 22,the training accuracy is:- 0.089742492556247\n",
      "\n",
      "\n",
      "At random state 23,the training accuracy is:- 0.12108092251562785\n",
      "At random state 23,the training accuracy is:- 0.089742492556247\n",
      "\n",
      "\n",
      "At random state 24,the training accuracy is:- 0.12108092251562785\n",
      "At random state 24,the training accuracy is:- 0.089742492556247\n",
      "\n",
      "\n",
      "At random state 25,the training accuracy is:- 0.12108092251562785\n",
      "At random state 25,the training accuracy is:- 0.089742492556247\n",
      "\n",
      "\n",
      "At random state 26,the training accuracy is:- 0.12108092251562785\n",
      "At random state 26,the training accuracy is:- 0.089742492556247\n",
      "\n",
      "\n",
      "At random state 27,the training accuracy is:- 0.12108092251562785\n",
      "At random state 27,the training accuracy is:- 0.089742492556247\n",
      "\n",
      "\n",
      "At random state 28,the training accuracy is:- 0.12108092251562785\n",
      "At random state 28,the training accuracy is:- 0.089742492556247\n",
      "\n",
      "\n",
      "At random state 29,the training accuracy is:- 0.12108092251562785\n",
      "At random state 29,the training accuracy is:- 0.089742492556247\n",
      "\n",
      "\n",
      "At random state 30,the training accuracy is:- 0.12108092251562785\n",
      "At random state 30,the training accuracy is:- 0.089742492556247\n",
      "\n",
      "\n",
      "At random state 31,the training accuracy is:- 0.12108092251562785\n",
      "At random state 31,the training accuracy is:- 0.089742492556247\n",
      "\n",
      "\n",
      "At random state 32,the training accuracy is:- 0.12108092251562785\n",
      "At random state 32,the training accuracy is:- 0.089742492556247\n",
      "\n",
      "\n",
      "At random state 33,the training accuracy is:- 0.12108092251562785\n",
      "At random state 33,the training accuracy is:- 0.089742492556247\n",
      "\n",
      "\n",
      "At random state 34,the training accuracy is:- 0.12108092251562785\n",
      "At random state 34,the training accuracy is:- 0.089742492556247\n",
      "\n",
      "\n",
      "At random state 35,the training accuracy is:- 0.12108092251562785\n",
      "At random state 35,the training accuracy is:- 0.089742492556247\n",
      "\n",
      "\n",
      "At random state 36,the training accuracy is:- 0.12108092251562785\n",
      "At random state 36,the training accuracy is:- 0.089742492556247\n",
      "\n",
      "\n",
      "At random state 37,the training accuracy is:- 0.12108092251562785\n",
      "At random state 37,the training accuracy is:- 0.089742492556247\n",
      "\n",
      "\n",
      "At random state 38,the training accuracy is:- 0.12108092251562785\n",
      "At random state 38,the training accuracy is:- 0.089742492556247\n",
      "\n",
      "\n",
      "At random state 39,the training accuracy is:- 0.12108092251562785\n",
      "At random state 39,the training accuracy is:- 0.089742492556247\n",
      "\n",
      "\n",
      "At random state 40,the training accuracy is:- 0.12108092251562785\n",
      "At random state 40,the training accuracy is:- 0.089742492556247\n",
      "\n",
      "\n",
      "At random state 41,the training accuracy is:- 0.12108092251562785\n",
      "At random state 41,the training accuracy is:- 0.089742492556247\n",
      "\n",
      "\n",
      "At random state 42,the training accuracy is:- 0.12108092251562785\n",
      "At random state 42,the training accuracy is:- 0.089742492556247\n",
      "\n",
      "\n",
      "At random state 43,the training accuracy is:- 0.12108092251562785\n",
      "At random state 43,the training accuracy is:- 0.089742492556247\n",
      "\n",
      "\n",
      "At random state 44,the training accuracy is:- 0.12108092251562785\n",
      "At random state 44,the training accuracy is:- 0.089742492556247\n",
      "\n",
      "\n",
      "At random state 45,the training accuracy is:- 0.12108092251562785\n",
      "At random state 45,the training accuracy is:- 0.089742492556247\n",
      "\n",
      "\n",
      "At random state 46,the training accuracy is:- 0.12108092251562785\n",
      "At random state 46,the training accuracy is:- 0.089742492556247\n",
      "\n",
      "\n",
      "At random state 47,the training accuracy is:- 0.12108092251562785\n",
      "At random state 47,the training accuracy is:- 0.089742492556247\n",
      "\n",
      "\n",
      "At random state 48,the training accuracy is:- 0.12108092251562785\n",
      "At random state 48,the training accuracy is:- 0.089742492556247\n",
      "\n",
      "\n",
      "At random state 49,the training accuracy is:- 0.12108092251562785\n",
      "At random state 49,the training accuracy is:- 0.089742492556247\n",
      "\n",
      "\n",
      "At random state 50,the training accuracy is:- 0.12108092251562785\n",
      "At random state 50,the training accuracy is:- 0.089742492556247\n",
      "\n",
      "\n",
      "At random state 51,the training accuracy is:- 0.12108092251562785\n",
      "At random state 51,the training accuracy is:- 0.089742492556247\n",
      "\n",
      "\n",
      "At random state 52,the training accuracy is:- 0.12108092251562785\n",
      "At random state 52,the training accuracy is:- 0.089742492556247\n",
      "\n",
      "\n",
      "At random state 53,the training accuracy is:- 0.12108092251562785\n",
      "At random state 53,the training accuracy is:- 0.089742492556247\n",
      "\n",
      "\n",
      "At random state 54,the training accuracy is:- 0.12108092251562785\n",
      "At random state 54,the training accuracy is:- 0.089742492556247\n",
      "\n",
      "\n",
      "At random state 55,the training accuracy is:- 0.12108092251562785\n",
      "At random state 55,the training accuracy is:- 0.089742492556247\n",
      "\n",
      "\n",
      "At random state 56,the training accuracy is:- 0.12108092251562785\n",
      "At random state 56,the training accuracy is:- 0.089742492556247\n",
      "\n",
      "\n",
      "At random state 57,the training accuracy is:- 0.12108092251562785\n",
      "At random state 57,the training accuracy is:- 0.089742492556247\n",
      "\n",
      "\n",
      "At random state 58,the training accuracy is:- 0.12108092251562785\n",
      "At random state 58,the training accuracy is:- 0.089742492556247\n",
      "\n",
      "\n",
      "At random state 59,the training accuracy is:- 0.12108092251562785\n",
      "At random state 59,the training accuracy is:- 0.089742492556247\n",
      "\n",
      "\n",
      "At random state 60,the training accuracy is:- 0.12108092251562785\n",
      "At random state 60,the training accuracy is:- 0.089742492556247\n",
      "\n",
      "\n",
      "At random state 61,the training accuracy is:- 0.12108092251562785\n",
      "At random state 61,the training accuracy is:- 0.089742492556247\n",
      "\n",
      "\n",
      "At random state 62,the training accuracy is:- 0.12108092251562785\n",
      "At random state 62,the training accuracy is:- 0.089742492556247\n",
      "\n",
      "\n",
      "At random state 63,the training accuracy is:- 0.12108092251562785\n",
      "At random state 63,the training accuracy is:- 0.089742492556247\n",
      "\n",
      "\n",
      "At random state 64,the training accuracy is:- 0.12108092251562785\n",
      "At random state 64,the training accuracy is:- 0.089742492556247\n",
      "\n",
      "\n",
      "At random state 65,the training accuracy is:- 0.12108092251562785\n",
      "At random state 65,the training accuracy is:- 0.089742492556247\n",
      "\n",
      "\n",
      "At random state 66,the training accuracy is:- 0.12108092251562785\n",
      "At random state 66,the training accuracy is:- 0.089742492556247\n",
      "\n",
      "\n",
      "At random state 67,the training accuracy is:- 0.12108092251562785\n",
      "At random state 67,the training accuracy is:- 0.089742492556247\n",
      "\n",
      "\n",
      "At random state 68,the training accuracy is:- 0.12108092251562785\n",
      "At random state 68,the training accuracy is:- 0.089742492556247\n",
      "\n",
      "\n",
      "At random state 69,the training accuracy is:- 0.12108092251562785\n",
      "At random state 69,the training accuracy is:- 0.089742492556247\n",
      "\n",
      "\n",
      "At random state 70,the training accuracy is:- 0.12108092251562785\n",
      "At random state 70,the training accuracy is:- 0.089742492556247\n",
      "\n",
      "\n",
      "At random state 71,the training accuracy is:- 0.12108092251562785\n",
      "At random state 71,the training accuracy is:- 0.089742492556247\n",
      "\n",
      "\n",
      "At random state 72,the training accuracy is:- 0.12108092251562785\n",
      "At random state 72,the training accuracy is:- 0.089742492556247\n",
      "\n",
      "\n",
      "At random state 73,the training accuracy is:- 0.12108092251562785\n",
      "At random state 73,the training accuracy is:- 0.089742492556247\n",
      "\n",
      "\n",
      "At random state 74,the training accuracy is:- 0.12108092251562785\n",
      "At random state 74,the training accuracy is:- 0.089742492556247\n",
      "\n",
      "\n",
      "At random state 75,the training accuracy is:- 0.12108092251562785\n",
      "At random state 75,the training accuracy is:- 0.089742492556247\n",
      "\n",
      "\n",
      "At random state 76,the training accuracy is:- 0.12108092251562785\n",
      "At random state 76,the training accuracy is:- 0.089742492556247\n",
      "\n",
      "\n",
      "At random state 77,the training accuracy is:- 0.12108092251562785\n",
      "At random state 77,the training accuracy is:- 0.089742492556247\n",
      "\n",
      "\n",
      "At random state 78,the training accuracy is:- 0.12108092251562785\n",
      "At random state 78,the training accuracy is:- 0.089742492556247\n",
      "\n",
      "\n",
      "At random state 79,the training accuracy is:- 0.12108092251562785\n",
      "At random state 79,the training accuracy is:- 0.089742492556247\n",
      "\n",
      "\n",
      "At random state 80,the training accuracy is:- 0.12108092251562785\n",
      "At random state 80,the training accuracy is:- 0.089742492556247\n",
      "\n",
      "\n",
      "At random state 81,the training accuracy is:- 0.12108092251562785\n",
      "At random state 81,the training accuracy is:- 0.089742492556247\n",
      "\n",
      "\n",
      "At random state 82,the training accuracy is:- 0.12108092251562785\n",
      "At random state 82,the training accuracy is:- 0.089742492556247\n",
      "\n",
      "\n",
      "At random state 83,the training accuracy is:- 0.12108092251562785\n",
      "At random state 83,the training accuracy is:- 0.089742492556247\n",
      "\n",
      "\n",
      "At random state 84,the training accuracy is:- 0.12108092251562785\n",
      "At random state 84,the training accuracy is:- 0.089742492556247\n",
      "\n",
      "\n",
      "At random state 85,the training accuracy is:- 0.12108092251562785\n",
      "At random state 85,the training accuracy is:- 0.089742492556247\n",
      "\n",
      "\n",
      "At random state 86,the training accuracy is:- 0.12108092251562785\n",
      "At random state 86,the training accuracy is:- 0.089742492556247\n",
      "\n",
      "\n",
      "At random state 87,the training accuracy is:- 0.12108092251562785\n",
      "At random state 87,the training accuracy is:- 0.089742492556247\n",
      "\n",
      "\n",
      "At random state 88,the training accuracy is:- 0.12108092251562785\n",
      "At random state 88,the training accuracy is:- 0.089742492556247\n",
      "\n",
      "\n",
      "At random state 89,the training accuracy is:- 0.12108092251562785\n",
      "At random state 89,the training accuracy is:- 0.089742492556247\n",
      "\n",
      "\n",
      "At random state 90,the training accuracy is:- 0.12108092251562785\n",
      "At random state 90,the training accuracy is:- 0.089742492556247\n",
      "\n",
      "\n",
      "At random state 91,the training accuracy is:- 0.12108092251562785\n",
      "At random state 91,the training accuracy is:- 0.089742492556247\n",
      "\n",
      "\n",
      "At random state 92,the training accuracy is:- 0.12108092251562785\n",
      "At random state 92,the training accuracy is:- 0.089742492556247\n",
      "\n",
      "\n",
      "At random state 93,the training accuracy is:- 0.12108092251562785\n",
      "At random state 93,the training accuracy is:- 0.089742492556247\n",
      "\n",
      "\n",
      "At random state 94,the training accuracy is:- 0.12108092251562785\n",
      "At random state 94,the training accuracy is:- 0.089742492556247\n",
      "\n",
      "\n",
      "At random state 95,the training accuracy is:- 0.12108092251562785\n",
      "At random state 95,the training accuracy is:- 0.089742492556247\n",
      "\n",
      "\n",
      "At random state 96,the training accuracy is:- 0.12108092251562785\n",
      "At random state 96,the training accuracy is:- 0.089742492556247\n",
      "\n",
      "\n",
      "At random state 97,the training accuracy is:- 0.12108092251562785\n",
      "At random state 97,the training accuracy is:- 0.089742492556247\n",
      "\n",
      "\n",
      "At random state 98,the training accuracy is:- 0.12108092251562785\n",
      "At random state 98,the training accuracy is:- 0.089742492556247\n",
      "\n",
      "\n",
      "At random state 99,the training accuracy is:- 0.12108092251562785\n",
      "At random state 99,the training accuracy is:- 0.089742492556247\n",
      "\n",
      "\n"
     ]
    }
   ],
   "source": [
    "lr=LinearRegression()\n",
    "for i in range(0,100):\n",
    "    x_train,x_test,y_train,y_test=train_test_split(x,y,test_size=0.2,random_state=1)\n",
    "    lr.fit(x_train,y_train)\n",
    "    pred_train=lr.predict(x_train)\n",
    "    pred_test=lr.predict(x_test)\n",
    "    print(f\"At random state {i},the training accuracy is:- {r2_score(y_train,pred_train)}\")\n",
    "    print(f\"At random state {i},the training accuracy is:- {r2_score(y_test,pred_test)}\")\n",
    "          \n",
    "    print(\"\\n\") "
   ]
  },
  {
   "cell_type": "code",
   "execution_count": 57,
   "metadata": {},
   "outputs": [],
   "source": [
    "#Creating train_test_split using best random_state\n",
    "x_train,x_test,y_train,y_test=train_test_split(x,y,random_state=4,test_size=.20)"
   ]
  },
  {
   "cell_type": "code",
   "execution_count": 58,
   "metadata": {},
   "outputs": [],
   "source": [
    "#finding the best model\n",
    "LR=LinearRegression()\n",
    "l=Lasso()\n",
    "en=ElasticNet()\n",
    "rd=Ridge()\n",
    "svr=SVR()\n",
    "dtr=DecisionTreeRegressor()\n",
    "knr=KNeighborsRegressor()"
   ]
  },
  {
   "cell_type": "code",
   "execution_count": 59,
   "metadata": {},
   "outputs": [],
   "source": [
    "models= []\n",
    "models.append(('Linear Regression',LR))\n",
    "models.append(('Lasso Regression',l))\n",
    "models.append(('Elastic Net Regression',en))\n",
    "models.append(('Ridge Regression',rd))\n",
    "models.append(('Support Vector Regressor',svr))\n",
    "models.append(('Decision Tree Regressor',dtr))\n",
    "models.append(('KNeighbors Regressor',knr))"
   ]
  },
  {
   "cell_type": "code",
   "execution_count": 60,
   "metadata": {},
   "outputs": [
    {
     "name": "stdout",
     "output_type": "stream",
     "text": [
      "***** Linear Regression *****\n",
      "\n",
      "\n",
      "LinearRegression()\n",
      "\n",
      "\n",
      "r2_score:  0.09027584270009525\n",
      "\n",
      "\n",
      "cross_val_score:  0.11853321744711129\n",
      "\n",
      "\n",
      "Standard Deviation:  0.08248540822860939\n",
      "\n",
      "\n",
      "Mean Absolute Error:  107.3461298858108\n",
      "\n",
      "\n",
      "Mean Squared Error:  20009.46243460254\n",
      "\n",
      "\n",
      "Root Mean Squared Error:  141.454807039572\n",
      "\n",
      "\n",
      "\n",
      "***** Lasso Regression *****\n",
      "\n",
      "\n",
      "Lasso()\n",
      "\n",
      "\n",
      "r2_score:  0.09053633091927415\n",
      "\n",
      "\n",
      "cross_val_score:  0.11932711008261805\n",
      "\n",
      "\n",
      "Standard Deviation:  0.08063452654031841\n",
      "\n",
      "\n",
      "Mean Absolute Error:  107.29113819684181\n",
      "\n",
      "\n",
      "Mean Squared Error:  20003.73297343072\n",
      "\n",
      "\n",
      "Root Mean Squared Error:  141.43455367565142\n",
      "\n",
      "\n",
      "\n",
      "***** Elastic Net Regression *****\n",
      "\n",
      "\n",
      "ElasticNet()\n",
      "\n",
      "\n",
      "r2_score:  0.08009693453275946\n",
      "\n",
      "\n",
      "cross_val_score:  0.09924259503397843\n",
      "\n",
      "\n",
      "Standard Deviation:  0.06010112903898647\n",
      "\n",
      "\n",
      "Mean Absolute Error:  107.63715395439768\n",
      "\n",
      "\n",
      "Mean Squared Error:  20233.348410329607\n",
      "\n",
      "\n",
      "Root Mean Squared Error:  142.2439749526482\n",
      "\n",
      "\n",
      "\n",
      "***** Ridge Regression *****\n",
      "\n",
      "\n",
      "Ridge()\n",
      "\n",
      "\n",
      "r2_score:  0.09028169384363571\n",
      "\n",
      "\n",
      "cross_val_score:  0.11853425393136767\n",
      "\n",
      "\n",
      "Standard Deviation:  0.08246494252947675\n",
      "\n",
      "\n",
      "Mean Absolute Error:  107.34599952640629\n",
      "\n",
      "\n",
      "Mean Squared Error:  20009.33373818843\n",
      "\n",
      "\n",
      "Root Mean Squared Error:  141.45435213590437\n",
      "\n",
      "\n",
      "\n",
      "***** Support Vector Regressor *****\n",
      "\n",
      "\n",
      "SVR()\n",
      "\n",
      "\n",
      "r2_score:  0.0924739450574249\n",
      "\n",
      "\n",
      "cross_val_score:  0.08665110723980114\n",
      "\n",
      "\n",
      "Standard Deviation:  0.04249165913379288\n",
      "\n",
      "\n",
      "Mean Absolute Error:  101.14801620218381\n",
      "\n",
      "\n",
      "Mean Squared Error:  19961.11498093379\n",
      "\n",
      "\n",
      "Root Mean Squared Error:  141.2838100453615\n",
      "\n",
      "\n",
      "\n",
      "***** Decision Tree Regressor *****\n",
      "\n",
      "\n",
      "DecisionTreeRegressor()\n",
      "\n",
      "\n",
      "r2_score:  0.30073150846700325\n",
      "\n",
      "\n",
      "cross_val_score:  0.3997333935427337\n",
      "\n",
      "\n",
      "Standard Deviation:  0.4819792162316894\n",
      "\n",
      "\n",
      "Mean Absolute Error:  62.4692400482509\n",
      "\n",
      "\n",
      "Mean Squared Error:  15380.471652593485\n",
      "\n",
      "\n",
      "Root Mean Squared Error:  124.01802954648765\n",
      "\n",
      "\n",
      "\n",
      "***** KNeighbors Regressor *****\n",
      "\n",
      "\n",
      "KNeighborsRegressor()\n",
      "\n",
      "\n",
      "r2_score:  0.3879934895849255\n",
      "\n",
      "\n",
      "cross_val_score:  0.3694680835940344\n",
      "\n",
      "\n",
      "Standard Deviation:  0.21090054960845944\n",
      "\n",
      "\n",
      "Mean Absolute Error:  78.33558504221953\n",
      "\n",
      "\n",
      "Mean Squared Error:  13461.136743063931\n",
      "\n",
      "\n",
      "Root Mean Squared Error:  116.02213902123995\n",
      "\n",
      "\n",
      "\n"
     ]
    }
   ],
   "source": [
    "Model=[]\n",
    "score=[]\n",
    "cvs=[]\n",
    "sd=[]\n",
    "mae=[]\n",
    "mse=[]\n",
    "rmse=[]\n",
    "for name,model in models:\n",
    "    print('*****',name,'*****')\n",
    "    print('\\n')\n",
    "    Model.append(name)\n",
    "    model.fit(x_train,y_train)\n",
    "    print(model)\n",
    "    pre=model.predict(x_test)\n",
    "    print('\\n')\n",
    "    AS=r2_score(y_test,pre)\n",
    "    print('r2_score: ',AS)\n",
    "    score.append(AS*100)\n",
    "    print('\\n')\n",
    "    sc=cross_val_score(model,x,y,cv=5,scoring='r2').mean()\n",
    "    print('cross_val_score: ',sc)\n",
    "    cvs.append(sc*100)\n",
    "    print('\\n')\n",
    "    std=cross_val_score(model,x,y,cv=5,scoring='r2').std()\n",
    "    print('Standard Deviation: ',std)\n",
    "    sd.append(std)\n",
    "    print('\\n')\n",
    "    MAE=mean_absolute_error(y_test,pre)\n",
    "    print('Mean Absolute Error: ',MAE)\n",
    "    mae.append(MAE)\n",
    "    print('\\n')\n",
    "    MSE=mean_squared_error(y_test,pre)\n",
    "    print('Mean Squared Error: ',MSE)\n",
    "    mse.append(MSE)\n",
    "    print('\\n')\n",
    "    RMSE=np.sqrt(mean_squared_error(y_test,pre))\n",
    "    print('Root Mean Squared Error: ',RMSE)\n",
    "    rmse.append(RMSE)\n",
    "    print('\\n\\n')"
   ]
  },
  {
   "cell_type": "code",
   "execution_count": 61,
   "metadata": {},
   "outputs": [],
   "source": [
    "#hyperparameter tunning\n",
    "#lasso\n",
    "parameters={'alpha' :[0.001, 0.01, 0.1, 1], 'random_state':range(42, 100), 'selection':['cyclic','random']}"
   ]
  },
  {
   "cell_type": "code",
   "execution_count": 62,
   "metadata": {},
   "outputs": [
    {
     "name": "stdout",
     "output_type": "stream",
     "text": [
      "{'alpha': 1, 'random_state': 56, 'selection': 'random'}\n",
      "0.11815252596553355\n"
     ]
    }
   ],
   "source": [
    "l=Lasso()\n",
    "grid=GridSearchCV(l,parameters,cv=4,scoring='r2')\n",
    "grid.fit(x_train,y_train)\n",
    "print(grid.best_params_)\n",
    "print(grid.best_score_)"
   ]
  },
  {
   "cell_type": "code",
   "execution_count": 63,
   "metadata": {},
   "outputs": [
    {
     "name": "stdout",
     "output_type": "stream",
     "text": [
      "Final r2_score after tuning is:  9.053519256086195\n",
      "Cross validation score:  11.457196042161701\n",
      "Standard deviation:  0.08063413150409242\n",
      "\n",
      "\n",
      "Mean absolute error:  107.29130594993941\n",
      "Mean squared error:  20003.758011723596\n",
      "Root Mean squared error:  141.43464219109686\n"
     ]
    }
   ],
   "source": [
    "l=Lasso(alpha=1, random_state=65, selection='random')\n",
    "l.fit(x_train,y_train)\n",
    "pred=l.predict(x_test)\n",
    "print('Final r2_score after tuning is: ',r2_score(y_test,pred)*100)\n",
    "print('Cross validation score: ',cross_val_score(l,x,y,cv=4,scoring='r2').mean()*100)\n",
    "print('Standard deviation: ',cross_val_score(l,x,y,cv=5,scoring='r2').std())\n",
    "print('\\n')\n",
    "print('Mean absolute error: ',mean_absolute_error(y_test,pred))\n",
    "print('Mean squared error: ',mean_squared_error(y_test,pred))\n",
    "print('Root Mean squared error: ',np.sqrt(mean_squared_error(y_test,pred)))"
   ]
  },
  {
   "cell_type": "code",
   "execution_count": 64,
   "metadata": {},
   "outputs": [],
   "source": [
    "#Ridge\n",
    "parameters={'alpha' :[0.001, 0.01, 0.1, 1], 'random_state':range(42, 100), 'solver':['auto','lsqr','svd']}"
   ]
  },
  {
   "cell_type": "code",
   "execution_count": 65,
   "metadata": {},
   "outputs": [
    {
     "name": "stdout",
     "output_type": "stream",
     "text": [
      "{'alpha': 1, 'random_state': 42, 'solver': 'lsqr'}\n",
      "0.11719841842046848\n"
     ]
    }
   ],
   "source": [
    "rd=Ridge()\n",
    "grid=GridSearchCV(rd,parameters,cv=5,scoring='r2')\n",
    "grid.fit(x_train,y_train)\n",
    "print(grid.best_params_)\n",
    "print(grid.best_score_)"
   ]
  },
  {
   "cell_type": "code",
   "execution_count": 66,
   "metadata": {},
   "outputs": [
    {
     "name": "stdout",
     "output_type": "stream",
     "text": [
      "Final r2_score after tuning is:  9.02748543226748\n",
      "Cross validation score:  11.849840894950217\n",
      "Standard deviation:  0.08244156487933896\n",
      "\n",
      "\n",
      "Mean absolute error:  107.34932240403963\n",
      "Mean squared error:  20009.48417405038\n",
      "Root Mean squared error:  141.45488388193027\n"
     ]
    }
   ],
   "source": [
    "rd=Ridge(alpha=1, random_state=42, solver='lsqr')\n",
    "rd.fit(x_train,y_train)\n",
    "pred=rd.predict(x_test)\n",
    "print('Final r2_score after tuning is: ',r2_score(y_test,pred)*100)\n",
    "print('Cross validation score: ',cross_val_score(rd,x,y,cv=5,scoring='r2').mean()*100)\n",
    "print('Standard deviation: ',cross_val_score(rd,x,y,cv=5,scoring='r2').std())\n",
    "print('\\n')\n",
    "print('Mean absolute error: ',mean_absolute_error(y_test,pred))\n",
    "print('Mean squared error: ',mean_squared_error(y_test,pred))\n",
    "print('Root Mean squared error: ',np.sqrt(mean_squared_error(y_test,pred)))"
   ]
  },
  {
   "cell_type": "code",
   "execution_count": 67,
   "metadata": {},
   "outputs": [
    {
     "name": "stdout",
     "output_type": "stream",
     "text": [
      "{'n_estimators': 500}\n",
      "0.6109430362262558\n"
     ]
    }
   ],
   "source": [
    "#ensemble technique\n",
    "rfr=RandomForestRegressor(random_state=4)  \n",
    "parameters={'n_estimators':[10,50,100,500]}\n",
    "grid=GridSearchCV(rfr,parameters,cv=5,scoring='r2')\n",
    "grid.fit(x_train,y_train)\n",
    "print(grid.best_params_)\n",
    "print(grid.best_score_)"
   ]
  },
  {
   "cell_type": "code",
   "execution_count": 68,
   "metadata": {},
   "outputs": [
    {
     "name": "stdout",
     "output_type": "stream",
     "text": [
      "r2_score:  57.88439339756491\n",
      "Cross validation score:  63.73258100321747\n",
      "Standard deviation:  0.2583440165297258\n",
      "\n",
      "\n",
      "Mean absolute error:  57.344858866103735\n",
      "Mean squared error:  9263.36452055006\n",
      "Root Mean squared error:  96.24637406442936\n"
     ]
    }
   ],
   "source": [
    "RF=RandomForestRegressor(random_state=4, n_estimators=500)\n",
    "RF.fit(x_train,y_train)\n",
    "pred=RF.predict(x_test)\n",
    "print('r2_score: ',r2_score(y_test,pred)*100)\n",
    "print('Cross validation score: ',cross_val_score(RF,x,y,cv=5,scoring='r2').mean()*100)\n",
    "print('Standard deviation: ',cross_val_score(RF,x,y,cv=5,scoring='r2').std())\n",
    "print('\\n')\n",
    "print('Mean absolute error: ',mean_absolute_error(y_test,pred))\n",
    "print('Mean squared error: ',mean_squared_error(y_test,pred))\n",
    "print('Root Mean squared error: ',np.sqrt(mean_squared_error(y_test,pred)))"
   ]
  },
  {
   "cell_type": "code",
   "execution_count": 69,
   "metadata": {},
   "outputs": [
    {
     "name": "stdout",
     "output_type": "stream",
     "text": [
      "{'learning_rate': 0.01, 'loss': 'linear', 'n_estimators': 100}\n",
      "0.30914513679047306\n"
     ]
    }
   ],
   "source": [
    "adr=AdaBoostRegressor(random_state=4)\n",
    "parameters={'n_estimators':[10,50,100,500,1000],'learning_rate':[0.001,0.01,0.1,1],'loss':['linear','square']}\n",
    "grid=GridSearchCV(adr,parameters,cv=5,scoring='r2')\n",
    "grid.fit(x_train,y_train)\n",
    "print(grid.best_params_)\n",
    "print(grid.best_score_)"
   ]
  },
  {
   "cell_type": "code",
   "execution_count": 70,
   "metadata": {},
   "outputs": [
    {
     "name": "stdout",
     "output_type": "stream",
     "text": [
      "r2_score:  6.381651315796699\n",
      "Cross validation score:  7.662215221133916\n",
      "Standard deviation:  0.08110888609781115\n",
      "\n",
      "\n",
      "Mean absolute error:  104.96363184309574\n",
      "Mean squared error:  20591.437702896364\n",
      "Root Mean squared error:  143.4971696685909\n"
     ]
    }
   ],
   "source": [
    "adr=AdaBoostRegressor(random_state=4, n_estimators=1000, learning_rate=1, loss='square')\n",
    "adr.fit(x_train,y_train)\n",
    "pred=adr.predict(x_test)\n",
    "print(\"r2_score: \",r2_score(y_test,pred)*100)\n",
    "print('Cross validation score: ',cross_val_score(adr,x,y,cv=5,scoring='r2').mean()*100)\n",
    "print('Standard deviation: ',cross_val_score(adr,x,y,cv=5,scoring='r2').std())\n",
    "print('\\n')\n",
    "print('Mean absolute error: ',mean_absolute_error(y_test,pred))\n",
    "print('Mean squared error: ',mean_squared_error(y_test,pred))\n",
    "print('Root Mean squared error: ',np.sqrt(mean_squared_error(y_test,pred)))"
   ]
  },
  {
   "cell_type": "code",
   "execution_count": 71,
   "metadata": {},
   "outputs": [
    {
     "name": "stdout",
     "output_type": "stream",
     "text": [
      "{'n_estimators': 1000}\n",
      "0.5678585750299879\n"
     ]
    }
   ],
   "source": [
    "gbr=GradientBoostingRegressor(random_state=4)\n",
    "parameters={'n_estimators':[10,50,100,500,1000]}\n",
    "grid=GridSearchCV(gbr,parameters,cv=5,scoring='r2')\n",
    "grid.fit(x_train,y_train)\n",
    "print(grid.best_params_)\n",
    "print(grid.best_score_)"
   ]
  },
  {
   "cell_type": "code",
   "execution_count": 72,
   "metadata": {},
   "outputs": [
    {
     "name": "stdout",
     "output_type": "stream",
     "text": [
      "r2_score:  53.26116450656953\n",
      "Cross validation score:  58.91237032062182\n",
      "Standard deviation:  0.17709619435303145\n",
      "\n",
      "\n",
      "Mean absolute error:  65.50882642712915\n",
      "Mean squared error:  10280.247760141161\n",
      "Root Mean squared error:  101.39155665113915\n"
     ]
    }
   ],
   "source": [
    "gbr=GradientBoostingRegressor(random_state=4, n_estimators=500)\n",
    "gbr.fit(x_train,y_train)\n",
    "pred=gbr.predict(x_test)\n",
    "print(\"r2_score: \",r2_score(y_test,pred)*100)\n",
    "print('Cross validation score: ',cross_val_score(gbr,x,y,cv=5,scoring='r2').mean()*100)\n",
    "print('Standard deviation: ',cross_val_score(gbr,x,y,cv=5,scoring='r2').std())\n",
    "print('\\n')\n",
    "print('Mean absolute error: ',mean_absolute_error(y_test,pred))\n",
    "print('Mean squared error: ',mean_squared_error(y_test,pred))\n",
    "print('Root Mean squared error: ',np.sqrt(mean_squared_error(y_test,pred)))"
   ]
  },
  {
   "cell_type": "code",
   "execution_count": 73,
   "metadata": {},
   "outputs": [],
   "source": [
    "#finalizing the model\n",
    "svr_prediction=svr.predict(x)"
   ]
  },
  {
   "cell_type": "code",
   "execution_count": 74,
   "metadata": {},
   "outputs": [],
   "source": [
    "#Saving the model\n",
    "import pickle\n",
    "filename='carused.pkl' \n",
    "pickle.dump(svr,open(filename,'wb'))"
   ]
  },
  {
   "cell_type": "code",
   "execution_count": 75,
   "metadata": {},
   "outputs": [],
   "source": [
    "#loading the save model\n",
    "fitted_model=pickle.load(open('carused.pkl','rb'))"
   ]
  },
  {
   "cell_type": "code",
   "execution_count": 76,
   "metadata": {},
   "outputs": [],
   "source": [
    "#prediction over test data\n",
    "test_predictions=fitted_model.predict(x)"
   ]
  },
  {
   "cell_type": "code",
   "execution_count": 77,
   "metadata": {},
   "outputs": [
    {
     "data": {
      "text/html": [
       "<div>\n",
       "<style scoped>\n",
       "    .dataframe tbody tr th:only-of-type {\n",
       "        vertical-align: middle;\n",
       "    }\n",
       "\n",
       "    .dataframe tbody tr th {\n",
       "        vertical-align: top;\n",
       "    }\n",
       "\n",
       "    .dataframe thead th {\n",
       "        text-align: right;\n",
       "    }\n",
       "</style>\n",
       "<table border=\"1\" class=\"dataframe\">\n",
       "  <thead>\n",
       "    <tr style=\"text-align: right;\">\n",
       "      <th></th>\n",
       "      <th>Price</th>\n",
       "    </tr>\n",
       "  </thead>\n",
       "  <tbody>\n",
       "    <tr>\n",
       "      <th>0</th>\n",
       "      <td>395.514824</td>\n",
       "    </tr>\n",
       "    <tr>\n",
       "      <th>1</th>\n",
       "      <td>399.869220</td>\n",
       "    </tr>\n",
       "    <tr>\n",
       "      <th>2</th>\n",
       "      <td>394.529935</td>\n",
       "    </tr>\n",
       "    <tr>\n",
       "      <th>3</th>\n",
       "      <td>382.316549</td>\n",
       "    </tr>\n",
       "    <tr>\n",
       "      <th>4</th>\n",
       "      <td>384.567443</td>\n",
       "    </tr>\n",
       "    <tr>\n",
       "      <th>...</th>\n",
       "      <td>...</td>\n",
       "    </tr>\n",
       "    <tr>\n",
       "      <th>4139</th>\n",
       "      <td>386.107818</td>\n",
       "    </tr>\n",
       "    <tr>\n",
       "      <th>4140</th>\n",
       "      <td>381.463238</td>\n",
       "    </tr>\n",
       "    <tr>\n",
       "      <th>4141</th>\n",
       "      <td>385.968233</td>\n",
       "    </tr>\n",
       "    <tr>\n",
       "      <th>4142</th>\n",
       "      <td>336.280238</td>\n",
       "    </tr>\n",
       "    <tr>\n",
       "      <th>4143</th>\n",
       "      <td>387.593241</td>\n",
       "    </tr>\n",
       "  </tbody>\n",
       "</table>\n",
       "<p>4144 rows × 1 columns</p>\n",
       "</div>"
      ],
      "text/plain": [
       "           Price\n",
       "0     395.514824\n",
       "1     399.869220\n",
       "2     394.529935\n",
       "3     382.316549\n",
       "4     384.567443\n",
       "...          ...\n",
       "4139  386.107818\n",
       "4140  381.463238\n",
       "4141  385.968233\n",
       "4142  336.280238\n",
       "4143  387.593241\n",
       "\n",
       "[4144 rows x 1 columns]"
      ]
     },
     "execution_count": 77,
     "metadata": {},
     "output_type": "execute_result"
    }
   ],
   "source": [
    "test_predictions=pd.DataFrame(test_predictions,columns=['Price'])\n",
    "test_predictions"
   ]
  },
  {
   "cell_type": "markdown",
   "metadata": {},
   "source": [
    "selected svr model as its giving the accuracy of 92%"
   ]
  },
  {
   "cell_type": "code",
   "execution_count": null,
   "metadata": {},
   "outputs": [],
   "source": []
  }
 ],
 "metadata": {
  "kernelspec": {
   "display_name": "Python 3",
   "language": "python",
   "name": "python3"
  },
  "language_info": {
   "codemirror_mode": {
    "name": "ipython",
    "version": 3
   },
   "file_extension": ".py",
   "mimetype": "text/x-python",
   "name": "python",
   "nbconvert_exporter": "python",
   "pygments_lexer": "ipython3",
   "version": "3.7.6"
  }
 },
 "nbformat": 4,
 "nbformat_minor": 4
}
